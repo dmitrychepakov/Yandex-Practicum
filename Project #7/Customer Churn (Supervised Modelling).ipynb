{
 "cells": [
  {
   "cell_type": "markdown",
   "metadata": {
    "toc": true
   },
   "source": [
    "<h1>Содержание<span class=\"tocSkip\"></span></h1>\n",
    "<div class=\"toc\"><ul class=\"toc-item\"><li><span><a href=\"#Подготовка-данных\" data-toc-modified-id=\"Подготовка-данных-1\"><span class=\"toc-item-num\">1&nbsp;&nbsp;</span>Подготовка данных</a></span></li><li><span><a href=\"#Исследование-задачи\" data-toc-modified-id=\"Исследование-задачи-2\"><span class=\"toc-item-num\">2&nbsp;&nbsp;</span>Исследование задачи</a></span></li><li><span><a href=\"#Борьба-с-дисбалансом\" data-toc-modified-id=\"Борьба-с-дисбалансом-3\"><span class=\"toc-item-num\">3&nbsp;&nbsp;</span>Борьба с дисбалансом</a></span><ul class=\"toc-item\"><li><span><a href=\"#Взвешивание-классов\" data-toc-modified-id=\"Взвешивание-классов-3.1\"><span class=\"toc-item-num\">3.1&nbsp;&nbsp;</span>Взвешивание классов</a></span></li><li><span><a href=\"#Увеличение-выборки\" data-toc-modified-id=\"Увеличение-выборки-3.2\"><span class=\"toc-item-num\">3.2&nbsp;&nbsp;</span>Увеличение выборки</a></span></li></ul></li><li><span><a href=\"#Тестирование-модели\" data-toc-modified-id=\"Тестирование-модели-4\"><span class=\"toc-item-num\">4&nbsp;&nbsp;</span>Тестирование модели</a></span></li><li><span><a href=\"#Чек-лист-готовности-проекта\" data-toc-modified-id=\"Чек-лист-готовности-проекта-5\"><span class=\"toc-item-num\">5&nbsp;&nbsp;</span>Чек-лист готовности проекта</a></span></li></ul></div>"
   ]
  },
  {
   "cell_type": "markdown",
   "metadata": {},
   "source": [
    "# Отток клиентов"
   ]
  },
  {
   "cell_type": "markdown",
   "metadata": {},
   "source": [
    "Из «Бета-Банка» стали уходить клиенты. Каждый месяц. Немного, но заметно. Банковские маркетологи посчитали: сохранять текущих клиентов дешевле, чем привлекать новых.\n",
    "\n",
    "Нужно спрогнозировать, уйдёт клиент из банка в ближайшее время или нет. Вам предоставлены исторические данные о поведении клиентов и расторжении договоров с банком. \n",
    "\n",
    "Постройте модель с предельно большим значением *F1*-меры. Чтобы сдать проект успешно, нужно довести метрику до 0.59. Проверьте *F1*-меру на тестовой выборке самостоятельно.\n",
    "\n",
    "Дополнительно измеряйте *AUC-ROC*, сравнивайте её значение с *F1*-мерой.\n",
    "\n",
    "Источник данных: [https://www.kaggle.com/barelydedicated/bank-customer-churn-modeling](https://www.kaggle.com/barelydedicated/bank-customer-churn-modeling)"
   ]
  },
  {
   "cell_type": "markdown",
   "metadata": {},
   "source": [
    "## Подготовка данных"
   ]
  },
  {
   "cell_type": "code",
   "execution_count": 1,
   "metadata": {},
   "outputs": [],
   "source": [
    "import pandas as pd\n",
    "import numpy as np\n",
    "from matplotlib import pyplot as plt\n",
    "from sklearn.preprocessing import StandardScaler\n",
    "from sklearn.model_selection import train_test_split\n",
    "from sklearn.tree import DecisionTreeClassifier\n",
    "from sklearn.ensemble import RandomForestClassifier\n",
    "from sklearn.linear_model import LogisticRegression\n",
    "from sklearn.metrics import f1_score\n",
    "pd.options.mode.chained_assignment = None\n",
    "from sklearn.metrics import roc_curve\n",
    "from sklearn.metrics import roc_auc_score\n",
    "from sklearn.utils import shuffle\n",
    "pd.set_option ('display.float_format', '{:,.2f}'.format)"
   ]
  },
  {
   "cell_type": "code",
   "execution_count": 2,
   "metadata": {},
   "outputs": [],
   "source": [
    "df = pd.read_csv('Churn_Modelling.csv')"
   ]
  },
  {
   "cell_type": "code",
   "execution_count": 3,
   "metadata": {},
   "outputs": [
    {
     "name": "stdout",
     "output_type": "stream",
     "text": [
      "<class 'pandas.core.frame.DataFrame'>\n",
      "RangeIndex: 10000 entries, 0 to 9999\n",
      "Data columns (total 14 columns):\n",
      " #   Column           Non-Null Count  Dtype  \n",
      "---  ------           --------------  -----  \n",
      " 0   RowNumber        10000 non-null  int64  \n",
      " 1   CustomerId       10000 non-null  int64  \n",
      " 2   Surname          10000 non-null  object \n",
      " 3   CreditScore      10000 non-null  int64  \n",
      " 4   Geography        10000 non-null  object \n",
      " 5   Gender           10000 non-null  object \n",
      " 6   Age              10000 non-null  int64  \n",
      " 7   Tenure           10000 non-null  int64  \n",
      " 8   Balance          10000 non-null  float64\n",
      " 9   NumOfProducts    10000 non-null  int64  \n",
      " 10  HasCrCard        10000 non-null  int64  \n",
      " 11  IsActiveMember   10000 non-null  int64  \n",
      " 12  EstimatedSalary  10000 non-null  float64\n",
      " 13  Exited           10000 non-null  int64  \n",
      "dtypes: float64(2), int64(9), object(3)\n",
      "memory usage: 1.1+ MB\n"
     ]
    }
   ],
   "source": [
    "df.info()"
   ]
  },
  {
   "cell_type": "code",
   "execution_count": 4,
   "metadata": {
    "scrolled": true
   },
   "outputs": [
    {
     "data": {
      "text/html": [
       "<div>\n",
       "<style scoped>\n",
       "    .dataframe tbody tr th:only-of-type {\n",
       "        vertical-align: middle;\n",
       "    }\n",
       "\n",
       "    .dataframe tbody tr th {\n",
       "        vertical-align: top;\n",
       "    }\n",
       "\n",
       "    .dataframe thead th {\n",
       "        text-align: right;\n",
       "    }\n",
       "</style>\n",
       "<table border=\"1\" class=\"dataframe\">\n",
       "  <thead>\n",
       "    <tr style=\"text-align: right;\">\n",
       "      <th></th>\n",
       "      <th>RowNumber</th>\n",
       "      <th>CustomerId</th>\n",
       "      <th>Surname</th>\n",
       "      <th>CreditScore</th>\n",
       "      <th>Geography</th>\n",
       "      <th>Gender</th>\n",
       "      <th>Age</th>\n",
       "      <th>Tenure</th>\n",
       "      <th>Balance</th>\n",
       "      <th>NumOfProducts</th>\n",
       "      <th>HasCrCard</th>\n",
       "      <th>IsActiveMember</th>\n",
       "      <th>EstimatedSalary</th>\n",
       "      <th>Exited</th>\n",
       "    </tr>\n",
       "  </thead>\n",
       "  <tbody>\n",
       "    <tr>\n",
       "      <th>0</th>\n",
       "      <td>1</td>\n",
       "      <td>15634602</td>\n",
       "      <td>Hargrave</td>\n",
       "      <td>619</td>\n",
       "      <td>France</td>\n",
       "      <td>Female</td>\n",
       "      <td>42</td>\n",
       "      <td>2</td>\n",
       "      <td>0.00</td>\n",
       "      <td>1</td>\n",
       "      <td>1</td>\n",
       "      <td>1</td>\n",
       "      <td>101,348.88</td>\n",
       "      <td>1</td>\n",
       "    </tr>\n",
       "    <tr>\n",
       "      <th>1</th>\n",
       "      <td>2</td>\n",
       "      <td>15647311</td>\n",
       "      <td>Hill</td>\n",
       "      <td>608</td>\n",
       "      <td>Spain</td>\n",
       "      <td>Female</td>\n",
       "      <td>41</td>\n",
       "      <td>1</td>\n",
       "      <td>83,807.86</td>\n",
       "      <td>1</td>\n",
       "      <td>0</td>\n",
       "      <td>1</td>\n",
       "      <td>112,542.58</td>\n",
       "      <td>0</td>\n",
       "    </tr>\n",
       "    <tr>\n",
       "      <th>2</th>\n",
       "      <td>3</td>\n",
       "      <td>15619304</td>\n",
       "      <td>Onio</td>\n",
       "      <td>502</td>\n",
       "      <td>France</td>\n",
       "      <td>Female</td>\n",
       "      <td>42</td>\n",
       "      <td>8</td>\n",
       "      <td>159,660.80</td>\n",
       "      <td>3</td>\n",
       "      <td>1</td>\n",
       "      <td>0</td>\n",
       "      <td>113,931.57</td>\n",
       "      <td>1</td>\n",
       "    </tr>\n",
       "    <tr>\n",
       "      <th>3</th>\n",
       "      <td>4</td>\n",
       "      <td>15701354</td>\n",
       "      <td>Boni</td>\n",
       "      <td>699</td>\n",
       "      <td>France</td>\n",
       "      <td>Female</td>\n",
       "      <td>39</td>\n",
       "      <td>1</td>\n",
       "      <td>0.00</td>\n",
       "      <td>2</td>\n",
       "      <td>0</td>\n",
       "      <td>0</td>\n",
       "      <td>93,826.63</td>\n",
       "      <td>0</td>\n",
       "    </tr>\n",
       "    <tr>\n",
       "      <th>4</th>\n",
       "      <td>5</td>\n",
       "      <td>15737888</td>\n",
       "      <td>Mitchell</td>\n",
       "      <td>850</td>\n",
       "      <td>Spain</td>\n",
       "      <td>Female</td>\n",
       "      <td>43</td>\n",
       "      <td>2</td>\n",
       "      <td>125,510.82</td>\n",
       "      <td>1</td>\n",
       "      <td>1</td>\n",
       "      <td>1</td>\n",
       "      <td>79,084.10</td>\n",
       "      <td>0</td>\n",
       "    </tr>\n",
       "  </tbody>\n",
       "</table>\n",
       "</div>"
      ],
      "text/plain": [
       "   RowNumber  CustomerId   Surname  CreditScore Geography  Gender  Age  \\\n",
       "0          1    15634602  Hargrave          619    France  Female   42   \n",
       "1          2    15647311      Hill          608     Spain  Female   41   \n",
       "2          3    15619304      Onio          502    France  Female   42   \n",
       "3          4    15701354      Boni          699    France  Female   39   \n",
       "4          5    15737888  Mitchell          850     Spain  Female   43   \n",
       "\n",
       "   Tenure    Balance  NumOfProducts  HasCrCard  IsActiveMember  \\\n",
       "0       2       0.00              1          1               1   \n",
       "1       1  83,807.86              1          0               1   \n",
       "2       8 159,660.80              3          1               0   \n",
       "3       1       0.00              2          0               0   \n",
       "4       2 125,510.82              1          1               1   \n",
       "\n",
       "   EstimatedSalary  Exited  \n",
       "0       101,348.88       1  \n",
       "1       112,542.58       0  \n",
       "2       113,931.57       1  \n",
       "3        93,826.63       0  \n",
       "4        79,084.10       0  "
      ]
     },
     "execution_count": 4,
     "metadata": {},
     "output_type": "execute_result"
    }
   ],
   "source": [
    "df.head()"
   ]
  },
  {
   "cell_type": "code",
   "execution_count": 5,
   "metadata": {},
   "outputs": [
    {
     "data": {
      "text/html": [
       "<div>\n",
       "<style scoped>\n",
       "    .dataframe tbody tr th:only-of-type {\n",
       "        vertical-align: middle;\n",
       "    }\n",
       "\n",
       "    .dataframe tbody tr th {\n",
       "        vertical-align: top;\n",
       "    }\n",
       "\n",
       "    .dataframe thead th {\n",
       "        text-align: right;\n",
       "    }\n",
       "</style>\n",
       "<table border=\"1\" class=\"dataframe\">\n",
       "  <thead>\n",
       "    <tr style=\"text-align: right;\">\n",
       "      <th></th>\n",
       "      <th>RowNumber</th>\n",
       "      <th>CustomerId</th>\n",
       "      <th>CreditScore</th>\n",
       "      <th>Age</th>\n",
       "      <th>Tenure</th>\n",
       "      <th>Balance</th>\n",
       "      <th>NumOfProducts</th>\n",
       "      <th>HasCrCard</th>\n",
       "      <th>IsActiveMember</th>\n",
       "      <th>EstimatedSalary</th>\n",
       "      <th>Exited</th>\n",
       "    </tr>\n",
       "  </thead>\n",
       "  <tbody>\n",
       "    <tr>\n",
       "      <th>count</th>\n",
       "      <td>10,000.00</td>\n",
       "      <td>10,000.00</td>\n",
       "      <td>10,000.00</td>\n",
       "      <td>10,000.00</td>\n",
       "      <td>10,000.00</td>\n",
       "      <td>10,000.00</td>\n",
       "      <td>10,000.00</td>\n",
       "      <td>10,000.00</td>\n",
       "      <td>10,000.00</td>\n",
       "      <td>10,000.00</td>\n",
       "      <td>10,000.00</td>\n",
       "    </tr>\n",
       "    <tr>\n",
       "      <th>mean</th>\n",
       "      <td>5,000.50</td>\n",
       "      <td>15,690,940.57</td>\n",
       "      <td>650.53</td>\n",
       "      <td>38.92</td>\n",
       "      <td>5.01</td>\n",
       "      <td>76,485.89</td>\n",
       "      <td>1.53</td>\n",
       "      <td>0.71</td>\n",
       "      <td>0.52</td>\n",
       "      <td>100,090.24</td>\n",
       "      <td>0.20</td>\n",
       "    </tr>\n",
       "    <tr>\n",
       "      <th>std</th>\n",
       "      <td>2,886.90</td>\n",
       "      <td>71,936.19</td>\n",
       "      <td>96.65</td>\n",
       "      <td>10.49</td>\n",
       "      <td>2.89</td>\n",
       "      <td>62,397.41</td>\n",
       "      <td>0.58</td>\n",
       "      <td>0.46</td>\n",
       "      <td>0.50</td>\n",
       "      <td>57,510.49</td>\n",
       "      <td>0.40</td>\n",
       "    </tr>\n",
       "    <tr>\n",
       "      <th>min</th>\n",
       "      <td>1.00</td>\n",
       "      <td>15,565,701.00</td>\n",
       "      <td>350.00</td>\n",
       "      <td>18.00</td>\n",
       "      <td>0.00</td>\n",
       "      <td>0.00</td>\n",
       "      <td>1.00</td>\n",
       "      <td>0.00</td>\n",
       "      <td>0.00</td>\n",
       "      <td>11.58</td>\n",
       "      <td>0.00</td>\n",
       "    </tr>\n",
       "    <tr>\n",
       "      <th>25%</th>\n",
       "      <td>2,500.75</td>\n",
       "      <td>15,628,528.25</td>\n",
       "      <td>584.00</td>\n",
       "      <td>32.00</td>\n",
       "      <td>3.00</td>\n",
       "      <td>0.00</td>\n",
       "      <td>1.00</td>\n",
       "      <td>0.00</td>\n",
       "      <td>0.00</td>\n",
       "      <td>51,002.11</td>\n",
       "      <td>0.00</td>\n",
       "    </tr>\n",
       "    <tr>\n",
       "      <th>50%</th>\n",
       "      <td>5,000.50</td>\n",
       "      <td>15,690,738.00</td>\n",
       "      <td>652.00</td>\n",
       "      <td>37.00</td>\n",
       "      <td>5.00</td>\n",
       "      <td>97,198.54</td>\n",
       "      <td>1.00</td>\n",
       "      <td>1.00</td>\n",
       "      <td>1.00</td>\n",
       "      <td>100,193.91</td>\n",
       "      <td>0.00</td>\n",
       "    </tr>\n",
       "    <tr>\n",
       "      <th>75%</th>\n",
       "      <td>7,500.25</td>\n",
       "      <td>15,753,233.75</td>\n",
       "      <td>718.00</td>\n",
       "      <td>44.00</td>\n",
       "      <td>7.00</td>\n",
       "      <td>127,644.24</td>\n",
       "      <td>2.00</td>\n",
       "      <td>1.00</td>\n",
       "      <td>1.00</td>\n",
       "      <td>149,388.25</td>\n",
       "      <td>0.00</td>\n",
       "    </tr>\n",
       "    <tr>\n",
       "      <th>max</th>\n",
       "      <td>10,000.00</td>\n",
       "      <td>15,815,690.00</td>\n",
       "      <td>850.00</td>\n",
       "      <td>92.00</td>\n",
       "      <td>10.00</td>\n",
       "      <td>250,898.09</td>\n",
       "      <td>4.00</td>\n",
       "      <td>1.00</td>\n",
       "      <td>1.00</td>\n",
       "      <td>199,992.48</td>\n",
       "      <td>1.00</td>\n",
       "    </tr>\n",
       "  </tbody>\n",
       "</table>\n",
       "</div>"
      ],
      "text/plain": [
       "       RowNumber    CustomerId  CreditScore       Age    Tenure    Balance  \\\n",
       "count  10,000.00     10,000.00    10,000.00 10,000.00 10,000.00  10,000.00   \n",
       "mean    5,000.50 15,690,940.57       650.53     38.92      5.01  76,485.89   \n",
       "std     2,886.90     71,936.19        96.65     10.49      2.89  62,397.41   \n",
       "min         1.00 15,565,701.00       350.00     18.00      0.00       0.00   \n",
       "25%     2,500.75 15,628,528.25       584.00     32.00      3.00       0.00   \n",
       "50%     5,000.50 15,690,738.00       652.00     37.00      5.00  97,198.54   \n",
       "75%     7,500.25 15,753,233.75       718.00     44.00      7.00 127,644.24   \n",
       "max    10,000.00 15,815,690.00       850.00     92.00     10.00 250,898.09   \n",
       "\n",
       "       NumOfProducts  HasCrCard  IsActiveMember  EstimatedSalary    Exited  \n",
       "count      10,000.00  10,000.00       10,000.00        10,000.00 10,000.00  \n",
       "mean            1.53       0.71            0.52       100,090.24      0.20  \n",
       "std             0.58       0.46            0.50        57,510.49      0.40  \n",
       "min             1.00       0.00            0.00            11.58      0.00  \n",
       "25%             1.00       0.00            0.00        51,002.11      0.00  \n",
       "50%             1.00       1.00            1.00       100,193.91      0.00  \n",
       "75%             2.00       1.00            1.00       149,388.25      0.00  \n",
       "max             4.00       1.00            1.00       199,992.48      1.00  "
      ]
     },
     "execution_count": 5,
     "metadata": {},
     "output_type": "execute_result"
    }
   ],
   "source": [
    "df.describe()"
   ]
  },
  {
   "cell_type": "code",
   "execution_count": 6,
   "metadata": {},
   "outputs": [
    {
     "data": {
      "text/plain": [
       "0"
      ]
     },
     "execution_count": 6,
     "metadata": {},
     "output_type": "execute_result"
    }
   ],
   "source": [
    "df.duplicated().sum()"
   ]
  },
  {
   "cell_type": "markdown",
   "metadata": {},
   "source": [
    "Ключевые результаты рассмотрения датасета:"
   ]
  },
  {
   "cell_type": "markdown",
   "metadata": {},
   "source": [
    "- возраст клиентов банка от 18 до 92 лет;\n",
    "- скорее всего, банк возник сравнительно недавно - клиенты пользуются его продуктами не больше 10 лет;\n",
    "- значения balance и estimated salary, кстати, банковская тайна :( ;\n",
    "- в среднем, клиенты банка пользуются 1,5 его финансовыми продуктами. Максимальное количество продуктов банка, которые используют самые активные и лояльные клиенты - 4;\n",
    "- среднее по столбцу HasCrCard = 0.7, большинство клиентов пользуются кредитными картами банка."
   ]
  },
  {
   "cell_type": "markdown",
   "metadata": {},
   "source": [
    "Прежде всего требуется:"
   ]
  },
  {
   "cell_type": "markdown",
   "metadata": {},
   "source": [
    "1) удалить столбцы \"RowNumber\", \"СustomerID\", \"Surname\" - они не влияют на прогноз;\n",
    "\n",
    "2) привести наименования оставшихся столбцов к snake_case;\n",
    "\n",
    "3) принять решение о заполнении нулями пропусков в столбце \"Tenure\", либо об их удалении"
   ]
  },
  {
   "cell_type": "code",
   "execution_count": 7,
   "metadata": {},
   "outputs": [],
   "source": [
    "# удаляем столбцы\n",
    "df.drop(['RowNumber', 'CustomerId', 'Surname'], axis =1, inplace = True) "
   ]
  },
  {
   "cell_type": "code",
   "execution_count": 8,
   "metadata": {},
   "outputs": [],
   "source": [
    "# приводим наименования оставшихся столбцов к snake_case\n",
    "df.columns = ['credit_score', 'geography','gender', 'age', 'tenure', 'balance', \n",
    "              'num_of_products', 'has_crcard','isactive_member', \n",
    "              'estimated_salary', 'exited']"
   ]
  },
  {
   "cell_type": "markdown",
   "metadata": {},
   "source": [
    "Согласно описанию, значение Tenure = количество лет, которые человек является клиентом банка. Ознакомимся со значениями в столбце:"
   ]
  },
  {
   "cell_type": "code",
   "execution_count": 9,
   "metadata": {},
   "outputs": [
    {
     "data": {
      "text/plain": [
       "count   10,000.00\n",
       "mean         5.01\n",
       "std          2.89\n",
       "min          0.00\n",
       "25%          3.00\n",
       "50%          5.00\n",
       "75%          7.00\n",
       "max         10.00\n",
       "Name: tenure, dtype: float64"
      ]
     },
     "execution_count": 9,
     "metadata": {},
     "output_type": "execute_result"
    }
   ],
   "source": [
    "df['tenure'].describe()"
   ]
  },
  {
   "cell_type": "code",
   "execution_count": 10,
   "metadata": {},
   "outputs": [
    {
     "data": {
      "text/plain": [
       "<AxesSubplot:>"
      ]
     },
     "execution_count": 10,
     "metadata": {},
     "output_type": "execute_result"
    },
    {
     "data": {
      "image/png": "[encoded data removed]",
      "text/plain": [
       "<Figure size 432x288 with 1 Axes>"
      ]
     },
     "metadata": {
      "needs_background": "light"
     },
     "output_type": "display_data"
    }
   ],
   "source": [
    "df['tenure'].hist()"
   ]
  },
  {
   "cell_type": "code",
   "execution_count": 11,
   "metadata": {},
   "outputs": [
    {
     "data": {
      "text/html": [
       "<div>\n",
       "<style scoped>\n",
       "    .dataframe tbody tr th:only-of-type {\n",
       "        vertical-align: middle;\n",
       "    }\n",
       "\n",
       "    .dataframe tbody tr th {\n",
       "        vertical-align: top;\n",
       "    }\n",
       "\n",
       "    .dataframe thead th {\n",
       "        text-align: right;\n",
       "    }\n",
       "</style>\n",
       "<table border=\"1\" class=\"dataframe\">\n",
       "  <thead>\n",
       "    <tr style=\"text-align: right;\">\n",
       "      <th></th>\n",
       "      <th>credit_score</th>\n",
       "      <th>geography</th>\n",
       "      <th>gender</th>\n",
       "      <th>age</th>\n",
       "      <th>tenure</th>\n",
       "      <th>balance</th>\n",
       "      <th>num_of_products</th>\n",
       "      <th>has_crcard</th>\n",
       "      <th>isactive_member</th>\n",
       "      <th>estimated_salary</th>\n",
       "      <th>exited</th>\n",
       "    </tr>\n",
       "  </thead>\n",
       "  <tbody>\n",
       "  </tbody>\n",
       "</table>\n",
       "</div>"
      ],
      "text/plain": [
       "Empty DataFrame\n",
       "Columns: [credit_score, geography, gender, age, tenure, balance, num_of_products, has_crcard, isactive_member, estimated_salary, exited]\n",
       "Index: []"
      ]
     },
     "execution_count": 11,
     "metadata": {},
     "output_type": "execute_result"
    }
   ],
   "source": [
    "df[df['tenure'].isna()].head(20)"
   ]
  },
  {
   "cell_type": "code",
   "execution_count": 12,
   "metadata": {
    "scrolled": true
   },
   "outputs": [
    {
     "data": {
      "text/plain": [
       "2     1048\n",
       "1     1035\n",
       "7     1028\n",
       "8     1025\n",
       "5     1012\n",
       "3     1009\n",
       "4      989\n",
       "9      984\n",
       "6      967\n",
       "10     490\n",
       "0      413\n",
       "Name: tenure, dtype: int64"
      ]
     },
     "execution_count": 12,
     "metadata": {},
     "output_type": "execute_result"
    }
   ],
   "source": [
    "df['tenure'].value_counts()"
   ]
  },
  {
   "cell_type": "code",
   "execution_count": 13,
   "metadata": {},
   "outputs": [
    {
     "data": {
      "text/plain": [
       "0"
      ]
     },
     "execution_count": 13,
     "metadata": {},
     "output_type": "execute_result"
    }
   ],
   "source": [
    "df['tenure'].isna().sum()"
   ]
  },
  {
   "cell_type": "markdown",
   "metadata": {},
   "source": [
    "По столбцу tenure наблюдается 909 пропусков. Интересно, что в случае, если данные клиенты являются новыми, по ним не отразилось значение 0 в указанном столбце. Предположим, что система обновляет базу данных на определенной регулярной основе - например, по состоянию на 01.01 очередного года. Вместе с тем, требуется дополнительное возаимодействие с представителями банка в целях изучения причины пропусков по данному столбцу. "
   ]
  },
  {
   "cell_type": "markdown",
   "metadata": {},
   "source": [
    "Предлагаю заполнить пропуски в графе \"tenure\" нулями."
   ]
  },
  {
   "cell_type": "code",
   "execution_count": 14,
   "metadata": {},
   "outputs": [],
   "source": [
    "df['tenure'].fillna(0, inplace=True)"
   ]
  },
  {
   "cell_type": "markdown",
   "metadata": {},
   "source": [
    "Изучим 3 отдельные взаимосвязи в датасете."
   ]
  },
  {
   "cell_type": "markdown",
   "metadata": {},
   "source": [
    "1. Рассмотрим долю ушедших из банка клиентов по отношению к общему количеству клиентов"
   ]
  },
  {
   "cell_type": "markdown",
   "metadata": {},
   "source": [
    "<a id='pie'></a>"
   ]
  },
  {
   "cell_type": "code",
   "execution_count": 15,
   "metadata": {},
   "outputs": [
    {
     "data": {
      "image/png": "[encoded data removed]",
      "text/plain": [
       "<Figure size 432x288 with 1 Axes>"
      ]
     },
     "metadata": {},
     "output_type": "display_data"
    }
   ],
   "source": [
    "non_exit = len(df[df['exited']==0])\n",
    "exit = len(df[df['exited']==1])\n",
    "\n",
    "fig1, ax1 = plt.subplots()\n",
    "plt.title('Ratio of exited vs non-exited customer')\n",
    "ax1.pie([non_exit, exit], labels=['non-exit', 'exited'],\n",
    "       colors=['r', 'g'], autopct='%1.1f%%',\n",
    "       shadow=True)\n",
    "ax1.axis('equal')\n",
    "plt.show()"
   ]
  },
  {
   "cell_type": "markdown",
   "metadata": {},
   "source": [
    "Из представленного графика следует, что из банка ушла четверть клиентов."
   ]
  },
  {
   "cell_type": "markdown",
   "metadata": {},
   "source": [
    "2. Согласно данным в датасете \"Бета-Банк\" работает в трех странах - Франции, Испании и Германии. Рассмотрим ситуацию с уходом клиентов в этих странах."
   ]
  },
  {
   "cell_type": "code",
   "execution_count": 16,
   "metadata": {
    "scrolled": false
   },
   "outputs": [
    {
     "data": {
      "image/png": "[encoded data removed]",
      "text/plain": [
       "<Figure size 432x288 with 1 Axes>"
      ]
     },
     "metadata": {
      "needs_background": "light"
     },
     "output_type": "display_data"
    }
   ],
   "source": [
    "exited_yes= df[df['exited'] == 1]['geography']\n",
    "exited_no = df[df['exited'] == 0]['geography']\n",
    "\n",
    "plt.hist([exited_yes,exited_no],label=(\"Exited\",\"Non-Exited\"))\n",
    "plt.xlabel(\"Country\")\n",
    "plt.ylabel(\"Number of People\")\n",
    "plt.title('Distribution of exited & non-exited customers between countries ')\n",
    "plt.legend();"
   ]
  },
  {
   "cell_type": "markdown",
   "metadata": {},
   "source": [
    "Лидирует по количеству клиентов Франция (5014 клиентов), в Германии обслуживается 2509 человек, в Испании - 2477. Вместе с тем, лидирующую позицию как по абсолютному значению оттока клиентов (814 клиентов), так и по относительному (32 процента ушедших от общего количества клиентов) занимает Германия, за ней следует Франция (810 ушедших клиентов или 16 процентов от общего количества). В Испании ушло 413 клиентов или 16 процентов от общего количества."
   ]
  },
  {
   "cell_type": "markdown",
   "metadata": {},
   "source": [
    "3. Рассмотрим, меняется ли факт ухода клиента из банка исходя из количества лет обслуживания."
   ]
  },
  {
   "cell_type": "code",
   "execution_count": 17,
   "metadata": {},
   "outputs": [
    {
     "data": {
      "image/png": "[encoded data removed]",
      "text/plain": [
       "<Figure size 432x288 with 1 Axes>"
      ]
     },
     "metadata": {
      "needs_background": "light"
     },
     "output_type": "display_data"
    }
   ],
   "source": [
    "tenure_yes = df[df.exited ==1].tenure\n",
    "tenure_no = df[df.exited ==0].tenure\n",
    "\n",
    "plt.hist([tenure_yes, tenure_no], label = (\"Yes\", \"No\"))\n",
    "plt.xlabel(\"Tenure\")\n",
    "plt.ylabel(\"Number of People\")\n",
    "plt.legend();"
   ]
  },
  {
   "cell_type": "markdown",
   "metadata": {},
   "source": [
    "Исходя из представленного графика представляется отсутствие тесных корреляций между тем, сколько лет клиенты обслуживаются в Бета-Банке, и фактом их ухода. Распределение относительно равномерное во взаимосвязи с общим количеством клиентов. Это странно - уходят даже лояльные клиенты и уходят стабильно после 5-6 летнего сотрудничества с банком."
   ]
  },
  {
   "cell_type": "markdown",
   "metadata": {},
   "source": [
    "Подготовим выборки для операций ML."
   ]
  },
  {
   "cell_type": "code",
   "execution_count": 18,
   "metadata": {},
   "outputs": [],
   "source": [
    "features = df.drop('exited', axis = 1) # это признаки\n",
    "target = df['exited'] #это целевой признак"
   ]
  },
  {
   "cell_type": "code",
   "execution_count": 19,
   "metadata": {},
   "outputs": [
    {
     "data": {
      "text/plain": [
       "(10000, 11)"
      ]
     },
     "execution_count": 19,
     "metadata": {},
     "output_type": "execute_result"
    }
   ],
   "source": [
    "features = pd.get_dummies (features, drop_first=True) #получаем дамми-признаки через OHE\n",
    "features.shape"
   ]
  },
  {
   "cell_type": "markdown",
   "metadata": {},
   "source": [
    "Разбиваем данные на обучающую (60%), валидационную (20%) и тестовую (20%) выборки."
   ]
  },
  {
   "cell_type": "code",
   "execution_count": 20,
   "metadata": {},
   "outputs": [],
   "source": [
    "features_train, features_valid_test, target_train, target_valid_test = train_test_split(\n",
    "    features, target, test_size = 0.4, random_state = 12345)\n",
    "\n",
    "features_valid, features_test, target_valid, target_test = train_test_split(\n",
    "    features_valid_test, target_valid_test, test_size = 0.5, random_state = 123456)"
   ]
  },
  {
   "cell_type": "code",
   "execution_count": 21,
   "metadata": {},
   "outputs": [
    {
     "name": "stdout",
     "output_type": "stream",
     "text": [
      "Размеры выборок с признаками\n",
      "Обучающая (6000, 11)\n",
      "Тестовая (2000, 11) \n",
      "Валидационная (2000, 11)\n"
     ]
    }
   ],
   "source": [
    "print('Размеры выборок с признаками')\n",
    "print(f'Обучающая {features_train.shape}\\nТестовая {features_test.shape} \\nВалидационная {features_valid.shape}')"
   ]
  },
  {
   "cell_type": "code",
   "execution_count": 22,
   "metadata": {},
   "outputs": [
    {
     "name": "stdout",
     "output_type": "stream",
     "text": [
      "Размеры выборок с целевым признаком\n",
      "Обучающая (6000,)\n",
      "Тестовая (2000,)\n",
      "Валидационная (2000,)\n"
     ]
    }
   ],
   "source": [
    "print('Размеры выборок с целевым признаком')\n",
    "print(f'Обучающая {target_train.shape}\\nТестовая {target_test.shape}\\nВалидационная {target_valid.shape}')"
   ]
  },
  {
   "cell_type": "markdown",
   "metadata": {},
   "source": [
    "Масштабируем признаки."
   ]
  },
  {
   "cell_type": "code",
   "execution_count": 23,
   "metadata": {},
   "outputs": [],
   "source": [
    "numeric = ['credit_score', 'age', 'tenure','balance', 'num_of_products','has_crcard', 'isactive_member', 'estimated_salary'] \n",
    "\n",
    "scaler = StandardScaler()\n",
    "scaler.fit(features_train[numeric])\n",
    "\n",
    "features_train[numeric] = scaler.transform(features_train[numeric])\n",
    "features_valid[numeric] = scaler.transform(features_valid[numeric])\n",
    "features_test[numeric] = scaler.transform(features_test[numeric])"
   ]
  },
  {
   "cell_type": "markdown",
   "metadata": {},
   "source": [
    "**Вывод**"
   ]
  },
  {
   "cell_type": "markdown",
   "metadata": {},
   "source": [
    "Данные обработаны, наименования столбцов приведены в соответствие, из датасета удалены столбцы, не влияющие на прогноз. Пропуски в графе tenure заполнены нулями. Представлено несколько графиков с исследованиями отдельных показателей датасета и взаимосвязей между ними. Сформированы обучающая, тестовая и валидационная выборки для последующих операций ML, к значениям датасета применены механизмы One-Hot-Encoding и Scaler. "
   ]
  },
  {
   "cell_type": "markdown",
   "metadata": {},
   "source": [
    "## Исследование задачи"
   ]
  },
  {
   "cell_type": "code",
   "execution_count": 24,
   "metadata": {},
   "outputs": [
    {
     "name": "stdout",
     "output_type": "stream",
     "text": [
      "0.5738396624472574\n",
      "6\n"
     ]
    }
   ],
   "source": [
    "f1 = 0\n",
    "best_depth = 0\n",
    "\n",
    "for depth in range(5,30):\n",
    "    model = DecisionTreeClassifier(random_state=12345, max_depth = depth) #модель дерева решений\n",
    "    model.fit(features_train, target_train) # обучаем модель\n",
    "    predicted_valid = model.predict(features_valid) # прогнозирование на валидационной выборке \n",
    "    if f1_score(target_valid, predicted_valid) > f1: \n",
    "        f1 = f1_score(target_valid, predicted_valid) #расчет f1_score\n",
    "        best_depth = depth\n",
    "\n",
    "print(f1)\n",
    "print(best_depth)"
   ]
  },
  {
   "cell_type": "code",
   "execution_count": 25,
   "metadata": {},
   "outputs": [
    {
     "name": "stdout",
     "output_type": "stream",
     "text": [
      "0.3152866242038217\n"
     ]
    }
   ],
   "source": [
    "model = LogisticRegression(random_state = 123, solver='lbfgs') # модель логистической регрессии \n",
    "model.fit(features_train, target_train)  # обучение \n",
    "predicted_valid = model.predict(features_valid) # прогнозирование на валидационной выборке \n",
    "\n",
    "print(f1_score(target_valid, predicted_valid))"
   ]
  },
  {
   "cell_type": "code",
   "execution_count": 26,
   "metadata": {},
   "outputs": [
    {
     "name": "stdout",
     "output_type": "stream",
     "text": [
      "F1 score = 0.5678321678321679\n",
      "Число деревьев:  42\n",
      "Глубина дерева:  14\n"
     ]
    }
   ],
   "source": [
    "# модель случайного леса\n",
    "f1 = 0\n",
    "best_depth = 0  #глубина дерева\n",
    "best_est = 0   #число деревьев \n",
    "random_forest_model = None\n",
    "\n",
    "for est in range (30,100,4):\n",
    "    for depth in range (5, 15):\n",
    "        model = RandomForestClassifier(random_state = 12345, n_estimators = est, \n",
    "                                       max_depth = depth)  \n",
    "        model.fit(features_train, target_train)   # обучение\n",
    "        predicted_valid = model.predict(features_valid)  # предсказание на валидационной выборке \n",
    "        \n",
    "        if f1_score(target_valid, predicted_valid) > f1:\n",
    "            f1 = f1_score(target_valid, predicted_valid)   \n",
    "            best_model_random_forest = model\n",
    "            best_est = est\n",
    "            best_depth = depth\n",
    "            random_forest_model = model\n",
    "            \n",
    "print('F1 score =', f1)\n",
    "print('Число деревьев: ', best_est)\n",
    "print('Глубина дерева: ', best_depth)"
   ]
  },
  {
   "cell_type": "markdown",
   "metadata": {},
   "source": [
    "В наших моделях получены сравнительно низкие значения f1 score: для дерева решения его значение составило 0,57, для логистической регрессии - 0,31, для модели случайного леса - 0,56."
   ]
  },
  {
   "cell_type": "code",
   "execution_count": 27,
   "metadata": {},
   "outputs": [
    {
     "data": {
      "image/png": "[encoded data removed]",
      "text/plain": [
       "<Figure size 720x360 with 1 Axes>"
      ]
     },
     "metadata": {
      "needs_background": "light"
     },
     "output_type": "display_data"
    }
   ],
   "source": [
    "target.value_counts(normalize = True).plot(kind = 'barh', figsize = (10,5), grid = True);"
   ]
  },
  {
   "cell_type": "markdown",
   "metadata": {},
   "source": [
    "**Вывод**"
   ]
  },
  {
   "cell_type": "markdown",
   "metadata": {},
   "source": [
    "Построены модели дерева решений, логистической регрессии и случайного леса, произведен расчет f1 score для них, результаты которого показали низкое качество прогноза целевого признака. Кроме того, модель плохо работает по единицам (в выборке их количество составляет около 0.2 от общего количества показателей)."
   ]
  },
  {
   "cell_type": "markdown",
   "metadata": {},
   "source": [
    "## Борьба с дисбалансом"
   ]
  },
  {
   "cell_type": "markdown",
   "metadata": {},
   "source": [
    " ### Взвешивание классов\n"
   ]
  },
  {
   "cell_type": "markdown",
   "metadata": {},
   "source": [
    "Для борьбы с дисбалансом выберем метод взвешивания классов, при котором больший вес будет у редкого класса."
   ]
  },
  {
   "cell_type": "markdown",
   "metadata": {},
   "source": [
    "Применим метод к модели логистической регрессии."
   ]
  },
  {
   "cell_type": "code",
   "execution_count": 28,
   "metadata": {},
   "outputs": [
    {
     "name": "stdout",
     "output_type": "stream",
     "text": [
      "0.5028294260307196\n"
     ]
    }
   ],
   "source": [
    "model = LogisticRegression(random_state = 12345, solver='lbfgs', class_weight = 'balanced', max_iter = 7600)\n",
    "model.fit(features_train, target_train) #обучение\n",
    "predicted_valid = model.predict(features_valid) #прогнозирование \n",
    "\n",
    "print(f1_score(target_valid, predicted_valid))"
   ]
  },
  {
   "cell_type": "markdown",
   "metadata": {},
   "source": [
    " f1 score для модели логистической регрессии после использования class weight вырос с 0,31 до 0,50."
   ]
  },
  {
   "cell_type": "markdown",
   "metadata": {},
   "source": [
    "Применим метод к модели дерева решений."
   ]
  },
  {
   "cell_type": "code",
   "execution_count": 29,
   "metadata": {},
   "outputs": [
    {
     "name": "stdout",
     "output_type": "stream",
     "text": [
      "0.6104023552502453\n",
      "5\n"
     ]
    }
   ],
   "source": [
    "f1 = 0\n",
    "best_depth = 0\n",
    "\n",
    "for depth in range(1,30):\n",
    "    model = DecisionTreeClassifier(random_state=12345, max_depth = depth, class_weight = 'balanced')\n",
    "    model.fit(features_train, target_train) \n",
    "    predicted_valid = model.predict(features_valid)\n",
    "    if f1_score(target_valid, predicted_valid) > f1:\n",
    "        f1 = f1_score(target_valid, predicted_valid)\n",
    "        best_depth = depth\n",
    "\n",
    "print(f1)\n",
    "print(best_depth)"
   ]
  },
  {
   "cell_type": "markdown",
   "metadata": {},
   "source": [
    "f1 score для модели дерева решений после использования class weight вырос с 0,57 до 0,61."
   ]
  },
  {
   "cell_type": "markdown",
   "metadata": {},
   "source": [
    "Применим метод к модели случайного леса."
   ]
  },
  {
   "cell_type": "code",
   "execution_count": 30,
   "metadata": {},
   "outputs": [
    {
     "name": "stdout",
     "output_type": "stream",
     "text": [
      "F1-score = 0.6352941176470588\n",
      "Число деревьев:  41\n",
      "Глубина дерева:  7\n"
     ]
    }
   ],
   "source": [
    "#Случайный лес\n",
    "f1 = 0\n",
    "best_depth = 0  #глубина дерева\n",
    "best_est = 0   #число деревьев \n",
    "random_forest_model = None\n",
    "\n",
    "for est in range (10,60):\n",
    "    for depth in range (5, 15):\n",
    "        model = RandomForestClassifier(random_state = 12345, n_estimators = est, \n",
    "                                       max_depth = depth, class_weight = 'balanced')  \n",
    "        model.fit(features_train, target_train)   # обучение\n",
    "        predicted_valid = model.predict(features_valid)  # предсказание на валидационной выборке \n",
    "        \n",
    "        if f1_score(target_valid, predicted_valid) > f1:\n",
    "            f1 = f1_score(target_valid, predicted_valid)   \n",
    "            best_model_random_forest = model\n",
    "            best_est = est\n",
    "            best_depth = depth\n",
    "            random_forest_model = model\n",
    "\n",
    "                \n",
    "                \n",
    "print('F1-score =', f1)\n",
    "print('Число деревьев: ', best_est)\n",
    "print('Глубина дерева: ', best_depth)"
   ]
  },
  {
   "cell_type": "markdown",
   "metadata": {},
   "source": [
    " f1 score для модели случайного леса после использования class weight вырос с 0,56 до 0,63."
   ]
  },
  {
   "cell_type": "markdown",
   "metadata": {},
   "source": [
    "###  Увеличение выборки"
   ]
  },
  {
   "cell_type": "markdown",
   "metadata": {},
   "source": [
    "Применим технику upsample, при которой придание баланса классам происходит путем увеличения числа."
   ]
  },
  {
   "cell_type": "markdown",
   "metadata": {},
   "source": [
    "Функция upsample():"
   ]
  },
  {
   "cell_type": "code",
   "execution_count": 31,
   "metadata": {},
   "outputs": [],
   "source": [
    "def upsample(features, target, repeat):\n",
    "    features_zeros = features[target == 0]\n",
    "    features_ones = features[target == 1]\n",
    "    target_zeros = target[target == 0]\n",
    "    target_ones = target[target == 1]\n",
    "    \n",
    "    features_upsampled = pd.concat([features_zeros] + [features_ones] * repeat)\n",
    "    target_upsampled = pd.concat([target_zeros] + [target_ones] * repeat)\n",
    "    \n",
    "    features_upsampled, target_upsampled = shuffle(\n",
    "        features_upsampled, target_upsampled, random_state = 12345)\n",
    "    \n",
    "    return features_upsampled, target_upsampled"
   ]
  },
  {
   "cell_type": "code",
   "execution_count": 32,
   "metadata": {},
   "outputs": [],
   "source": [
    "features_upsampled, target_upsampled = upsample(\n",
    "    features_train, target_train, 5)"
   ]
  },
  {
   "cell_type": "code",
   "execution_count": 33,
   "metadata": {},
   "outputs": [
    {
     "name": "stdout",
     "output_type": "stream",
     "text": [
      "размер целевого признака после увеличения : (10784, 11)\n",
      "размер признаков после увеличения : (10784,)\n"
     ]
    }
   ],
   "source": [
    "print('размер целевого признака после увеличения :', features_upsampled.shape )\n",
    "print('размер признаков после увеличения :',target_upsampled.shape)"
   ]
  },
  {
   "cell_type": "markdown",
   "metadata": {},
   "source": [
    "Применим к upsampled features и target модель случайного леса:"
   ]
  },
  {
   "cell_type": "code",
   "execution_count": 34,
   "metadata": {},
   "outputs": [
    {
     "name": "stdout",
     "output_type": "stream",
     "text": [
      "F1 мера = 0.6399235912129894\n",
      "Число деревьев:  31\n",
      "Глубина дерева:  8\n"
     ]
    }
   ],
   "source": [
    "#Случайный лес\n",
    "f1 = 0\n",
    "best_depth = 0  #глубина дерева\n",
    "best_est = 0   #число деревьев \n",
    "random_forest_model = None\n",
    "\n",
    "for est in range (20,40):\n",
    "    for depth in range (5, 15):\n",
    "        model = RandomForestClassifier(random_state = 12345, n_estimators = est, \n",
    "                                       max_depth = depth, class_weight = 'balanced')\n",
    "        model.fit(features_upsampled, target_upsampled)\n",
    "        predicted_valid = model.predict(features_valid)\n",
    "        \n",
    "        if f1_score(target_valid, predicted_valid) > f1:\n",
    "            f1 = f1_score(target_valid, predicted_valid)   \n",
    "            best_model_random_forest = model\n",
    "            best_est = est\n",
    "            best_depth = depth\n",
    "            random_forest_model = model\n",
    "                \n",
    "print('F1 мера =', f1)\n",
    "print('Число деревьев: ', best_est)\n",
    "print('Глубина дерева: ', best_depth)"
   ]
  },
  {
   "cell_type": "markdown",
   "metadata": {},
   "source": [
    " f1 score для модели случайного леса после использования upsample вырос с 0,56 до 0,63."
   ]
  },
  {
   "cell_type": "markdown",
   "metadata": {},
   "source": [
    "**Вывод**"
   ]
  },
  {
   "cell_type": "markdown",
   "metadata": {},
   "source": [
    "Наблюдается увеличение f1 score после применения к моделям машинного обучения методов борьбы с дисбалансом - функции upsample и метода взвешивания классов."
   ]
  },
  {
   "cell_type": "markdown",
   "metadata": {},
   "source": [
    "## Тестирование модели"
   ]
  },
  {
   "cell_type": "code",
   "execution_count": 35,
   "metadata": {},
   "outputs": [
    {
     "name": "stdout",
     "output_type": "stream",
     "text": [
      "0.6036916395222583\n"
     ]
    }
   ],
   "source": [
    "test_predictions = random_forest_model.predict(features_test)\n",
    "\n",
    "print(f1_score(target_test, test_predictions))"
   ]
  },
  {
   "cell_type": "markdown",
   "metadata": {},
   "source": [
    "f1 score для выбранной модели на тестовой выборке составляет 0,5995."
   ]
  },
  {
   "cell_type": "markdown",
   "metadata": {},
   "source": [
    "Применим функцию predict_proba, построим ROC-кривую. "
   ]
  },
  {
   "cell_type": "code",
   "execution_count": 36,
   "metadata": {},
   "outputs": [
    {
     "data": {
      "image/png": "[encoded data removed]",
      "text/plain": [
       "<Figure size 576x432 with 1 Axes>"
      ]
     },
     "metadata": {
      "needs_background": "light"
     },
     "output_type": "display_data"
    }
   ],
   "source": [
    "test_predictions = random_forest_model.predict_proba(features_test)\n",
    "test_predictions = test_predictions[:,1]\n",
    "fpr, tpr, thresholds = roc_curve(target_test, test_predictions)\n",
    "\n",
    "plt.figure(figsize = (8,6))\n",
    "plt.plot(fpr, tpr)\n",
    "plt.plot([0, 1], [0, 1], linestyle='--')\n",
    "plt.xlim([0.0, 1.0])\n",
    "plt.ylim([0.0, 1.0])\n",
    "plt.xlabel('False Positive Rate')\n",
    "plt.ylabel('True Positive Rate')\n",
    "plt.title('ROC-кривая')\n",
    "\n",
    "plt.show()"
   ]
  },
  {
   "cell_type": "code",
   "execution_count": 37,
   "metadata": {},
   "outputs": [
    {
     "data": {
      "text/plain": [
       "0.8560488384944367"
      ]
     },
     "execution_count": 37,
     "metadata": {},
     "output_type": "execute_result"
    }
   ],
   "source": [
    "roc_auc_score(target_test, test_predictions)"
   ]
  },
  {
   "cell_type": "markdown",
   "metadata": {},
   "source": [
    "**Вывод**"
   ]
  },
  {
   "cell_type": "markdown",
   "metadata": {},
   "source": [
    "В настоящем проекте проведена работа с обработкой датасета, исследованы основные показатели и базовые взаимосвязи. Построены различные модели ML, к ним применены различные механизмы борьбы с дисбалансом, благодаря чем достигнут показатель f1 score = 0.5995.\n",
    "AUC-ROC score выбранной модели составил 0,8474, что существенно выше значения AUC-ROC случайной модели 0.5."
   ]
  }
 ],
 "metadata": {
  "ExecuteTimeLog": [
   {
    "duration": 436,
    "start_time": "2022-05-20T12:31:04.818Z"
   },
   {
    "duration": 55,
    "start_time": "2022-05-20T12:32:35.110Z"
   },
   {
    "duration": 15,
    "start_time": "2022-05-20T12:32:39.843Z"
   },
   {
    "duration": 27,
    "start_time": "2022-05-20T12:33:11.238Z"
   },
   {
    "duration": 20,
    "start_time": "2022-05-20T12:33:27.062Z"
   },
   {
    "duration": 18,
    "start_time": "2022-05-20T12:33:43.789Z"
   },
   {
    "duration": 44,
    "start_time": "2022-05-20T12:33:58.325Z"
   },
   {
    "duration": 12,
    "start_time": "2022-05-20T12:34:20.063Z"
   },
   {
    "duration": 73,
    "start_time": "2022-05-20T12:35:11.059Z"
   },
   {
    "duration": 10,
    "start_time": "2022-05-20T12:35:19.323Z"
   },
   {
    "duration": 5,
    "start_time": "2022-05-20T12:35:54.522Z"
   },
   {
    "duration": 9,
    "start_time": "2022-05-20T12:36:08.203Z"
   },
   {
    "duration": 4,
    "start_time": "2022-05-20T12:36:13.479Z"
   },
   {
    "duration": 9,
    "start_time": "2022-05-20T12:36:41.226Z"
   },
   {
    "duration": 8,
    "start_time": "2022-05-20T12:36:44.009Z"
   },
   {
    "duration": 9,
    "start_time": "2022-05-20T12:38:45.909Z"
   },
   {
    "duration": 954,
    "start_time": "2022-05-20T12:39:01.648Z"
   },
   {
    "duration": 786,
    "start_time": "2022-05-20T12:50:20.887Z"
   },
   {
    "duration": 490,
    "start_time": "2022-05-20T12:51:08.708Z"
   },
   {
    "duration": 772,
    "start_time": "2022-05-20T12:51:39.464Z"
   },
   {
    "duration": 48,
    "start_time": "2022-05-20T12:51:40.238Z"
   },
   {
    "duration": 18,
    "start_time": "2022-05-20T12:51:40.288Z"
   },
   {
    "duration": 23,
    "start_time": "2022-05-20T12:51:40.308Z"
   },
   {
    "duration": 10,
    "start_time": "2022-05-20T12:51:40.333Z"
   },
   {
    "duration": 86,
    "start_time": "2022-05-20T12:51:40.345Z"
   },
   {
    "duration": 12,
    "start_time": "2022-05-20T12:51:40.433Z"
   },
   {
    "duration": 5,
    "start_time": "2022-05-20T12:51:40.447Z"
   },
   {
    "duration": 8,
    "start_time": "2022-05-20T12:51:40.454Z"
   },
   {
    "duration": 8,
    "start_time": "2022-05-20T12:51:40.465Z"
   },
   {
    "duration": 18,
    "start_time": "2022-05-20T12:51:40.496Z"
   },
   {
    "duration": 174,
    "start_time": "2022-05-20T12:51:40.516Z"
   },
   {
    "duration": 149,
    "start_time": "2022-05-20T12:51:40.692Z"
   },
   {
    "duration": 127,
    "start_time": "2022-05-20T12:51:49.913Z"
   },
   {
    "duration": 120,
    "start_time": "2022-05-20T12:52:25.544Z"
   },
   {
    "duration": 118,
    "start_time": "2022-05-20T12:52:40.919Z"
   },
   {
    "duration": 4,
    "start_time": "2022-05-20T12:53:01.039Z"
   },
   {
    "duration": 771,
    "start_time": "2022-05-20T12:53:16.950Z"
   },
   {
    "duration": 32,
    "start_time": "2022-05-20T12:53:17.724Z"
   },
   {
    "duration": 15,
    "start_time": "2022-05-20T12:53:17.757Z"
   },
   {
    "duration": 37,
    "start_time": "2022-05-20T12:53:17.774Z"
   },
   {
    "duration": 12,
    "start_time": "2022-05-20T12:53:17.814Z"
   },
   {
    "duration": 53,
    "start_time": "2022-05-20T12:53:17.828Z"
   },
   {
    "duration": 16,
    "start_time": "2022-05-20T12:53:17.883Z"
   },
   {
    "duration": 11,
    "start_time": "2022-05-20T12:53:17.901Z"
   },
   {
    "duration": 21,
    "start_time": "2022-05-20T12:53:17.914Z"
   },
   {
    "duration": 34,
    "start_time": "2022-05-20T12:53:17.938Z"
   },
   {
    "duration": 18,
    "start_time": "2022-05-20T12:53:17.973Z"
   },
   {
    "duration": 191,
    "start_time": "2022-05-20T12:53:17.993Z"
   },
   {
    "duration": 145,
    "start_time": "2022-05-20T12:53:18.187Z"
   },
   {
    "duration": 860,
    "start_time": "2022-05-20T12:53:38.680Z"
   },
   {
    "duration": 31,
    "start_time": "2022-05-20T12:53:39.542Z"
   },
   {
    "duration": 20,
    "start_time": "2022-05-20T12:53:39.575Z"
   },
   {
    "duration": 21,
    "start_time": "2022-05-20T12:53:39.607Z"
   },
   {
    "duration": 8,
    "start_time": "2022-05-20T12:53:39.631Z"
   },
   {
    "duration": 58,
    "start_time": "2022-05-20T12:53:39.641Z"
   },
   {
    "duration": 14,
    "start_time": "2022-05-20T12:53:39.706Z"
   },
   {
    "duration": 3,
    "start_time": "2022-05-20T12:53:39.722Z"
   },
   {
    "duration": 15,
    "start_time": "2022-05-20T12:53:39.727Z"
   },
   {
    "duration": 10,
    "start_time": "2022-05-20T12:53:39.744Z"
   },
   {
    "duration": 170,
    "start_time": "2022-05-20T12:53:39.756Z"
   },
   {
    "duration": 135,
    "start_time": "2022-05-20T12:53:39.928Z"
   },
   {
    "duration": 109,
    "start_time": "2022-05-20T12:54:41.515Z"
   },
   {
    "duration": 177,
    "start_time": "2022-05-20T12:54:54.962Z"
   },
   {
    "duration": 187,
    "start_time": "2022-05-20T12:55:40.025Z"
   },
   {
    "duration": 883,
    "start_time": "2022-05-22T13:44:14.341Z"
   },
   {
    "duration": 70,
    "start_time": "2022-05-22T13:44:15.227Z"
   },
   {
    "duration": 19,
    "start_time": "2022-05-22T13:44:15.299Z"
   },
   {
    "duration": 22,
    "start_time": "2022-05-22T13:44:15.320Z"
   },
   {
    "duration": 11,
    "start_time": "2022-05-22T13:44:15.346Z"
   },
   {
    "duration": 20,
    "start_time": "2022-05-22T13:44:15.359Z"
   },
   {
    "duration": 70,
    "start_time": "2022-05-22T13:44:15.382Z"
   },
   {
    "duration": 17,
    "start_time": "2022-05-22T13:44:15.454Z"
   },
   {
    "duration": 3,
    "start_time": "2022-05-22T13:44:15.473Z"
   },
   {
    "duration": 11,
    "start_time": "2022-05-22T13:44:15.478Z"
   },
   {
    "duration": 18,
    "start_time": "2022-05-22T13:44:15.491Z"
   },
   {
    "duration": 177,
    "start_time": "2022-05-22T13:44:15.511Z"
   },
   {
    "duration": 117,
    "start_time": "2022-05-22T13:44:15.690Z"
   },
   {
    "duration": 173,
    "start_time": "2022-05-22T13:44:15.810Z"
   },
   {
    "duration": 178,
    "start_time": "2022-05-22T13:44:15.985Z"
   },
   {
    "duration": 90,
    "start_time": "2022-05-22T14:00:26.018Z"
   },
   {
    "duration": 706,
    "start_time": "2022-05-22T14:00:57.771Z"
   },
   {
    "duration": 27,
    "start_time": "2022-05-22T14:00:58.479Z"
   },
   {
    "duration": 12,
    "start_time": "2022-05-22T14:00:58.508Z"
   },
   {
    "duration": 16,
    "start_time": "2022-05-22T14:00:58.522Z"
   },
   {
    "duration": 49,
    "start_time": "2022-05-22T14:00:58.540Z"
   },
   {
    "duration": 11,
    "start_time": "2022-05-22T14:00:58.591Z"
   },
   {
    "duration": 110,
    "start_time": "2022-05-22T14:00:58.604Z"
   },
   {
    "duration": 0,
    "start_time": "2022-05-22T14:00:58.716Z"
   },
   {
    "duration": 0,
    "start_time": "2022-05-22T14:00:58.717Z"
   },
   {
    "duration": 0,
    "start_time": "2022-05-22T14:00:58.719Z"
   },
   {
    "duration": 0,
    "start_time": "2022-05-22T14:00:58.719Z"
   },
   {
    "duration": 0,
    "start_time": "2022-05-22T14:00:58.720Z"
   },
   {
    "duration": 0,
    "start_time": "2022-05-22T14:00:58.722Z"
   },
   {
    "duration": 0,
    "start_time": "2022-05-22T14:00:58.723Z"
   },
   {
    "duration": 691,
    "start_time": "2022-05-22T14:01:26.557Z"
   },
   {
    "duration": 38,
    "start_time": "2022-05-22T14:01:27.250Z"
   },
   {
    "duration": 20,
    "start_time": "2022-05-22T14:01:27.290Z"
   },
   {
    "duration": 20,
    "start_time": "2022-05-22T14:01:27.312Z"
   },
   {
    "duration": 58,
    "start_time": "2022-05-22T14:01:27.334Z"
   },
   {
    "duration": 17,
    "start_time": "2022-05-22T14:01:27.396Z"
   },
   {
    "duration": 105,
    "start_time": "2022-05-22T14:01:27.416Z"
   },
   {
    "duration": 0,
    "start_time": "2022-05-22T14:01:27.523Z"
   },
   {
    "duration": 0,
    "start_time": "2022-05-22T14:01:27.525Z"
   },
   {
    "duration": 1,
    "start_time": "2022-05-22T14:01:27.526Z"
   },
   {
    "duration": 0,
    "start_time": "2022-05-22T14:01:27.528Z"
   },
   {
    "duration": 0,
    "start_time": "2022-05-22T14:01:27.530Z"
   },
   {
    "duration": 0,
    "start_time": "2022-05-22T14:01:27.531Z"
   },
   {
    "duration": 1,
    "start_time": "2022-05-22T14:01:27.532Z"
   },
   {
    "duration": 632,
    "start_time": "2022-05-22T14:01:37.495Z"
   },
   {
    "duration": 30,
    "start_time": "2022-05-22T14:01:38.129Z"
   },
   {
    "duration": 14,
    "start_time": "2022-05-22T14:01:38.160Z"
   },
   {
    "duration": 16,
    "start_time": "2022-05-22T14:01:38.176Z"
   },
   {
    "duration": 58,
    "start_time": "2022-05-22T14:01:38.194Z"
   },
   {
    "duration": 11,
    "start_time": "2022-05-22T14:01:38.254Z"
   },
   {
    "duration": 4,
    "start_time": "2022-05-22T14:01:38.266Z"
   },
   {
    "duration": 9,
    "start_time": "2022-05-22T14:01:38.272Z"
   },
   {
    "duration": 10,
    "start_time": "2022-05-22T14:01:38.282Z"
   },
   {
    "duration": 10,
    "start_time": "2022-05-22T14:01:38.293Z"
   },
   {
    "duration": 164,
    "start_time": "2022-05-22T14:01:38.305Z"
   },
   {
    "duration": 111,
    "start_time": "2022-05-22T14:01:38.471Z"
   },
   {
    "duration": 164,
    "start_time": "2022-05-22T14:01:38.584Z"
   },
   {
    "duration": 173,
    "start_time": "2022-05-22T14:01:38.754Z"
   },
   {
    "duration": 660,
    "start_time": "2022-05-22T14:02:16.312Z"
   },
   {
    "duration": 29,
    "start_time": "2022-05-22T14:02:16.974Z"
   },
   {
    "duration": 14,
    "start_time": "2022-05-22T14:02:17.005Z"
   },
   {
    "duration": 17,
    "start_time": "2022-05-22T14:02:17.020Z"
   },
   {
    "duration": 53,
    "start_time": "2022-05-22T14:02:17.039Z"
   },
   {
    "duration": 11,
    "start_time": "2022-05-22T14:02:17.093Z"
   },
   {
    "duration": 4,
    "start_time": "2022-05-22T14:02:17.106Z"
   },
   {
    "duration": 7,
    "start_time": "2022-05-22T14:02:17.112Z"
   },
   {
    "duration": 32,
    "start_time": "2022-05-22T14:02:17.120Z"
   },
   {
    "duration": 9,
    "start_time": "2022-05-22T14:02:17.154Z"
   },
   {
    "duration": 162,
    "start_time": "2022-05-22T14:02:17.164Z"
   },
   {
    "duration": 125,
    "start_time": "2022-05-22T14:02:17.328Z"
   },
   {
    "duration": 171,
    "start_time": "2022-05-22T14:02:17.456Z"
   },
   {
    "duration": 175,
    "start_time": "2022-05-22T14:02:17.630Z"
   },
   {
    "duration": 3,
    "start_time": "2022-05-22T14:13:38.686Z"
   },
   {
    "duration": 22,
    "start_time": "2022-05-22T14:15:10.512Z"
   },
   {
    "duration": 453,
    "start_time": "2022-05-22T14:15:21.877Z"
   },
   {
    "duration": 7,
    "start_time": "2022-05-22T14:15:24.940Z"
   },
   {
    "duration": 26,
    "start_time": "2022-05-22T18:00:25.993Z"
   },
   {
    "duration": 68,
    "start_time": "2022-05-29T11:43:05.187Z"
   },
   {
    "duration": 958,
    "start_time": "2022-05-29T11:43:09.661Z"
   },
   {
    "duration": 103,
    "start_time": "2022-05-29T11:43:10.621Z"
   },
   {
    "duration": 18,
    "start_time": "2022-05-29T11:43:10.726Z"
   },
   {
    "duration": 28,
    "start_time": "2022-05-29T11:43:10.746Z"
   },
   {
    "duration": 75,
    "start_time": "2022-05-29T11:43:10.776Z"
   },
   {
    "duration": 19,
    "start_time": "2022-05-29T11:43:10.852Z"
   },
   {
    "duration": 24,
    "start_time": "2022-05-29T11:43:10.873Z"
   },
   {
    "duration": 7,
    "start_time": "2022-05-29T11:43:10.899Z"
   },
   {
    "duration": 15,
    "start_time": "2022-05-29T11:43:10.907Z"
   },
   {
    "duration": 149,
    "start_time": "2022-05-29T11:43:10.923Z"
   },
   {
    "duration": 29,
    "start_time": "2022-05-29T11:43:11.074Z"
   },
   {
    "duration": 7,
    "start_time": "2022-05-29T11:43:11.105Z"
   },
   {
    "duration": 112,
    "start_time": "2022-05-29T11:43:11.113Z"
   },
   {
    "duration": 0,
    "start_time": "2022-05-29T11:43:11.226Z"
   },
   {
    "duration": 0,
    "start_time": "2022-05-29T11:43:11.227Z"
   },
   {
    "duration": 0,
    "start_time": "2022-05-29T11:43:11.228Z"
   },
   {
    "duration": 4,
    "start_time": "2022-05-29T11:43:39.019Z"
   },
   {
    "duration": 141,
    "start_time": "2022-05-29T11:44:01.256Z"
   },
   {
    "duration": 192,
    "start_time": "2022-05-29T11:44:06.109Z"
   },
   {
    "duration": 198,
    "start_time": "2022-05-29T11:44:13.556Z"
   },
   {
    "duration": 35,
    "start_time": "2022-05-29T11:45:51.525Z"
   },
   {
    "duration": 219,
    "start_time": "2022-05-29T11:45:55.599Z"
   },
   {
    "duration": 5,
    "start_time": "2022-05-29T11:47:25.711Z"
   },
   {
    "duration": 13,
    "start_time": "2022-05-29T11:47:49.527Z"
   },
   {
    "duration": 30,
    "start_time": "2022-05-29T11:48:18.608Z"
   },
   {
    "duration": 8,
    "start_time": "2022-05-29T11:48:24.328Z"
   },
   {
    "duration": 2346,
    "start_time": "2022-05-29T11:48:56.587Z"
   },
   {
    "duration": 1450,
    "start_time": "2022-05-29T11:49:02.053Z"
   },
   {
    "duration": 127,
    "start_time": "2022-05-29T11:49:03.515Z"
   },
   {
    "duration": 51,
    "start_time": "2022-05-29T11:49:03.643Z"
   },
   {
    "duration": 21,
    "start_time": "2022-05-29T11:49:03.700Z"
   },
   {
    "duration": 67,
    "start_time": "2022-05-29T11:49:03.725Z"
   },
   {
    "duration": 21,
    "start_time": "2022-05-29T11:49:03.794Z"
   },
   {
    "duration": 5,
    "start_time": "2022-05-29T11:49:03.817Z"
   },
   {
    "duration": 8,
    "start_time": "2022-05-29T11:49:03.824Z"
   },
   {
    "duration": 11,
    "start_time": "2022-05-29T11:49:03.834Z"
   },
   {
    "duration": 193,
    "start_time": "2022-05-29T11:49:03.847Z"
   },
   {
    "duration": 55,
    "start_time": "2022-05-29T11:49:04.041Z"
   },
   {
    "duration": 7,
    "start_time": "2022-05-29T11:49:04.100Z"
   },
   {
    "duration": 6,
    "start_time": "2022-05-29T11:49:04.109Z"
   },
   {
    "duration": 121,
    "start_time": "2022-05-29T11:49:04.117Z"
   },
   {
    "duration": 200,
    "start_time": "2022-05-29T11:49:04.240Z"
   },
   {
    "duration": 207,
    "start_time": "2022-05-29T11:49:04.441Z"
   },
   {
    "duration": 4,
    "start_time": "2022-05-29T11:49:04.650Z"
   },
   {
    "duration": 45,
    "start_time": "2022-05-29T11:49:04.661Z"
   },
   {
    "duration": 7,
    "start_time": "2022-05-29T11:49:04.708Z"
   },
   {
    "duration": 2173,
    "start_time": "2022-05-29T12:02:35.791Z"
   },
   {
    "duration": 175,
    "start_time": "2022-05-29T12:02:37.969Z"
   },
   {
    "duration": 20,
    "start_time": "2022-05-29T12:02:38.147Z"
   },
   {
    "duration": 32,
    "start_time": "2022-05-29T12:02:38.169Z"
   },
   {
    "duration": 67,
    "start_time": "2022-05-29T12:02:38.204Z"
   },
   {
    "duration": 20,
    "start_time": "2022-05-29T12:02:38.273Z"
   },
   {
    "duration": 27,
    "start_time": "2022-05-29T12:02:38.295Z"
   },
   {
    "duration": 6,
    "start_time": "2022-05-29T12:02:38.324Z"
   },
   {
    "duration": 12,
    "start_time": "2022-05-29T12:02:38.332Z"
   },
   {
    "duration": 237,
    "start_time": "2022-05-29T12:02:38.345Z"
   },
   {
    "duration": 27,
    "start_time": "2022-05-29T12:02:38.585Z"
   },
   {
    "duration": 15,
    "start_time": "2022-05-29T12:02:38.614Z"
   },
   {
    "duration": 5,
    "start_time": "2022-05-29T12:02:38.633Z"
   },
   {
    "duration": 193,
    "start_time": "2022-05-29T12:02:38.641Z"
   },
   {
    "duration": 260,
    "start_time": "2022-05-29T12:02:38.836Z"
   },
   {
    "duration": 231,
    "start_time": "2022-05-29T12:02:39.099Z"
   },
   {
    "duration": 5,
    "start_time": "2022-05-29T12:02:39.332Z"
   },
   {
    "duration": 16,
    "start_time": "2022-05-29T12:02:39.338Z"
   },
   {
    "duration": 15,
    "start_time": "2022-05-29T12:02:39.363Z"
   },
   {
    "duration": 39,
    "start_time": "2022-05-29T12:02:39.382Z"
   },
   {
    "duration": 4,
    "start_time": "2022-05-29T12:02:48.280Z"
   },
   {
    "duration": 164,
    "start_time": "2022-05-29T12:02:57.914Z"
   },
   {
    "duration": 47,
    "start_time": "2022-05-29T12:04:16.480Z"
   },
   {
    "duration": 854,
    "start_time": "2022-05-29T12:04:32.312Z"
   },
   {
    "duration": 402,
    "start_time": "2022-05-29T12:04:46.502Z"
   },
   {
    "duration": 153,
    "start_time": "2022-05-29T12:04:58.392Z"
   },
   {
    "duration": 145,
    "start_time": "2022-05-29T12:05:05.192Z"
   },
   {
    "duration": 41,
    "start_time": "2022-05-29T12:05:09.125Z"
   },
   {
    "duration": 140,
    "start_time": "2022-05-29T12:05:11.885Z"
   },
   {
    "duration": 154,
    "start_time": "2022-05-29T12:05:22.430Z"
   },
   {
    "duration": 599,
    "start_time": "2022-05-29T12:05:30.096Z"
   },
   {
    "duration": 1055,
    "start_time": "2022-05-29T12:05:40.084Z"
   },
   {
    "duration": 39950,
    "start_time": "2022-05-29T12:06:02.113Z"
   },
   {
    "duration": 6,
    "start_time": "2022-05-29T12:06:42.065Z"
   },
   {
    "duration": 43,
    "start_time": "2022-05-29T12:06:42.076Z"
   },
   {
    "duration": 4,
    "start_time": "2022-05-29T12:06:42.122Z"
   },
   {
    "duration": 71538,
    "start_time": "2022-05-29T12:06:44.644Z"
   },
   {
    "duration": 36,
    "start_time": "2022-05-29T12:07:56.185Z"
   },
   {
    "duration": 230,
    "start_time": "2022-05-29T12:07:56.223Z"
   },
   {
    "duration": 34,
    "start_time": "2022-05-29T12:07:56.456Z"
   },
   {
    "duration": 47,
    "start_time": "2022-06-20T12:38:44.346Z"
   },
   {
    "duration": 1491,
    "start_time": "2022-06-20T12:38:48.655Z"
   },
   {
    "duration": 158,
    "start_time": "2022-06-20T12:38:50.148Z"
   },
   {
    "duration": 14,
    "start_time": "2022-06-20T12:38:50.308Z"
   },
   {
    "duration": 16,
    "start_time": "2022-06-20T12:38:50.324Z"
   },
   {
    "duration": 40,
    "start_time": "2022-06-20T12:38:50.342Z"
   },
   {
    "duration": 11,
    "start_time": "2022-06-20T12:38:50.384Z"
   },
   {
    "duration": 4,
    "start_time": "2022-06-20T12:38:50.397Z"
   },
   {
    "duration": 11,
    "start_time": "2022-06-20T12:38:50.403Z"
   },
   {
    "duration": 30,
    "start_time": "2022-06-20T12:38:50.415Z"
   },
   {
    "duration": 156,
    "start_time": "2022-06-20T12:38:50.448Z"
   },
   {
    "duration": 17,
    "start_time": "2022-06-20T12:38:50.606Z"
   },
   {
    "duration": 22,
    "start_time": "2022-06-20T12:38:50.625Z"
   },
   {
    "duration": 6,
    "start_time": "2022-06-20T12:38:50.649Z"
   },
   {
    "duration": 5,
    "start_time": "2022-06-20T12:38:50.657Z"
   },
   {
    "duration": 118,
    "start_time": "2022-06-20T12:38:50.664Z"
   },
   {
    "duration": 187,
    "start_time": "2022-06-20T12:38:50.783Z"
   },
   {
    "duration": 165,
    "start_time": "2022-06-20T12:38:50.973Z"
   },
   {
    "duration": 4,
    "start_time": "2022-06-20T12:38:51.142Z"
   },
   {
    "duration": 17,
    "start_time": "2022-06-20T12:38:51.148Z"
   },
   {
    "duration": 13,
    "start_time": "2022-06-20T12:38:51.168Z"
   },
   {
    "duration": 3,
    "start_time": "2022-06-20T12:38:51.183Z"
   },
   {
    "duration": 9,
    "start_time": "2022-06-20T12:38:51.187Z"
   },
   {
    "duration": 51,
    "start_time": "2022-06-20T12:38:51.197Z"
   },
   {
    "duration": 679,
    "start_time": "2022-06-20T12:38:51.250Z"
   },
   {
    "duration": 223,
    "start_time": "2022-06-20T12:38:51.931Z"
   },
   {
    "duration": 213,
    "start_time": "2022-06-20T12:38:52.241Z"
   },
   {
    "duration": 98,
    "start_time": "2022-06-20T12:38:52.456Z"
   },
   {
    "duration": 887,
    "start_time": "2022-06-20T12:38:52.558Z"
   },
   {
    "duration": 33105,
    "start_time": "2022-06-20T12:38:53.446Z"
   },
   {
    "duration": 4,
    "start_time": "2022-06-20T12:39:26.552Z"
   },
   {
    "duration": 16,
    "start_time": "2022-06-20T12:39:26.557Z"
   },
   {
    "duration": 4,
    "start_time": "2022-06-20T12:39:26.574Z"
   },
   {
    "duration": 54754,
    "start_time": "2022-06-20T12:39:26.580Z"
   },
   {
    "duration": 26,
    "start_time": "2022-06-20T12:40:21.336Z"
   },
   {
    "duration": 174,
    "start_time": "2022-06-20T12:40:21.364Z"
   },
   {
    "duration": 7,
    "start_time": "2022-06-20T12:40:21.540Z"
   },
   {
    "duration": 1337,
    "start_time": "2022-06-20T12:51:44.994Z"
   },
   {
    "duration": 41,
    "start_time": "2022-06-20T12:51:46.333Z"
   },
   {
    "duration": 14,
    "start_time": "2022-06-20T12:51:46.375Z"
   },
   {
    "duration": 18,
    "start_time": "2022-06-20T12:51:46.391Z"
   },
   {
    "duration": 46,
    "start_time": "2022-06-20T12:51:46.411Z"
   },
   {
    "duration": 11,
    "start_time": "2022-06-20T12:51:46.459Z"
   },
   {
    "duration": 4,
    "start_time": "2022-06-20T12:51:46.472Z"
   },
   {
    "duration": 5,
    "start_time": "2022-06-20T12:51:46.478Z"
   },
   {
    "duration": 12,
    "start_time": "2022-06-20T12:51:46.484Z"
   },
   {
    "duration": 165,
    "start_time": "2022-06-20T12:51:46.498Z"
   },
   {
    "duration": 17,
    "start_time": "2022-06-20T12:51:46.665Z"
   },
   {
    "duration": 16,
    "start_time": "2022-06-20T12:51:46.683Z"
   },
   {
    "duration": 10,
    "start_time": "2022-06-20T12:51:46.701Z"
   },
   {
    "duration": 10,
    "start_time": "2022-06-20T12:51:46.715Z"
   },
   {
    "duration": 147,
    "start_time": "2022-06-20T12:51:46.728Z"
   },
   {
    "duration": 190,
    "start_time": "2022-06-20T12:51:46.877Z"
   },
   {
    "duration": 184,
    "start_time": "2022-06-20T12:51:47.069Z"
   },
   {
    "duration": 5,
    "start_time": "2022-06-20T12:51:47.255Z"
   },
   {
    "duration": 17,
    "start_time": "2022-06-20T12:51:47.261Z"
   },
   {
    "duration": 7,
    "start_time": "2022-06-20T12:51:47.280Z"
   },
   {
    "duration": 4,
    "start_time": "2022-06-20T12:51:47.289Z"
   },
   {
    "duration": 7,
    "start_time": "2022-06-20T12:51:47.294Z"
   },
   {
    "duration": 65,
    "start_time": "2022-06-20T12:51:47.302Z"
   },
   {
    "duration": 696,
    "start_time": "2022-06-20T12:51:47.369Z"
   },
   {
    "duration": 274,
    "start_time": "2022-06-20T12:51:48.067Z"
   },
   {
    "duration": 224,
    "start_time": "2022-06-20T12:51:48.343Z"
   },
   {
    "duration": 181,
    "start_time": "2022-06-20T12:51:48.569Z"
   },
   {
    "duration": 929,
    "start_time": "2022-06-20T12:51:48.751Z"
   },
   {
    "duration": 32876,
    "start_time": "2022-06-20T12:51:49.682Z"
   },
   {
    "duration": 4,
    "start_time": "2022-06-20T12:52:22.560Z"
   },
   {
    "duration": 18,
    "start_time": "2022-06-20T12:52:22.565Z"
   },
   {
    "duration": 3,
    "start_time": "2022-06-20T12:52:22.585Z"
   },
   {
    "duration": 1321,
    "start_time": "2022-06-20T12:52:33.197Z"
   },
   {
    "duration": 41,
    "start_time": "2022-06-20T12:52:34.522Z"
   },
   {
    "duration": 12,
    "start_time": "2022-06-20T12:52:34.565Z"
   },
   {
    "duration": 17,
    "start_time": "2022-06-20T12:52:34.578Z"
   },
   {
    "duration": 50,
    "start_time": "2022-06-20T12:52:34.597Z"
   },
   {
    "duration": 10,
    "start_time": "2022-06-20T12:52:34.649Z"
   },
   {
    "duration": 3,
    "start_time": "2022-06-20T12:52:34.661Z"
   },
   {
    "duration": 6,
    "start_time": "2022-06-20T12:52:34.666Z"
   },
   {
    "duration": 10,
    "start_time": "2022-06-20T12:52:34.673Z"
   },
   {
    "duration": 157,
    "start_time": "2022-06-20T12:52:34.685Z"
   },
   {
    "duration": 17,
    "start_time": "2022-06-20T12:52:34.844Z"
   },
   {
    "duration": 8,
    "start_time": "2022-06-20T12:52:34.862Z"
   },
   {
    "duration": 7,
    "start_time": "2022-06-20T12:52:34.871Z"
   },
   {
    "duration": 8,
    "start_time": "2022-06-20T12:52:34.881Z"
   },
   {
    "duration": 123,
    "start_time": "2022-06-20T12:52:34.890Z"
   },
   {
    "duration": 172,
    "start_time": "2022-06-20T12:52:35.014Z"
   },
   {
    "duration": 173,
    "start_time": "2022-06-20T12:52:35.188Z"
   },
   {
    "duration": 4,
    "start_time": "2022-06-20T12:52:35.362Z"
   },
   {
    "duration": 13,
    "start_time": "2022-06-20T12:52:35.368Z"
   },
   {
    "duration": 7,
    "start_time": "2022-06-20T12:52:35.383Z"
   },
   {
    "duration": 6,
    "start_time": "2022-06-20T12:52:35.392Z"
   },
   {
    "duration": 6,
    "start_time": "2022-06-20T12:52:35.400Z"
   },
   {
    "duration": 55,
    "start_time": "2022-06-20T12:52:35.407Z"
   },
   {
    "duration": 686,
    "start_time": "2022-06-20T12:52:35.463Z"
   },
   {
    "duration": 192,
    "start_time": "2022-06-20T12:52:36.150Z"
   },
   {
    "duration": 213,
    "start_time": "2022-06-20T12:52:36.345Z"
   },
   {
    "duration": 183,
    "start_time": "2022-06-20T12:52:36.560Z"
   },
   {
    "duration": 853,
    "start_time": "2022-06-20T12:52:36.745Z"
   },
   {
    "duration": 32985,
    "start_time": "2022-06-20T12:52:37.599Z"
   },
   {
    "duration": 4,
    "start_time": "2022-06-20T12:53:10.586Z"
   },
   {
    "duration": 11,
    "start_time": "2022-06-20T12:53:10.592Z"
   },
   {
    "duration": 3,
    "start_time": "2022-06-20T12:53:10.605Z"
   },
   {
    "duration": 55056,
    "start_time": "2022-06-20T12:53:10.610Z"
   },
   {
    "duration": 23,
    "start_time": "2022-06-20T12:54:05.667Z"
   },
   {
    "duration": 161,
    "start_time": "2022-06-20T12:54:05.692Z"
   },
   {
    "duration": 7,
    "start_time": "2022-06-20T12:54:05.855Z"
   },
   {
    "duration": 167,
    "start_time": "2022-06-20T12:57:47.760Z"
   },
   {
    "duration": 1338,
    "start_time": "2022-06-20T12:57:52.095Z"
   },
   {
    "duration": 40,
    "start_time": "2022-06-20T12:57:53.435Z"
   },
   {
    "duration": 13,
    "start_time": "2022-06-20T12:57:53.477Z"
   },
   {
    "duration": 21,
    "start_time": "2022-06-20T12:57:53.492Z"
   },
   {
    "duration": 46,
    "start_time": "2022-06-20T12:57:53.514Z"
   },
   {
    "duration": 12,
    "start_time": "2022-06-20T12:57:53.561Z"
   },
   {
    "duration": 5,
    "start_time": "2022-06-20T12:57:53.575Z"
   },
   {
    "duration": 9,
    "start_time": "2022-06-20T12:57:53.582Z"
   },
   {
    "duration": 15,
    "start_time": "2022-06-20T12:57:53.593Z"
   },
   {
    "duration": 164,
    "start_time": "2022-06-20T12:57:53.612Z"
   },
   {
    "duration": 17,
    "start_time": "2022-06-20T12:57:53.778Z"
   },
   {
    "duration": 7,
    "start_time": "2022-06-20T12:57:53.797Z"
   },
   {
    "duration": 8,
    "start_time": "2022-06-20T12:57:53.805Z"
   },
   {
    "duration": 28,
    "start_time": "2022-06-20T12:57:53.815Z"
   },
   {
    "duration": 108,
    "start_time": "2022-06-20T12:57:53.845Z"
   },
   {
    "duration": 184,
    "start_time": "2022-06-20T12:57:53.955Z"
   },
   {
    "duration": 168,
    "start_time": "2022-06-20T12:57:54.141Z"
   },
   {
    "duration": 4,
    "start_time": "2022-06-20T12:57:54.310Z"
   },
   {
    "duration": 27,
    "start_time": "2022-06-20T12:57:54.315Z"
   },
   {
    "duration": 7,
    "start_time": "2022-06-20T12:57:54.344Z"
   },
   {
    "duration": 3,
    "start_time": "2022-06-20T12:57:54.353Z"
   },
   {
    "duration": 7,
    "start_time": "2022-06-20T12:57:54.358Z"
   },
   {
    "duration": 32,
    "start_time": "2022-06-20T12:57:54.366Z"
   },
   {
    "duration": 701,
    "start_time": "2022-06-20T12:57:54.400Z"
   },
   {
    "duration": 54,
    "start_time": "2022-06-20T12:57:55.103Z"
   },
   {
    "duration": 207,
    "start_time": "2022-06-20T12:57:55.243Z"
   },
   {
    "duration": 191,
    "start_time": "2022-06-20T12:57:55.452Z"
   },
   {
    "duration": 886,
    "start_time": "2022-06-20T12:57:55.647Z"
   },
   {
    "duration": 34623,
    "start_time": "2022-06-20T12:57:56.535Z"
   },
   {
    "duration": 4,
    "start_time": "2022-06-20T12:58:31.160Z"
   },
   {
    "duration": 23,
    "start_time": "2022-06-20T12:58:31.165Z"
   },
   {
    "duration": 5,
    "start_time": "2022-06-20T12:58:31.190Z"
   },
   {
    "duration": 56422,
    "start_time": "2022-06-20T12:58:31.197Z"
   },
   {
    "duration": 34,
    "start_time": "2022-06-20T12:59:27.620Z"
   },
   {
    "duration": 162,
    "start_time": "2022-06-20T12:59:27.657Z"
   },
   {
    "duration": 7,
    "start_time": "2022-06-20T12:59:27.821Z"
   },
   {
    "duration": 7,
    "start_time": "2022-06-20T13:17:39.988Z"
   },
   {
    "duration": 18,
    "start_time": "2022-06-20T13:30:22.407Z"
   },
   {
    "duration": 21,
    "start_time": "2022-06-20T13:30:50.064Z"
   },
   {
    "duration": 14,
    "start_time": "2022-06-20T13:32:13.449Z"
   },
   {
    "duration": 16,
    "start_time": "2022-06-20T13:32:25.609Z"
   },
   {
    "duration": 141,
    "start_time": "2022-06-20T14:43:26.584Z"
   },
   {
    "duration": 129,
    "start_time": "2022-06-20T14:43:32.861Z"
   },
   {
    "duration": 1624,
    "start_time": "2022-06-21T16:07:36.247Z"
   },
   {
    "duration": 80,
    "start_time": "2022-06-21T16:07:37.873Z"
   },
   {
    "duration": 20,
    "start_time": "2022-06-21T16:07:37.955Z"
   },
   {
    "duration": 19,
    "start_time": "2022-06-21T16:07:37.977Z"
   },
   {
    "duration": 54,
    "start_time": "2022-06-21T16:07:37.999Z"
   },
   {
    "duration": 18,
    "start_time": "2022-06-21T16:07:38.056Z"
   },
   {
    "duration": 7,
    "start_time": "2022-06-21T16:07:38.076Z"
   },
   {
    "duration": 9,
    "start_time": "2022-06-21T16:07:38.085Z"
   },
   {
    "duration": 31,
    "start_time": "2022-06-21T16:07:38.096Z"
   },
   {
    "duration": 217,
    "start_time": "2022-06-21T16:07:38.131Z"
   },
   {
    "duration": 29,
    "start_time": "2022-06-21T16:07:38.351Z"
   },
   {
    "duration": 10,
    "start_time": "2022-06-21T16:07:38.383Z"
   },
   {
    "duration": 28,
    "start_time": "2022-06-21T16:07:38.395Z"
   },
   {
    "duration": 4,
    "start_time": "2022-06-21T16:07:38.426Z"
   },
   {
    "duration": 163,
    "start_time": "2022-06-21T16:07:38.432Z"
   },
   {
    "duration": 260,
    "start_time": "2022-06-21T16:07:38.598Z"
   },
   {
    "duration": 269,
    "start_time": "2022-06-21T16:07:38.861Z"
   },
   {
    "duration": 6,
    "start_time": "2022-06-21T16:07:39.133Z"
   },
   {
    "duration": 18,
    "start_time": "2022-06-21T16:07:39.141Z"
   },
   {
    "duration": 10,
    "start_time": "2022-06-21T16:07:39.161Z"
   },
   {
    "duration": 10,
    "start_time": "2022-06-21T16:07:39.173Z"
   },
   {
    "duration": 13,
    "start_time": "2022-06-21T16:07:39.186Z"
   },
   {
    "duration": 65,
    "start_time": "2022-06-21T16:07:39.202Z"
   },
   {
    "duration": 754,
    "start_time": "2022-06-21T16:07:39.270Z"
   },
   {
    "duration": 112,
    "start_time": "2022-06-21T16:07:40.027Z"
   },
   {
    "duration": 37129,
    "start_time": "2022-06-21T16:07:40.146Z"
   },
   {
    "duration": 181,
    "start_time": "2022-06-21T16:08:17.277Z"
   },
   {
    "duration": 169,
    "start_time": "2022-06-21T16:08:17.461Z"
   },
   {
    "duration": 883,
    "start_time": "2022-06-21T16:08:17.632Z"
   },
   {
    "duration": 35379,
    "start_time": "2022-06-21T16:08:18.517Z"
   },
   {
    "duration": 5,
    "start_time": "2022-06-21T16:08:53.898Z"
   },
   {
    "duration": 25,
    "start_time": "2022-06-21T16:08:53.905Z"
   },
   {
    "duration": 4,
    "start_time": "2022-06-21T16:08:53.933Z"
   },
   {
    "duration": 60361,
    "start_time": "2022-06-21T16:08:53.939Z"
   },
   {
    "duration": 28,
    "start_time": "2022-06-21T16:09:54.302Z"
   },
   {
    "duration": 206,
    "start_time": "2022-06-21T16:09:54.333Z"
   },
   {
    "duration": 8,
    "start_time": "2022-06-21T16:09:54.541Z"
   },
   {
    "duration": 94,
    "start_time": "2022-06-21T16:09:54.554Z"
   },
   {
    "duration": 56,
    "start_time": "2022-06-21T16:10:06.643Z"
   },
   {
    "duration": 5,
    "start_time": "2022-06-21T16:12:25.187Z"
   },
   {
    "duration": 34,
    "start_time": "2022-06-21T16:27:33.818Z"
   },
   {
    "duration": 1501,
    "start_time": "2022-06-21T16:28:51.694Z"
   },
   {
    "duration": 44,
    "start_time": "2022-06-21T16:28:53.197Z"
   },
   {
    "duration": 24,
    "start_time": "2022-06-21T16:28:53.243Z"
   },
   {
    "duration": 16,
    "start_time": "2022-06-21T16:28:53.269Z"
   },
   {
    "duration": 61,
    "start_time": "2022-06-21T16:28:53.287Z"
   },
   {
    "duration": 10,
    "start_time": "2022-06-21T16:28:53.350Z"
   },
   {
    "duration": 4,
    "start_time": "2022-06-21T16:28:53.361Z"
   },
   {
    "duration": 7,
    "start_time": "2022-06-21T16:28:53.366Z"
   },
   {
    "duration": 15,
    "start_time": "2022-06-21T16:28:53.375Z"
   },
   {
    "duration": 167,
    "start_time": "2022-06-21T16:28:53.391Z"
   },
   {
    "duration": 16,
    "start_time": "2022-06-21T16:28:53.559Z"
   },
   {
    "duration": 11,
    "start_time": "2022-06-21T16:28:53.576Z"
   },
   {
    "duration": 12,
    "start_time": "2022-06-21T16:28:53.588Z"
   },
   {
    "duration": 20,
    "start_time": "2022-06-21T16:28:53.603Z"
   },
   {
    "duration": 101,
    "start_time": "2022-06-21T16:28:53.634Z"
   },
   {
    "duration": 177,
    "start_time": "2022-06-21T16:28:53.737Z"
   },
   {
    "duration": 178,
    "start_time": "2022-06-21T16:28:53.916Z"
   },
   {
    "duration": 4,
    "start_time": "2022-06-21T16:28:54.096Z"
   },
   {
    "duration": 32,
    "start_time": "2022-06-21T16:28:54.102Z"
   },
   {
    "duration": 12,
    "start_time": "2022-06-21T16:28:54.136Z"
   },
   {
    "duration": 8,
    "start_time": "2022-06-21T16:28:54.150Z"
   },
   {
    "duration": 16,
    "start_time": "2022-06-21T16:28:54.159Z"
   },
   {
    "duration": 33,
    "start_time": "2022-06-21T16:28:54.177Z"
   },
   {
    "duration": 725,
    "start_time": "2022-06-21T16:28:54.212Z"
   },
   {
    "duration": 185,
    "start_time": "2022-06-21T16:28:54.939Z"
   },
   {
    "duration": 34774,
    "start_time": "2022-06-21T16:28:55.130Z"
   },
   {
    "duration": 176,
    "start_time": "2022-06-21T16:29:29.906Z"
   },
   {
    "duration": 161,
    "start_time": "2022-06-21T16:29:30.085Z"
   },
   {
    "duration": 873,
    "start_time": "2022-06-21T16:29:30.323Z"
   },
   {
    "duration": 35606,
    "start_time": "2022-06-21T16:29:31.198Z"
   },
   {
    "duration": 4,
    "start_time": "2022-06-21T16:30:06.806Z"
   },
   {
    "duration": 23,
    "start_time": "2022-06-21T16:30:06.811Z"
   },
   {
    "duration": 13,
    "start_time": "2022-06-21T16:30:06.835Z"
   },
   {
    "duration": 59060,
    "start_time": "2022-06-21T16:30:06.850Z"
   },
   {
    "duration": 44,
    "start_time": "2022-06-21T16:31:05.911Z"
   },
   {
    "duration": 160,
    "start_time": "2022-06-21T16:31:05.957Z"
   },
   {
    "duration": 9,
    "start_time": "2022-06-21T16:31:06.123Z"
   },
   {
    "duration": 19,
    "start_time": "2022-06-21T16:31:26.107Z"
   },
   {
    "duration": 1407,
    "start_time": "2022-06-21T16:39:34.798Z"
   },
   {
    "duration": 46,
    "start_time": "2022-06-21T16:39:36.207Z"
   },
   {
    "duration": 13,
    "start_time": "2022-06-21T16:39:36.255Z"
   },
   {
    "duration": 17,
    "start_time": "2022-06-21T16:39:36.270Z"
   },
   {
    "duration": 50,
    "start_time": "2022-06-21T16:39:36.289Z"
   },
   {
    "duration": 16,
    "start_time": "2022-06-21T16:39:36.342Z"
   },
   {
    "duration": 10,
    "start_time": "2022-06-21T16:39:36.360Z"
   },
   {
    "duration": 10,
    "start_time": "2022-06-21T16:39:36.372Z"
   },
   {
    "duration": 12,
    "start_time": "2022-06-21T16:39:36.384Z"
   },
   {
    "duration": 178,
    "start_time": "2022-06-21T16:39:36.397Z"
   },
   {
    "duration": 16,
    "start_time": "2022-06-21T16:39:36.577Z"
   },
   {
    "duration": 8,
    "start_time": "2022-06-21T16:39:36.595Z"
   },
   {
    "duration": 30,
    "start_time": "2022-06-21T16:39:36.604Z"
   },
   {
    "duration": 6,
    "start_time": "2022-06-21T16:39:36.639Z"
   },
   {
    "duration": 124,
    "start_time": "2022-06-21T16:39:36.647Z"
   },
   {
    "duration": 171,
    "start_time": "2022-06-21T16:39:36.772Z"
   },
   {
    "duration": 168,
    "start_time": "2022-06-21T16:39:36.945Z"
   },
   {
    "duration": 11,
    "start_time": "2022-06-21T16:39:37.115Z"
   },
   {
    "duration": 25,
    "start_time": "2022-06-21T16:39:37.127Z"
   },
   {
    "duration": 8,
    "start_time": "2022-06-21T16:39:37.154Z"
   },
   {
    "duration": 4,
    "start_time": "2022-06-21T16:39:37.164Z"
   },
   {
    "duration": 10,
    "start_time": "2022-06-21T16:39:37.169Z"
   },
   {
    "duration": 49,
    "start_time": "2022-06-21T16:39:37.180Z"
   },
   {
    "duration": 797,
    "start_time": "2022-06-21T16:39:37.232Z"
   },
   {
    "duration": 104,
    "start_time": "2022-06-21T16:39:38.031Z"
   },
   {
    "duration": 33457,
    "start_time": "2022-06-21T16:39:38.139Z"
   },
   {
    "duration": 124,
    "start_time": "2022-06-21T16:40:11.597Z"
   },
   {
    "duration": 916,
    "start_time": "2022-06-21T16:40:11.727Z"
   },
   {
    "duration": 790,
    "start_time": "2022-06-21T16:40:12.725Z"
   },
   {
    "duration": 33975,
    "start_time": "2022-06-21T16:40:13.517Z"
   },
   {
    "duration": 4,
    "start_time": "2022-06-21T16:40:47.493Z"
   },
   {
    "duration": 18,
    "start_time": "2022-06-21T16:40:47.498Z"
   },
   {
    "duration": 3,
    "start_time": "2022-06-21T16:40:47.518Z"
   },
   {
    "duration": 59135,
    "start_time": "2022-06-21T16:40:47.522Z"
   },
   {
    "duration": 19,
    "start_time": "2022-06-21T16:41:46.659Z"
   },
   {
    "duration": 162,
    "start_time": "2022-06-21T16:41:46.680Z"
   },
   {
    "duration": 9,
    "start_time": "2022-06-21T16:41:46.845Z"
   },
   {
    "duration": 1709,
    "start_time": "2022-06-21T21:14:25.510Z"
   },
   {
    "duration": 109,
    "start_time": "2022-06-21T21:14:27.221Z"
   },
   {
    "duration": 25,
    "start_time": "2022-06-21T21:14:27.332Z"
   },
   {
    "duration": 28,
    "start_time": "2022-06-21T21:14:27.359Z"
   },
   {
    "duration": 55,
    "start_time": "2022-06-21T21:14:27.388Z"
   },
   {
    "duration": 11,
    "start_time": "2022-06-21T21:14:27.444Z"
   },
   {
    "duration": 4,
    "start_time": "2022-06-21T21:14:27.457Z"
   },
   {
    "duration": 43,
    "start_time": "2022-06-21T21:14:27.462Z"
   },
   {
    "duration": 10,
    "start_time": "2022-06-21T21:14:27.507Z"
   },
   {
    "duration": 172,
    "start_time": "2022-06-21T21:14:27.520Z"
   },
   {
    "duration": 28,
    "start_time": "2022-06-21T21:14:27.693Z"
   },
   {
    "duration": 7,
    "start_time": "2022-06-21T21:14:27.723Z"
   },
   {
    "duration": 7,
    "start_time": "2022-06-21T21:14:27.731Z"
   },
   {
    "duration": 10,
    "start_time": "2022-06-21T21:14:27.740Z"
   },
   {
    "duration": 133,
    "start_time": "2022-06-21T21:14:27.753Z"
   },
   {
    "duration": 187,
    "start_time": "2022-06-21T21:14:27.891Z"
   },
   {
    "duration": 177,
    "start_time": "2022-06-21T21:14:28.080Z"
   },
   {
    "duration": 18,
    "start_time": "2022-06-21T21:14:28.260Z"
   },
   {
    "duration": 33,
    "start_time": "2022-06-21T21:14:28.289Z"
   },
   {
    "duration": 9,
    "start_time": "2022-06-21T21:14:28.324Z"
   },
   {
    "duration": 4,
    "start_time": "2022-06-21T21:14:28.335Z"
   },
   {
    "duration": 11,
    "start_time": "2022-06-21T21:14:28.341Z"
   },
   {
    "duration": 49,
    "start_time": "2022-06-21T21:14:28.354Z"
   },
   {
    "duration": 758,
    "start_time": "2022-06-21T21:14:28.406Z"
   },
   {
    "duration": 314,
    "start_time": "2022-06-21T21:14:29.166Z"
   },
   {
    "duration": 34928,
    "start_time": "2022-06-21T21:14:29.490Z"
   },
   {
    "duration": 138,
    "start_time": "2022-06-21T21:15:04.420Z"
   },
   {
    "duration": 531,
    "start_time": "2022-06-21T21:15:04.562Z"
   },
   {
    "duration": 875,
    "start_time": "2022-06-21T21:15:05.108Z"
   },
   {
    "duration": 33505,
    "start_time": "2022-06-21T21:15:05.997Z"
   },
   {
    "duration": 4,
    "start_time": "2022-06-21T21:15:39.504Z"
   },
   {
    "duration": 15,
    "start_time": "2022-06-21T21:15:39.509Z"
   },
   {
    "duration": 3,
    "start_time": "2022-06-21T21:15:39.526Z"
   },
   {
    "duration": 59783,
    "start_time": "2022-06-21T21:15:39.531Z"
   },
   {
    "duration": 18,
    "start_time": "2022-06-21T21:16:39.315Z"
   },
   {
    "duration": 165,
    "start_time": "2022-06-21T21:16:39.334Z"
   },
   {
    "duration": 6,
    "start_time": "2022-06-21T21:16:39.501Z"
   },
   {
    "duration": 99,
    "start_time": "2022-06-21T21:28:00.582Z"
   },
   {
    "duration": 1459,
    "start_time": "2022-06-21T21:46:46.649Z"
   },
   {
    "duration": 84,
    "start_time": "2022-06-21T21:46:48.110Z"
   },
   {
    "duration": 13,
    "start_time": "2022-06-21T21:46:48.195Z"
   },
   {
    "duration": 15,
    "start_time": "2022-06-21T21:46:48.209Z"
   },
   {
    "duration": 37,
    "start_time": "2022-06-21T21:46:48.226Z"
   },
   {
    "duration": 11,
    "start_time": "2022-06-21T21:46:48.264Z"
   },
   {
    "duration": 4,
    "start_time": "2022-06-21T21:46:48.276Z"
   },
   {
    "duration": 6,
    "start_time": "2022-06-21T21:46:48.281Z"
   },
   {
    "duration": 10,
    "start_time": "2022-06-21T21:46:48.288Z"
   },
   {
    "duration": 159,
    "start_time": "2022-06-21T21:46:48.300Z"
   },
   {
    "duration": 17,
    "start_time": "2022-06-21T21:46:48.460Z"
   },
   {
    "duration": 11,
    "start_time": "2022-06-21T21:46:48.478Z"
   },
   {
    "duration": 4,
    "start_time": "2022-06-21T21:46:48.490Z"
   },
   {
    "duration": 26,
    "start_time": "2022-06-21T21:46:48.497Z"
   },
   {
    "duration": 101,
    "start_time": "2022-06-21T21:46:48.525Z"
   },
   {
    "duration": 165,
    "start_time": "2022-06-21T21:46:48.628Z"
   },
   {
    "duration": 181,
    "start_time": "2022-06-21T21:46:48.795Z"
   },
   {
    "duration": 4,
    "start_time": "2022-06-21T21:46:48.978Z"
   },
   {
    "duration": 18,
    "start_time": "2022-06-21T21:46:48.984Z"
   },
   {
    "duration": 25,
    "start_time": "2022-06-21T21:46:49.003Z"
   },
   {
    "duration": 4,
    "start_time": "2022-06-21T21:46:49.030Z"
   },
   {
    "duration": 8,
    "start_time": "2022-06-21T21:46:49.035Z"
   },
   {
    "duration": 30,
    "start_time": "2022-06-21T21:46:49.044Z"
   },
   {
    "duration": 687,
    "start_time": "2022-06-21T21:46:49.076Z"
   },
   {
    "duration": 260,
    "start_time": "2022-06-21T21:46:49.765Z"
   },
   {
    "duration": 31177,
    "start_time": "2022-06-21T21:46:50.028Z"
   },
   {
    "duration": 116,
    "start_time": "2022-06-21T21:47:21.207Z"
   },
   {
    "duration": 200,
    "start_time": "2022-06-21T21:47:21.324Z"
   },
   {
    "duration": 815,
    "start_time": "2022-06-21T21:47:21.527Z"
   },
   {
    "duration": 31490,
    "start_time": "2022-06-21T21:47:22.344Z"
   },
   {
    "duration": 3,
    "start_time": "2022-06-21T21:47:53.836Z"
   },
   {
    "duration": 50,
    "start_time": "2022-06-21T21:47:53.841Z"
   },
   {
    "duration": 6,
    "start_time": "2022-06-21T21:47:53.894Z"
   },
   {
    "duration": 45500,
    "start_time": "2022-06-21T21:47:53.902Z"
   },
   {
    "duration": 22,
    "start_time": "2022-06-21T21:48:39.403Z"
   },
   {
    "duration": 131,
    "start_time": "2022-06-21T21:48:39.426Z"
   },
   {
    "duration": 11,
    "start_time": "2022-06-21T21:48:39.558Z"
   },
   {
    "duration": 1335,
    "start_time": "2022-06-21T21:57:33.318Z"
   },
   {
    "duration": 43,
    "start_time": "2022-06-21T21:57:34.655Z"
   },
   {
    "duration": 13,
    "start_time": "2022-06-21T21:57:34.699Z"
   },
   {
    "duration": 13,
    "start_time": "2022-06-21T21:57:34.714Z"
   },
   {
    "duration": 33,
    "start_time": "2022-06-21T21:57:34.728Z"
   },
   {
    "duration": 9,
    "start_time": "2022-06-21T21:57:34.763Z"
   },
   {
    "duration": 4,
    "start_time": "2022-06-21T21:57:34.773Z"
   },
   {
    "duration": 6,
    "start_time": "2022-06-21T21:57:34.778Z"
   },
   {
    "duration": 10,
    "start_time": "2022-06-21T21:57:34.785Z"
   },
   {
    "duration": 170,
    "start_time": "2022-06-21T21:57:34.796Z"
   },
   {
    "duration": 13,
    "start_time": "2022-06-21T21:57:34.968Z"
   },
   {
    "duration": 8,
    "start_time": "2022-06-21T21:57:34.983Z"
   },
   {
    "duration": 6,
    "start_time": "2022-06-21T21:57:34.993Z"
   },
   {
    "duration": 3,
    "start_time": "2022-06-21T21:57:35.001Z"
   },
   {
    "duration": 100,
    "start_time": "2022-06-21T21:57:35.023Z"
   },
   {
    "duration": 159,
    "start_time": "2022-06-21T21:57:35.125Z"
   },
   {
    "duration": 161,
    "start_time": "2022-06-21T21:57:35.285Z"
   },
   {
    "duration": 4,
    "start_time": "2022-06-21T21:57:35.447Z"
   },
   {
    "duration": 15,
    "start_time": "2022-06-21T21:57:35.453Z"
   },
   {
    "duration": 8,
    "start_time": "2022-06-21T21:57:35.469Z"
   },
   {
    "duration": 7,
    "start_time": "2022-06-21T21:57:35.478Z"
   },
   {
    "duration": 4,
    "start_time": "2022-06-21T21:57:35.487Z"
   },
   {
    "duration": 53,
    "start_time": "2022-06-21T21:57:35.493Z"
   },
   {
    "duration": 670,
    "start_time": "2022-06-21T21:57:35.548Z"
   },
   {
    "duration": 202,
    "start_time": "2022-06-21T21:57:36.223Z"
   },
   {
    "duration": 31730,
    "start_time": "2022-06-21T21:57:36.427Z"
   },
   {
    "duration": 126,
    "start_time": "2022-06-21T21:58:08.159Z"
   },
   {
    "duration": 238,
    "start_time": "2022-06-21T21:58:08.286Z"
   },
   {
    "duration": 849,
    "start_time": "2022-06-21T21:58:08.527Z"
   },
   {
    "duration": 31473,
    "start_time": "2022-06-21T21:58:09.378Z"
   },
   {
    "duration": 4,
    "start_time": "2022-06-21T21:58:40.853Z"
   },
   {
    "duration": 15,
    "start_time": "2022-06-21T21:58:40.859Z"
   },
   {
    "duration": 3,
    "start_time": "2022-06-21T21:58:40.875Z"
   },
   {
    "duration": 45083,
    "start_time": "2022-06-21T21:58:40.880Z"
   },
   {
    "duration": 18,
    "start_time": "2022-06-21T21:59:25.965Z"
   },
   {
    "duration": 151,
    "start_time": "2022-06-21T21:59:25.984Z"
   },
   {
    "duration": 6,
    "start_time": "2022-06-21T21:59:26.136Z"
   },
   {
    "duration": 1266,
    "start_time": "2022-06-21T22:02:22.821Z"
   },
   {
    "duration": 42,
    "start_time": "2022-06-21T22:02:24.089Z"
   },
   {
    "duration": 14,
    "start_time": "2022-06-21T22:02:24.133Z"
   },
   {
    "duration": 18,
    "start_time": "2022-06-21T22:02:24.149Z"
   },
   {
    "duration": 35,
    "start_time": "2022-06-21T22:02:24.169Z"
   },
   {
    "duration": 10,
    "start_time": "2022-06-21T22:02:24.223Z"
   },
   {
    "duration": 3,
    "start_time": "2022-06-21T22:02:24.235Z"
   },
   {
    "duration": 7,
    "start_time": "2022-06-21T22:02:24.240Z"
   },
   {
    "duration": 10,
    "start_time": "2022-06-21T22:02:24.248Z"
   },
   {
    "duration": 147,
    "start_time": "2022-06-21T22:02:24.260Z"
   },
   {
    "duration": 17,
    "start_time": "2022-06-21T22:02:24.409Z"
   },
   {
    "duration": 5,
    "start_time": "2022-06-21T22:02:24.428Z"
   },
   {
    "duration": 8,
    "start_time": "2022-06-21T22:02:24.434Z"
   },
   {
    "duration": 4,
    "start_time": "2022-06-21T22:02:24.443Z"
   },
   {
    "duration": 109,
    "start_time": "2022-06-21T22:02:24.448Z"
   },
   {
    "duration": 166,
    "start_time": "2022-06-21T22:02:24.559Z"
   },
   {
    "duration": 162,
    "start_time": "2022-06-21T22:02:24.727Z"
   },
   {
    "duration": 4,
    "start_time": "2022-06-21T22:02:24.890Z"
   },
   {
    "duration": 16,
    "start_time": "2022-06-21T22:02:24.896Z"
   },
   {
    "duration": 15,
    "start_time": "2022-06-21T22:02:24.914Z"
   },
   {
    "duration": 3,
    "start_time": "2022-06-21T22:02:24.931Z"
   },
   {
    "duration": 6,
    "start_time": "2022-06-21T22:02:24.935Z"
   },
   {
    "duration": 31,
    "start_time": "2022-06-21T22:02:24.943Z"
   },
   {
    "duration": 697,
    "start_time": "2022-06-21T22:02:24.975Z"
   },
   {
    "duration": 250,
    "start_time": "2022-06-21T22:02:25.674Z"
   },
   {
    "duration": 31099,
    "start_time": "2022-06-21T22:02:25.927Z"
   },
   {
    "duration": 112,
    "start_time": "2022-06-21T22:02:57.028Z"
   },
   {
    "duration": 285,
    "start_time": "2022-06-21T22:02:57.143Z"
   },
   {
    "duration": 882,
    "start_time": "2022-06-21T22:02:57.430Z"
   },
   {
    "duration": 31710,
    "start_time": "2022-06-21T22:02:58.314Z"
   },
   {
    "duration": 4,
    "start_time": "2022-06-21T22:03:30.026Z"
   },
   {
    "duration": 23,
    "start_time": "2022-06-21T22:03:30.032Z"
   },
   {
    "duration": 7,
    "start_time": "2022-06-21T22:03:30.056Z"
   },
   {
    "duration": 60235,
    "start_time": "2022-06-21T22:03:30.065Z"
   },
   {
    "duration": 21,
    "start_time": "2022-06-21T22:04:30.302Z"
   },
   {
    "duration": 142,
    "start_time": "2022-06-21T22:04:30.324Z"
   },
   {
    "duration": 7,
    "start_time": "2022-06-21T22:04:30.468Z"
   },
   {
    "duration": 51,
    "start_time": "2022-06-22T13:31:39.100Z"
   },
   {
    "duration": 6,
    "start_time": "2022-06-22T13:31:45.812Z"
   },
   {
    "duration": 1500,
    "start_time": "2022-06-22T13:31:51.794Z"
   },
   {
    "duration": 79,
    "start_time": "2022-06-22T13:31:53.296Z"
   },
   {
    "duration": 14,
    "start_time": "2022-06-22T13:31:53.376Z"
   },
   {
    "duration": 15,
    "start_time": "2022-06-22T13:31:53.392Z"
   },
   {
    "duration": 37,
    "start_time": "2022-06-22T13:31:53.409Z"
   },
   {
    "duration": 14,
    "start_time": "2022-06-22T13:31:53.448Z"
   },
   {
    "duration": 4,
    "start_time": "2022-06-22T13:31:53.463Z"
   },
   {
    "duration": 7,
    "start_time": "2022-06-22T13:31:53.468Z"
   },
   {
    "duration": 10,
    "start_time": "2022-06-22T13:31:53.476Z"
   },
   {
    "duration": 138,
    "start_time": "2022-06-22T13:31:53.527Z"
   },
   {
    "duration": 16,
    "start_time": "2022-06-22T13:31:53.667Z"
   },
   {
    "duration": 9,
    "start_time": "2022-06-22T13:31:53.685Z"
   },
   {
    "duration": 33,
    "start_time": "2022-06-22T13:31:53.696Z"
   },
   {
    "duration": 6,
    "start_time": "2022-06-22T13:31:53.731Z"
   },
   {
    "duration": 124,
    "start_time": "2022-06-22T13:31:53.739Z"
   },
   {
    "duration": 185,
    "start_time": "2022-06-22T13:31:53.865Z"
   },
   {
    "duration": 166,
    "start_time": "2022-06-22T13:31:54.052Z"
   },
   {
    "duration": 8,
    "start_time": "2022-06-22T13:31:54.219Z"
   },
   {
    "duration": 16,
    "start_time": "2022-06-22T13:31:54.229Z"
   },
   {
    "duration": 8,
    "start_time": "2022-06-22T13:31:54.246Z"
   },
   {
    "duration": 3,
    "start_time": "2022-06-22T13:31:54.255Z"
   },
   {
    "duration": 5,
    "start_time": "2022-06-22T13:31:54.260Z"
   },
   {
    "duration": 78,
    "start_time": "2022-06-22T13:31:54.267Z"
   },
   {
    "duration": 684,
    "start_time": "2022-06-22T13:31:54.346Z"
   },
   {
    "duration": 297,
    "start_time": "2022-06-22T13:31:55.031Z"
   },
   {
    "duration": 32157,
    "start_time": "2022-06-22T13:31:55.330Z"
   },
   {
    "duration": 138,
    "start_time": "2022-06-22T13:32:27.489Z"
   },
   {
    "duration": 201,
    "start_time": "2022-06-22T13:32:27.630Z"
   },
   {
    "duration": 871,
    "start_time": "2022-06-22T13:32:27.833Z"
   },
   {
    "duration": 31559,
    "start_time": "2022-06-22T13:32:28.706Z"
   },
   {
    "duration": 4,
    "start_time": "2022-06-22T13:33:00.267Z"
   },
   {
    "duration": 29,
    "start_time": "2022-06-22T13:33:00.272Z"
   },
   {
    "duration": 107,
    "start_time": "2022-06-22T13:33:00.303Z"
   },
   {
    "duration": 4,
    "start_time": "2022-06-22T13:33:00.411Z"
   },
   {
    "duration": 59729,
    "start_time": "2022-06-22T13:33:00.416Z"
   },
   {
    "duration": 16,
    "start_time": "2022-06-22T13:34:00.146Z"
   },
   {
    "duration": 142,
    "start_time": "2022-06-22T13:34:00.164Z"
   },
   {
    "duration": 7,
    "start_time": "2022-06-22T13:34:00.307Z"
   },
   {
    "duration": 104,
    "start_time": "2022-06-22T13:36:12.630Z"
   },
   {
    "duration": 102,
    "start_time": "2022-06-22T13:36:23.345Z"
   },
   {
    "duration": 8,
    "start_time": "2022-06-22T13:37:22.718Z"
   },
   {
    "duration": 4,
    "start_time": "2022-06-22T13:37:26.368Z"
   },
   {
    "duration": 1317,
    "start_time": "2022-06-22T13:37:49.267Z"
   },
   {
    "duration": 44,
    "start_time": "2022-06-22T13:37:50.586Z"
   },
   {
    "duration": 13,
    "start_time": "2022-06-22T13:37:50.631Z"
   },
   {
    "duration": 13,
    "start_time": "2022-06-22T13:37:50.646Z"
   },
   {
    "duration": 36,
    "start_time": "2022-06-22T13:37:50.661Z"
   },
   {
    "duration": 29,
    "start_time": "2022-06-22T13:37:50.699Z"
   },
   {
    "duration": 5,
    "start_time": "2022-06-22T13:37:50.729Z"
   },
   {
    "duration": 10,
    "start_time": "2022-06-22T13:37:50.735Z"
   },
   {
    "duration": 9,
    "start_time": "2022-06-22T13:37:50.747Z"
   },
   {
    "duration": 147,
    "start_time": "2022-06-22T13:37:50.758Z"
   },
   {
    "duration": 13,
    "start_time": "2022-06-22T13:37:50.906Z"
   },
   {
    "duration": 4,
    "start_time": "2022-06-22T13:37:50.927Z"
   },
   {
    "duration": 6,
    "start_time": "2022-06-22T13:37:50.933Z"
   },
   {
    "duration": 4,
    "start_time": "2022-06-22T13:37:50.940Z"
   },
   {
    "duration": 115,
    "start_time": "2022-06-22T13:37:50.945Z"
   },
   {
    "duration": 167,
    "start_time": "2022-06-22T13:37:51.062Z"
   },
   {
    "duration": 173,
    "start_time": "2022-06-22T13:37:51.230Z"
   },
   {
    "duration": 4,
    "start_time": "2022-06-22T13:37:51.405Z"
   },
   {
    "duration": 24,
    "start_time": "2022-06-22T13:37:51.411Z"
   },
   {
    "duration": 8,
    "start_time": "2022-06-22T13:37:51.436Z"
   },
   {
    "duration": 3,
    "start_time": "2022-06-22T13:37:51.446Z"
   },
   {
    "duration": 5,
    "start_time": "2022-06-22T13:37:51.451Z"
   },
   {
    "duration": 30,
    "start_time": "2022-06-22T13:37:51.458Z"
   },
   {
    "duration": 724,
    "start_time": "2022-06-22T13:37:51.490Z"
   },
   {
    "duration": 214,
    "start_time": "2022-06-22T13:37:52.216Z"
   },
   {
    "duration": 32547,
    "start_time": "2022-06-22T13:37:52.433Z"
   },
   {
    "duration": 123,
    "start_time": "2022-06-22T13:38:24.982Z"
   },
   {
    "duration": 224,
    "start_time": "2022-06-22T13:38:25.109Z"
   },
   {
    "duration": 818,
    "start_time": "2022-06-22T13:38:25.427Z"
   },
   {
    "duration": 31415,
    "start_time": "2022-06-22T13:38:26.247Z"
   },
   {
    "duration": 4,
    "start_time": "2022-06-22T13:38:57.664Z"
   },
   {
    "duration": 12,
    "start_time": "2022-06-22T13:38:57.670Z"
   },
   {
    "duration": 4,
    "start_time": "2022-06-22T13:38:57.683Z"
   },
   {
    "duration": 46615,
    "start_time": "2022-06-22T13:38:57.689Z"
   },
   {
    "duration": 23,
    "start_time": "2022-06-22T13:39:44.306Z"
   },
   {
    "duration": 130,
    "start_time": "2022-06-22T13:39:44.330Z"
   },
   {
    "duration": 6,
    "start_time": "2022-06-22T13:39:44.461Z"
   },
   {
    "duration": 8,
    "start_time": "2022-06-22T13:40:21.187Z"
   },
   {
    "duration": 4,
    "start_time": "2022-06-22T13:40:22.995Z"
   },
   {
    "duration": 8,
    "start_time": "2022-06-22T13:40:27.316Z"
   },
   {
    "duration": 4,
    "start_time": "2022-06-22T13:40:29.968Z"
   },
   {
    "duration": 7,
    "start_time": "2022-06-22T13:40:36.970Z"
   },
   {
    "duration": 3,
    "start_time": "2022-06-22T13:40:39.750Z"
   },
   {
    "duration": 1383,
    "start_time": "2022-06-22T13:43:23.523Z"
   },
   {
    "duration": 41,
    "start_time": "2022-06-22T13:43:24.908Z"
   },
   {
    "duration": 15,
    "start_time": "2022-06-22T13:43:24.950Z"
   },
   {
    "duration": 15,
    "start_time": "2022-06-22T13:43:24.966Z"
   },
   {
    "duration": 48,
    "start_time": "2022-06-22T13:43:24.983Z"
   },
   {
    "duration": 10,
    "start_time": "2022-06-22T13:43:25.033Z"
   },
   {
    "duration": 3,
    "start_time": "2022-06-22T13:43:25.045Z"
   },
   {
    "duration": 9,
    "start_time": "2022-06-22T13:43:25.050Z"
   },
   {
    "duration": 19,
    "start_time": "2022-06-22T13:43:25.060Z"
   },
   {
    "duration": 138,
    "start_time": "2022-06-22T13:43:25.080Z"
   },
   {
    "duration": 14,
    "start_time": "2022-06-22T13:43:25.227Z"
   },
   {
    "duration": 10,
    "start_time": "2022-06-22T13:43:25.242Z"
   },
   {
    "duration": 8,
    "start_time": "2022-06-22T13:43:25.253Z"
   },
   {
    "duration": 15,
    "start_time": "2022-06-22T13:43:25.265Z"
   },
   {
    "duration": 111,
    "start_time": "2022-06-22T13:43:25.282Z"
   },
   {
    "duration": 162,
    "start_time": "2022-06-22T13:43:25.395Z"
   },
   {
    "duration": 149,
    "start_time": "2022-06-22T13:43:25.559Z"
   },
   {
    "duration": 4,
    "start_time": "2022-06-22T13:43:25.709Z"
   },
   {
    "duration": 11,
    "start_time": "2022-06-22T13:43:25.728Z"
   },
   {
    "duration": 7,
    "start_time": "2022-06-22T13:43:25.741Z"
   },
   {
    "duration": 5,
    "start_time": "2022-06-22T13:43:25.749Z"
   },
   {
    "duration": 6,
    "start_time": "2022-06-22T13:43:25.755Z"
   },
   {
    "duration": 31,
    "start_time": "2022-06-22T13:43:25.762Z"
   },
   {
    "duration": 740,
    "start_time": "2022-06-22T13:43:25.795Z"
   },
   {
    "duration": 103,
    "start_time": "2022-06-22T13:43:26.537Z"
   },
   {
    "duration": 32446,
    "start_time": "2022-06-22T13:43:26.642Z"
   },
   {
    "duration": 117,
    "start_time": "2022-06-22T13:43:59.089Z"
   },
   {
    "duration": 222,
    "start_time": "2022-06-22T13:43:59.208Z"
   },
   {
    "duration": 830,
    "start_time": "2022-06-22T13:43:59.433Z"
   },
   {
    "duration": 33181,
    "start_time": "2022-06-22T13:44:00.265Z"
   },
   {
    "duration": 4,
    "start_time": "2022-06-22T13:44:33.448Z"
   },
   {
    "duration": 11,
    "start_time": "2022-06-22T13:44:33.453Z"
   },
   {
    "duration": 4,
    "start_time": "2022-06-22T13:44:33.466Z"
   },
   {
    "duration": 47885,
    "start_time": "2022-06-22T13:44:33.471Z"
   },
   {
    "duration": 16,
    "start_time": "2022-06-22T13:45:21.357Z"
   },
   {
    "duration": 150,
    "start_time": "2022-06-22T13:45:21.375Z"
   },
   {
    "duration": 6,
    "start_time": "2022-06-22T13:45:21.527Z"
   }
  ],
  "kernelspec": {
   "display_name": "Python 3",
   "language": "python",
   "name": "python3"
  },
  "language_info": {
   "codemirror_mode": {
    "name": "ipython",
    "version": 3
   },
   "file_extension": ".py",
   "mimetype": "text/x-python",
   "name": "python",
   "nbconvert_exporter": "python",
   "pygments_lexer": "ipython3",
   "version": "3.8.8"
  },
  "toc": {
   "base_numbering": 1,
   "nav_menu": {},
   "number_sections": true,
   "sideBar": true,
   "skip_h1_title": true,
   "title_cell": "Содержание",
   "title_sidebar": "Contents",
   "toc_cell": true,
   "toc_position": {
    "height": "calc(100% - 180px)",
    "left": "10px",
    "top": "150px",
    "width": "165px"
   },
   "toc_section_display": true,
   "toc_window_display": true
  }
 },
 "nbformat": 4,
 "nbformat_minor": 2
}
