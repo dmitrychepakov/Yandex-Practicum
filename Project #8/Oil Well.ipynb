{
 "cells": [
  {
   "cell_type": "markdown",
   "metadata": {},
   "source": [
    "# Выбор локации для скважины"
   ]
  },
  {
   "cell_type": "markdown",
   "metadata": {},
   "source": [
    "Допустим, вы работаете в добывающей компании «ГлавРосГосНефть». Нужно решить, где бурить новую скважину.\n",
    "\n",
    "Вам предоставлены пробы нефти в трёх регионах: в каждом 10 000 месторождений, где измерили качество нефти и объём её запасов. Постройте модель машинного обучения, которая поможет определить регион, где добыча принесёт наибольшую прибыль. Проанализируйте возможную прибыль и риски техникой *Bootstrap.*\n",
    "\n",
    "Шаги для выбора локации:\n",
    "\n",
    "- В избранном регионе ищут месторождения, для каждого определяют значения признаков;\n",
    "- Строят модель и оценивают объём запасов;\n",
    "- Выбирают месторождения с самым высокими оценками значений. Количество месторождений зависит от бюджета компании и стоимости разработки одной скважины;\n",
    "- Прибыль равна суммарной прибыли отобранных месторождений."
   ]
  },
  {
   "cell_type": "markdown",
   "metadata": {},
   "source": [
    "## Загрузка и подготовка данных"
   ]
  },
  {
   "cell_type": "code",
   "execution_count": 1,
   "metadata": {},
   "outputs": [],
   "source": [
    "# загружаем библиотеки \n",
    "\n",
    "import pandas as pd\n",
    "import seaborn as sns\n",
    "import matplotlib.pyplot as plt\n",
    "from sklearn.model_selection import train_test_split\n",
    "from sklearn.preprocessing import StandardScaler\n",
    "from sklearn.metrics import mean_squared_error\n",
    "from sklearn.linear_model import LinearRegression\n",
    "import numpy as np\n",
    "\n",
    "pd.set_option ('display.float_format', '{:.2f}'.format)"
   ]
  },
  {
   "cell_type": "code",
   "execution_count": 2,
   "metadata": {},
   "outputs": [],
   "source": [
    "# читаем файлы датасетов и сохраняем их\n",
    "\n",
    "df_0 = pd.read_csv('/datasets/geo_data_0.csv')\n",
    "df_1 = pd.read_csv('/datasets/geo_data_1.csv')\n",
    "df_2 = pd.read_csv('/datasets/geo_data_2.csv')"
   ]
  },
  {
   "cell_type": "code",
   "execution_count": 3,
   "metadata": {
    "scrolled": true
   },
   "outputs": [
    {
     "name": "stdout",
     "output_type": "stream",
     "text": [
      "dataset_0:\n"
     ]
    },
    {
     "data": {
      "text/html": [
       "<div>\n",
       "<style scoped>\n",
       "    .dataframe tbody tr th:only-of-type {\n",
       "        vertical-align: middle;\n",
       "    }\n",
       "\n",
       "    .dataframe tbody tr th {\n",
       "        vertical-align: top;\n",
       "    }\n",
       "\n",
       "    .dataframe thead th {\n",
       "        text-align: right;\n",
       "    }\n",
       "</style>\n",
       "<table border=\"1\" class=\"dataframe\">\n",
       "  <thead>\n",
       "    <tr style=\"text-align: right;\">\n",
       "      <th></th>\n",
       "      <th>id</th>\n",
       "      <th>f0</th>\n",
       "      <th>f1</th>\n",
       "      <th>f2</th>\n",
       "      <th>product</th>\n",
       "    </tr>\n",
       "  </thead>\n",
       "  <tbody>\n",
       "    <tr>\n",
       "      <th>0</th>\n",
       "      <td>txEyH</td>\n",
       "      <td>0.71</td>\n",
       "      <td>-0.50</td>\n",
       "      <td>1.22</td>\n",
       "      <td>105.28</td>\n",
       "    </tr>\n",
       "    <tr>\n",
       "      <th>1</th>\n",
       "      <td>2acmU</td>\n",
       "      <td>1.33</td>\n",
       "      <td>-0.34</td>\n",
       "      <td>4.37</td>\n",
       "      <td>73.04</td>\n",
       "    </tr>\n",
       "    <tr>\n",
       "      <th>2</th>\n",
       "      <td>409Wp</td>\n",
       "      <td>1.02</td>\n",
       "      <td>0.15</td>\n",
       "      <td>1.42</td>\n",
       "      <td>85.27</td>\n",
       "    </tr>\n",
       "    <tr>\n",
       "      <th>3</th>\n",
       "      <td>iJLyR</td>\n",
       "      <td>-0.03</td>\n",
       "      <td>0.14</td>\n",
       "      <td>2.98</td>\n",
       "      <td>168.62</td>\n",
       "    </tr>\n",
       "    <tr>\n",
       "      <th>4</th>\n",
       "      <td>Xdl7t</td>\n",
       "      <td>1.99</td>\n",
       "      <td>0.16</td>\n",
       "      <td>4.75</td>\n",
       "      <td>154.04</td>\n",
       "    </tr>\n",
       "  </tbody>\n",
       "</table>\n",
       "</div>"
      ],
      "text/plain": [
       "      id    f0    f1   f2  product\n",
       "0  txEyH  0.71 -0.50 1.22   105.28\n",
       "1  2acmU  1.33 -0.34 4.37    73.04\n",
       "2  409Wp  1.02  0.15 1.42    85.27\n",
       "3  iJLyR -0.03  0.14 2.98   168.62\n",
       "4  Xdl7t  1.99  0.16 4.75   154.04"
      ]
     },
     "metadata": {},
     "output_type": "display_data"
    },
    {
     "name": "stdout",
     "output_type": "stream",
     "text": [
      "-------------------------------------------------\n",
      "dataset_1:\n"
     ]
    },
    {
     "data": {
      "text/html": [
       "<div>\n",
       "<style scoped>\n",
       "    .dataframe tbody tr th:only-of-type {\n",
       "        vertical-align: middle;\n",
       "    }\n",
       "\n",
       "    .dataframe tbody tr th {\n",
       "        vertical-align: top;\n",
       "    }\n",
       "\n",
       "    .dataframe thead th {\n",
       "        text-align: right;\n",
       "    }\n",
       "</style>\n",
       "<table border=\"1\" class=\"dataframe\">\n",
       "  <thead>\n",
       "    <tr style=\"text-align: right;\">\n",
       "      <th></th>\n",
       "      <th>id</th>\n",
       "      <th>f0</th>\n",
       "      <th>f1</th>\n",
       "      <th>f2</th>\n",
       "      <th>product</th>\n",
       "    </tr>\n",
       "  </thead>\n",
       "  <tbody>\n",
       "    <tr>\n",
       "      <th>0</th>\n",
       "      <td>kBEdx</td>\n",
       "      <td>-15.00</td>\n",
       "      <td>-8.28</td>\n",
       "      <td>-0.01</td>\n",
       "      <td>3.18</td>\n",
       "    </tr>\n",
       "    <tr>\n",
       "      <th>1</th>\n",
       "      <td>62mP7</td>\n",
       "      <td>14.27</td>\n",
       "      <td>-3.48</td>\n",
       "      <td>1.00</td>\n",
       "      <td>26.95</td>\n",
       "    </tr>\n",
       "    <tr>\n",
       "      <th>2</th>\n",
       "      <td>vyE1P</td>\n",
       "      <td>6.26</td>\n",
       "      <td>-5.95</td>\n",
       "      <td>5.00</td>\n",
       "      <td>134.77</td>\n",
       "    </tr>\n",
       "    <tr>\n",
       "      <th>3</th>\n",
       "      <td>KcrkZ</td>\n",
       "      <td>-13.08</td>\n",
       "      <td>-11.51</td>\n",
       "      <td>5.00</td>\n",
       "      <td>137.95</td>\n",
       "    </tr>\n",
       "    <tr>\n",
       "      <th>4</th>\n",
       "      <td>AHL4O</td>\n",
       "      <td>12.70</td>\n",
       "      <td>-8.15</td>\n",
       "      <td>5.00</td>\n",
       "      <td>134.77</td>\n",
       "    </tr>\n",
       "  </tbody>\n",
       "</table>\n",
       "</div>"
      ],
      "text/plain": [
       "      id     f0     f1    f2  product\n",
       "0  kBEdx -15.00  -8.28 -0.01     3.18\n",
       "1  62mP7  14.27  -3.48  1.00    26.95\n",
       "2  vyE1P   6.26  -5.95  5.00   134.77\n",
       "3  KcrkZ -13.08 -11.51  5.00   137.95\n",
       "4  AHL4O  12.70  -8.15  5.00   134.77"
      ]
     },
     "metadata": {},
     "output_type": "display_data"
    },
    {
     "name": "stdout",
     "output_type": "stream",
     "text": [
      "-------------------------------------------------\n",
      "dataset_2:\n"
     ]
    },
    {
     "data": {
      "text/html": [
       "<div>\n",
       "<style scoped>\n",
       "    .dataframe tbody tr th:only-of-type {\n",
       "        vertical-align: middle;\n",
       "    }\n",
       "\n",
       "    .dataframe tbody tr th {\n",
       "        vertical-align: top;\n",
       "    }\n",
       "\n",
       "    .dataframe thead th {\n",
       "        text-align: right;\n",
       "    }\n",
       "</style>\n",
       "<table border=\"1\" class=\"dataframe\">\n",
       "  <thead>\n",
       "    <tr style=\"text-align: right;\">\n",
       "      <th></th>\n",
       "      <th>id</th>\n",
       "      <th>f0</th>\n",
       "      <th>f1</th>\n",
       "      <th>f2</th>\n",
       "      <th>product</th>\n",
       "    </tr>\n",
       "  </thead>\n",
       "  <tbody>\n",
       "    <tr>\n",
       "      <th>0</th>\n",
       "      <td>fwXo0</td>\n",
       "      <td>-1.15</td>\n",
       "      <td>0.96</td>\n",
       "      <td>-0.83</td>\n",
       "      <td>27.76</td>\n",
       "    </tr>\n",
       "    <tr>\n",
       "      <th>1</th>\n",
       "      <td>WJtFt</td>\n",
       "      <td>0.26</td>\n",
       "      <td>0.27</td>\n",
       "      <td>-2.53</td>\n",
       "      <td>56.07</td>\n",
       "    </tr>\n",
       "    <tr>\n",
       "      <th>2</th>\n",
       "      <td>ovLUW</td>\n",
       "      <td>0.19</td>\n",
       "      <td>0.29</td>\n",
       "      <td>-5.59</td>\n",
       "      <td>62.87</td>\n",
       "    </tr>\n",
       "    <tr>\n",
       "      <th>3</th>\n",
       "      <td>q6cA6</td>\n",
       "      <td>2.24</td>\n",
       "      <td>-0.55</td>\n",
       "      <td>0.93</td>\n",
       "      <td>114.57</td>\n",
       "    </tr>\n",
       "    <tr>\n",
       "      <th>4</th>\n",
       "      <td>WPMUX</td>\n",
       "      <td>-0.52</td>\n",
       "      <td>1.72</td>\n",
       "      <td>5.90</td>\n",
       "      <td>149.60</td>\n",
       "    </tr>\n",
       "  </tbody>\n",
       "</table>\n",
       "</div>"
      ],
      "text/plain": [
       "      id    f0    f1    f2  product\n",
       "0  fwXo0 -1.15  0.96 -0.83    27.76\n",
       "1  WJtFt  0.26  0.27 -2.53    56.07\n",
       "2  ovLUW  0.19  0.29 -5.59    62.87\n",
       "3  q6cA6  2.24 -0.55  0.93   114.57\n",
       "4  WPMUX -0.52  1.72  5.90   149.60"
      ]
     },
     "metadata": {},
     "output_type": "display_data"
    },
    {
     "name": "stdout",
     "output_type": "stream",
     "text": [
      "-------------------------------------------------\n"
     ]
    }
   ],
   "source": [
    "data_list = [df_0, df_1, df_2]\n",
    "data_list_name = ['dataset_0', 'dataset_1', 'dataset_2']\n",
    "\n",
    "for x,y in zip(data_list, data_list_name):\n",
    "    print(y + ':')\n",
    "    display(x.head())\n",
    "    print('-------------------------------------------------')"
   ]
  },
  {
   "cell_type": "code",
   "execution_count": 4,
   "metadata": {
    "scrolled": true
   },
   "outputs": [
    {
     "name": "stdout",
     "output_type": "stream",
     "text": [
      "<class 'pandas.core.frame.DataFrame'>\n",
      "RangeIndex: 100000 entries, 0 to 99999\n",
      "Data columns (total 5 columns):\n",
      " #   Column   Non-Null Count   Dtype  \n",
      "---  ------   --------------   -----  \n",
      " 0   id       100000 non-null  object \n",
      " 1   f0       100000 non-null  float64\n",
      " 2   f1       100000 non-null  float64\n",
      " 3   f2       100000 non-null  float64\n",
      " 4   product  100000 non-null  float64\n",
      "dtypes: float64(4), object(1)\n",
      "memory usage: 3.8+ MB\n"
     ]
    },
    {
     "data": {
      "text/html": [
       "<div>\n",
       "<style scoped>\n",
       "    .dataframe tbody tr th:only-of-type {\n",
       "        vertical-align: middle;\n",
       "    }\n",
       "\n",
       "    .dataframe tbody tr th {\n",
       "        vertical-align: top;\n",
       "    }\n",
       "\n",
       "    .dataframe thead th {\n",
       "        text-align: right;\n",
       "    }\n",
       "</style>\n",
       "<table border=\"1\" class=\"dataframe\">\n",
       "  <thead>\n",
       "    <tr style=\"text-align: right;\">\n",
       "      <th></th>\n",
       "      <th>f0</th>\n",
       "      <th>f1</th>\n",
       "      <th>f2</th>\n",
       "      <th>product</th>\n",
       "    </tr>\n",
       "  </thead>\n",
       "  <tbody>\n",
       "    <tr>\n",
       "      <th>count</th>\n",
       "      <td>100000.00</td>\n",
       "      <td>100000.00</td>\n",
       "      <td>100000.00</td>\n",
       "      <td>100000.00</td>\n",
       "    </tr>\n",
       "    <tr>\n",
       "      <th>mean</th>\n",
       "      <td>0.50</td>\n",
       "      <td>0.25</td>\n",
       "      <td>2.50</td>\n",
       "      <td>92.50</td>\n",
       "    </tr>\n",
       "    <tr>\n",
       "      <th>std</th>\n",
       "      <td>0.87</td>\n",
       "      <td>0.50</td>\n",
       "      <td>3.25</td>\n",
       "      <td>44.29</td>\n",
       "    </tr>\n",
       "    <tr>\n",
       "      <th>min</th>\n",
       "      <td>-1.41</td>\n",
       "      <td>-0.85</td>\n",
       "      <td>-12.09</td>\n",
       "      <td>0.00</td>\n",
       "    </tr>\n",
       "    <tr>\n",
       "      <th>25%</th>\n",
       "      <td>-0.07</td>\n",
       "      <td>-0.20</td>\n",
       "      <td>0.29</td>\n",
       "      <td>56.50</td>\n",
       "    </tr>\n",
       "    <tr>\n",
       "      <th>50%</th>\n",
       "      <td>0.50</td>\n",
       "      <td>0.25</td>\n",
       "      <td>2.52</td>\n",
       "      <td>91.85</td>\n",
       "    </tr>\n",
       "    <tr>\n",
       "      <th>75%</th>\n",
       "      <td>1.07</td>\n",
       "      <td>0.70</td>\n",
       "      <td>4.72</td>\n",
       "      <td>128.56</td>\n",
       "    </tr>\n",
       "    <tr>\n",
       "      <th>max</th>\n",
       "      <td>2.36</td>\n",
       "      <td>1.34</td>\n",
       "      <td>16.00</td>\n",
       "      <td>185.36</td>\n",
       "    </tr>\n",
       "  </tbody>\n",
       "</table>\n",
       "</div>"
      ],
      "text/plain": [
       "             f0        f1        f2   product\n",
       "count 100000.00 100000.00 100000.00 100000.00\n",
       "mean       0.50      0.25      2.50     92.50\n",
       "std        0.87      0.50      3.25     44.29\n",
       "min       -1.41     -0.85    -12.09      0.00\n",
       "25%       -0.07     -0.20      0.29     56.50\n",
       "50%        0.50      0.25      2.52     91.85\n",
       "75%        1.07      0.70      4.72    128.56\n",
       "max        2.36      1.34     16.00    185.36"
      ]
     },
     "metadata": {},
     "output_type": "display_data"
    },
    {
     "name": "stdout",
     "output_type": "stream",
     "text": [
      "-------------------------------------------------\n",
      "<class 'pandas.core.frame.DataFrame'>\n",
      "RangeIndex: 100000 entries, 0 to 99999\n",
      "Data columns (total 5 columns):\n",
      " #   Column   Non-Null Count   Dtype  \n",
      "---  ------   --------------   -----  \n",
      " 0   id       100000 non-null  object \n",
      " 1   f0       100000 non-null  float64\n",
      " 2   f1       100000 non-null  float64\n",
      " 3   f2       100000 non-null  float64\n",
      " 4   product  100000 non-null  float64\n",
      "dtypes: float64(4), object(1)\n",
      "memory usage: 3.8+ MB\n"
     ]
    },
    {
     "data": {
      "text/html": [
       "<div>\n",
       "<style scoped>\n",
       "    .dataframe tbody tr th:only-of-type {\n",
       "        vertical-align: middle;\n",
       "    }\n",
       "\n",
       "    .dataframe tbody tr th {\n",
       "        vertical-align: top;\n",
       "    }\n",
       "\n",
       "    .dataframe thead th {\n",
       "        text-align: right;\n",
       "    }\n",
       "</style>\n",
       "<table border=\"1\" class=\"dataframe\">\n",
       "  <thead>\n",
       "    <tr style=\"text-align: right;\">\n",
       "      <th></th>\n",
       "      <th>f0</th>\n",
       "      <th>f1</th>\n",
       "      <th>f2</th>\n",
       "      <th>product</th>\n",
       "    </tr>\n",
       "  </thead>\n",
       "  <tbody>\n",
       "    <tr>\n",
       "      <th>count</th>\n",
       "      <td>100000.00</td>\n",
       "      <td>100000.00</td>\n",
       "      <td>100000.00</td>\n",
       "      <td>100000.00</td>\n",
       "    </tr>\n",
       "    <tr>\n",
       "      <th>mean</th>\n",
       "      <td>1.14</td>\n",
       "      <td>-4.80</td>\n",
       "      <td>2.49</td>\n",
       "      <td>68.83</td>\n",
       "    </tr>\n",
       "    <tr>\n",
       "      <th>std</th>\n",
       "      <td>8.97</td>\n",
       "      <td>5.12</td>\n",
       "      <td>1.70</td>\n",
       "      <td>45.94</td>\n",
       "    </tr>\n",
       "    <tr>\n",
       "      <th>min</th>\n",
       "      <td>-31.61</td>\n",
       "      <td>-26.36</td>\n",
       "      <td>-0.02</td>\n",
       "      <td>0.00</td>\n",
       "    </tr>\n",
       "    <tr>\n",
       "      <th>25%</th>\n",
       "      <td>-6.30</td>\n",
       "      <td>-8.27</td>\n",
       "      <td>1.00</td>\n",
       "      <td>26.95</td>\n",
       "    </tr>\n",
       "    <tr>\n",
       "      <th>50%</th>\n",
       "      <td>1.15</td>\n",
       "      <td>-4.81</td>\n",
       "      <td>2.01</td>\n",
       "      <td>57.09</td>\n",
       "    </tr>\n",
       "    <tr>\n",
       "      <th>75%</th>\n",
       "      <td>8.62</td>\n",
       "      <td>-1.33</td>\n",
       "      <td>4.00</td>\n",
       "      <td>107.81</td>\n",
       "    </tr>\n",
       "    <tr>\n",
       "      <th>max</th>\n",
       "      <td>29.42</td>\n",
       "      <td>18.73</td>\n",
       "      <td>5.02</td>\n",
       "      <td>137.95</td>\n",
       "    </tr>\n",
       "  </tbody>\n",
       "</table>\n",
       "</div>"
      ],
      "text/plain": [
       "             f0        f1        f2   product\n",
       "count 100000.00 100000.00 100000.00 100000.00\n",
       "mean       1.14     -4.80      2.49     68.83\n",
       "std        8.97      5.12      1.70     45.94\n",
       "min      -31.61    -26.36     -0.02      0.00\n",
       "25%       -6.30     -8.27      1.00     26.95\n",
       "50%        1.15     -4.81      2.01     57.09\n",
       "75%        8.62     -1.33      4.00    107.81\n",
       "max       29.42     18.73      5.02    137.95"
      ]
     },
     "metadata": {},
     "output_type": "display_data"
    },
    {
     "name": "stdout",
     "output_type": "stream",
     "text": [
      "-------------------------------------------------\n",
      "<class 'pandas.core.frame.DataFrame'>\n",
      "RangeIndex: 100000 entries, 0 to 99999\n",
      "Data columns (total 5 columns):\n",
      " #   Column   Non-Null Count   Dtype  \n",
      "---  ------   --------------   -----  \n",
      " 0   id       100000 non-null  object \n",
      " 1   f0       100000 non-null  float64\n",
      " 2   f1       100000 non-null  float64\n",
      " 3   f2       100000 non-null  float64\n",
      " 4   product  100000 non-null  float64\n",
      "dtypes: float64(4), object(1)\n",
      "memory usage: 3.8+ MB\n"
     ]
    },
    {
     "data": {
      "text/html": [
       "<div>\n",
       "<style scoped>\n",
       "    .dataframe tbody tr th:only-of-type {\n",
       "        vertical-align: middle;\n",
       "    }\n",
       "\n",
       "    .dataframe tbody tr th {\n",
       "        vertical-align: top;\n",
       "    }\n",
       "\n",
       "    .dataframe thead th {\n",
       "        text-align: right;\n",
       "    }\n",
       "</style>\n",
       "<table border=\"1\" class=\"dataframe\">\n",
       "  <thead>\n",
       "    <tr style=\"text-align: right;\">\n",
       "      <th></th>\n",
       "      <th>f0</th>\n",
       "      <th>f1</th>\n",
       "      <th>f2</th>\n",
       "      <th>product</th>\n",
       "    </tr>\n",
       "  </thead>\n",
       "  <tbody>\n",
       "    <tr>\n",
       "      <th>count</th>\n",
       "      <td>100000.00</td>\n",
       "      <td>100000.00</td>\n",
       "      <td>100000.00</td>\n",
       "      <td>100000.00</td>\n",
       "    </tr>\n",
       "    <tr>\n",
       "      <th>mean</th>\n",
       "      <td>0.00</td>\n",
       "      <td>-0.00</td>\n",
       "      <td>2.50</td>\n",
       "      <td>95.00</td>\n",
       "    </tr>\n",
       "    <tr>\n",
       "      <th>std</th>\n",
       "      <td>1.73</td>\n",
       "      <td>1.73</td>\n",
       "      <td>3.47</td>\n",
       "      <td>44.75</td>\n",
       "    </tr>\n",
       "    <tr>\n",
       "      <th>min</th>\n",
       "      <td>-8.76</td>\n",
       "      <td>-7.08</td>\n",
       "      <td>-11.97</td>\n",
       "      <td>0.00</td>\n",
       "    </tr>\n",
       "    <tr>\n",
       "      <th>25%</th>\n",
       "      <td>-1.16</td>\n",
       "      <td>-1.17</td>\n",
       "      <td>0.13</td>\n",
       "      <td>59.45</td>\n",
       "    </tr>\n",
       "    <tr>\n",
       "      <th>50%</th>\n",
       "      <td>0.01</td>\n",
       "      <td>-0.01</td>\n",
       "      <td>2.48</td>\n",
       "      <td>94.93</td>\n",
       "    </tr>\n",
       "    <tr>\n",
       "      <th>75%</th>\n",
       "      <td>1.16</td>\n",
       "      <td>1.16</td>\n",
       "      <td>4.86</td>\n",
       "      <td>130.60</td>\n",
       "    </tr>\n",
       "    <tr>\n",
       "      <th>max</th>\n",
       "      <td>7.24</td>\n",
       "      <td>7.84</td>\n",
       "      <td>16.74</td>\n",
       "      <td>190.03</td>\n",
       "    </tr>\n",
       "  </tbody>\n",
       "</table>\n",
       "</div>"
      ],
      "text/plain": [
       "             f0        f1        f2   product\n",
       "count 100000.00 100000.00 100000.00 100000.00\n",
       "mean       0.00     -0.00      2.50     95.00\n",
       "std        1.73      1.73      3.47     44.75\n",
       "min       -8.76     -7.08    -11.97      0.00\n",
       "25%       -1.16     -1.17      0.13     59.45\n",
       "50%        0.01     -0.01      2.48     94.93\n",
       "75%        1.16      1.16      4.86    130.60\n",
       "max        7.24      7.84     16.74    190.03"
      ]
     },
     "metadata": {},
     "output_type": "display_data"
    },
    {
     "name": "stdout",
     "output_type": "stream",
     "text": [
      "-------------------------------------------------\n"
     ]
    }
   ],
   "source": [
    "for data in data_list:\n",
    "    data.info()\n",
    "    display(data.describe())\n",
    "    print('-------------------------------------------------')"
   ]
  },
  {
   "cell_type": "markdown",
   "metadata": {},
   "source": [
    "Имеется 3 датасета размером 4 столбца на 100000 ненулевых значений. Пропуски в датасетах отсутствуют."
   ]
  },
  {
   "cell_type": "markdown",
   "metadata": {},
   "source": [
    "Проверим на дубликаты:"
   ]
  },
  {
   "cell_type": "code",
   "execution_count": 5,
   "metadata": {},
   "outputs": [
    {
     "name": "stdout",
     "output_type": "stream",
     "text": [
      "Количество явных дубликатов в dataset_0: 0\n",
      "Количество явных дубликатов в dataset_1: 0\n",
      "Количество явных дубликатов в dataset_2: 0\n"
     ]
    }
   ],
   "source": [
    "for data , data_name in zip(data_list , data_list_name) :\n",
    "    print('Количество явных дубликатов в ' + data_name + ':', data.duplicated().sum())"
   ]
  },
  {
   "cell_type": "markdown",
   "metadata": {},
   "source": [
    "Явные дубликаты в датасетах отсутствуют. Проверяем каждый из датасетов отдельно по наличию дубликатов в столбцах:"
   ]
  },
  {
   "cell_type": "code",
   "execution_count": 6,
   "metadata": {
    "scrolled": true
   },
   "outputs": [
    {
     "name": "stdout",
     "output_type": "stream",
     "text": [
      "dataset_0:\n",
      "Количество дубликатов в столбце id = 10\n",
      "Количество дубликатов в столбце f0 = 0\n",
      "Количество дубликатов в столбце f1 = 0\n",
      "Количество дубликатов в столбце f2 = 0\n",
      "Количество дубликатов в столбце product = 0\n",
      "-------------------------------------------------\n",
      "dataset_1:\n",
      "Количество дубликатов в столбце id = 4\n",
      "Количество дубликатов в столбце f0 = 0\n",
      "Количество дубликатов в столбце f1 = 0\n",
      "Количество дубликатов в столбце f2 = 0\n",
      "Количество дубликатов в столбце product = 99988\n",
      "-------------------------------------------------\n",
      "dataset_2:\n",
      "Количество дубликатов в столбце id = 4\n",
      "Количество дубликатов в столбце f0 = 0\n",
      "Количество дубликатов в столбце f1 = 0\n",
      "Количество дубликатов в столбце f2 = 0\n",
      "Количество дубликатов в столбце product = 0\n",
      "-------------------------------------------------\n"
     ]
    }
   ],
   "source": [
    "for data, data_name in zip(data_list, data_list_name):\n",
    "    print(data_name + ':')\n",
    "    for i in data.columns:\n",
    "        print(F'Количество дубликатов в столбце {i} = {data[i].duplicated().sum()}')\n",
    "    print('-------------------------------------------------')"
   ]
  },
  {
   "cell_type": "markdown",
   "metadata": {},
   "source": [
    "Столбец `id` содержит дубликаты в каждом из имеющихся датасетов. Впрочем, строки entries, содержащие дубликаты по столбцу `id`, не являются явными дубликатами в размерах всего датасета. Следовательно, данные строки можно и не удалять. Причина дубликатов неизвестна, вместе с тем, их количество в общих объемах данных незначительно."
   ]
  },
  {
   "cell_type": "markdown",
   "metadata": {},
   "source": [
    "Столбец `id` не имеет значения для построения ML-модели. Удалим его."
   ]
  },
  {
   "cell_type": "code",
   "execution_count": 7,
   "metadata": {
    "scrolled": true
   },
   "outputs": [
    {
     "name": "stdout",
     "output_type": "stream",
     "text": [
      "<class 'pandas.core.frame.DataFrame'>\n",
      "RangeIndex: 100000 entries, 0 to 99999\n",
      "Data columns (total 4 columns):\n",
      " #   Column   Non-Null Count   Dtype  \n",
      "---  ------   --------------   -----  \n",
      " 0   f0       100000 non-null  float64\n",
      " 1   f1       100000 non-null  float64\n",
      " 2   f2       100000 non-null  float64\n",
      " 3   product  100000 non-null  float64\n",
      "dtypes: float64(4)\n",
      "memory usage: 3.1 MB\n"
     ]
    },
    {
     "data": {
      "text/html": [
       "<div>\n",
       "<style scoped>\n",
       "    .dataframe tbody tr th:only-of-type {\n",
       "        vertical-align: middle;\n",
       "    }\n",
       "\n",
       "    .dataframe tbody tr th {\n",
       "        vertical-align: top;\n",
       "    }\n",
       "\n",
       "    .dataframe thead th {\n",
       "        text-align: right;\n",
       "    }\n",
       "</style>\n",
       "<table border=\"1\" class=\"dataframe\">\n",
       "  <thead>\n",
       "    <tr style=\"text-align: right;\">\n",
       "      <th></th>\n",
       "      <th>f0</th>\n",
       "      <th>f1</th>\n",
       "      <th>f2</th>\n",
       "      <th>product</th>\n",
       "    </tr>\n",
       "  </thead>\n",
       "  <tbody>\n",
       "    <tr>\n",
       "      <th>0</th>\n",
       "      <td>0.71</td>\n",
       "      <td>-0.50</td>\n",
       "      <td>1.22</td>\n",
       "      <td>105.28</td>\n",
       "    </tr>\n",
       "    <tr>\n",
       "      <th>1</th>\n",
       "      <td>1.33</td>\n",
       "      <td>-0.34</td>\n",
       "      <td>4.37</td>\n",
       "      <td>73.04</td>\n",
       "    </tr>\n",
       "    <tr>\n",
       "      <th>2</th>\n",
       "      <td>1.02</td>\n",
       "      <td>0.15</td>\n",
       "      <td>1.42</td>\n",
       "      <td>85.27</td>\n",
       "    </tr>\n",
       "    <tr>\n",
       "      <th>3</th>\n",
       "      <td>-0.03</td>\n",
       "      <td>0.14</td>\n",
       "      <td>2.98</td>\n",
       "      <td>168.62</td>\n",
       "    </tr>\n",
       "    <tr>\n",
       "      <th>4</th>\n",
       "      <td>1.99</td>\n",
       "      <td>0.16</td>\n",
       "      <td>4.75</td>\n",
       "      <td>154.04</td>\n",
       "    </tr>\n",
       "  </tbody>\n",
       "</table>\n",
       "</div>"
      ],
      "text/plain": [
       "     f0    f1   f2  product\n",
       "0  0.71 -0.50 1.22   105.28\n",
       "1  1.33 -0.34 4.37    73.04\n",
       "2  1.02  0.15 1.42    85.27\n",
       "3 -0.03  0.14 2.98   168.62\n",
       "4  1.99  0.16 4.75   154.04"
      ]
     },
     "metadata": {},
     "output_type": "display_data"
    },
    {
     "name": "stdout",
     "output_type": "stream",
     "text": [
      "-------------------------------------------------\n",
      "<class 'pandas.core.frame.DataFrame'>\n",
      "RangeIndex: 100000 entries, 0 to 99999\n",
      "Data columns (total 4 columns):\n",
      " #   Column   Non-Null Count   Dtype  \n",
      "---  ------   --------------   -----  \n",
      " 0   f0       100000 non-null  float64\n",
      " 1   f1       100000 non-null  float64\n",
      " 2   f2       100000 non-null  float64\n",
      " 3   product  100000 non-null  float64\n",
      "dtypes: float64(4)\n",
      "memory usage: 3.1 MB\n"
     ]
    },
    {
     "data": {
      "text/html": [
       "<div>\n",
       "<style scoped>\n",
       "    .dataframe tbody tr th:only-of-type {\n",
       "        vertical-align: middle;\n",
       "    }\n",
       "\n",
       "    .dataframe tbody tr th {\n",
       "        vertical-align: top;\n",
       "    }\n",
       "\n",
       "    .dataframe thead th {\n",
       "        text-align: right;\n",
       "    }\n",
       "</style>\n",
       "<table border=\"1\" class=\"dataframe\">\n",
       "  <thead>\n",
       "    <tr style=\"text-align: right;\">\n",
       "      <th></th>\n",
       "      <th>f0</th>\n",
       "      <th>f1</th>\n",
       "      <th>f2</th>\n",
       "      <th>product</th>\n",
       "    </tr>\n",
       "  </thead>\n",
       "  <tbody>\n",
       "    <tr>\n",
       "      <th>0</th>\n",
       "      <td>-15.00</td>\n",
       "      <td>-8.28</td>\n",
       "      <td>-0.01</td>\n",
       "      <td>3.18</td>\n",
       "    </tr>\n",
       "    <tr>\n",
       "      <th>1</th>\n",
       "      <td>14.27</td>\n",
       "      <td>-3.48</td>\n",
       "      <td>1.00</td>\n",
       "      <td>26.95</td>\n",
       "    </tr>\n",
       "    <tr>\n",
       "      <th>2</th>\n",
       "      <td>6.26</td>\n",
       "      <td>-5.95</td>\n",
       "      <td>5.00</td>\n",
       "      <td>134.77</td>\n",
       "    </tr>\n",
       "    <tr>\n",
       "      <th>3</th>\n",
       "      <td>-13.08</td>\n",
       "      <td>-11.51</td>\n",
       "      <td>5.00</td>\n",
       "      <td>137.95</td>\n",
       "    </tr>\n",
       "    <tr>\n",
       "      <th>4</th>\n",
       "      <td>12.70</td>\n",
       "      <td>-8.15</td>\n",
       "      <td>5.00</td>\n",
       "      <td>134.77</td>\n",
       "    </tr>\n",
       "  </tbody>\n",
       "</table>\n",
       "</div>"
      ],
      "text/plain": [
       "      f0     f1    f2  product\n",
       "0 -15.00  -8.28 -0.01     3.18\n",
       "1  14.27  -3.48  1.00    26.95\n",
       "2   6.26  -5.95  5.00   134.77\n",
       "3 -13.08 -11.51  5.00   137.95\n",
       "4  12.70  -8.15  5.00   134.77"
      ]
     },
     "metadata": {},
     "output_type": "display_data"
    },
    {
     "name": "stdout",
     "output_type": "stream",
     "text": [
      "-------------------------------------------------\n",
      "<class 'pandas.core.frame.DataFrame'>\n",
      "RangeIndex: 100000 entries, 0 to 99999\n",
      "Data columns (total 4 columns):\n",
      " #   Column   Non-Null Count   Dtype  \n",
      "---  ------   --------------   -----  \n",
      " 0   f0       100000 non-null  float64\n",
      " 1   f1       100000 non-null  float64\n",
      " 2   f2       100000 non-null  float64\n",
      " 3   product  100000 non-null  float64\n",
      "dtypes: float64(4)\n",
      "memory usage: 3.1 MB\n"
     ]
    },
    {
     "data": {
      "text/html": [
       "<div>\n",
       "<style scoped>\n",
       "    .dataframe tbody tr th:only-of-type {\n",
       "        vertical-align: middle;\n",
       "    }\n",
       "\n",
       "    .dataframe tbody tr th {\n",
       "        vertical-align: top;\n",
       "    }\n",
       "\n",
       "    .dataframe thead th {\n",
       "        text-align: right;\n",
       "    }\n",
       "</style>\n",
       "<table border=\"1\" class=\"dataframe\">\n",
       "  <thead>\n",
       "    <tr style=\"text-align: right;\">\n",
       "      <th></th>\n",
       "      <th>f0</th>\n",
       "      <th>f1</th>\n",
       "      <th>f2</th>\n",
       "      <th>product</th>\n",
       "    </tr>\n",
       "  </thead>\n",
       "  <tbody>\n",
       "    <tr>\n",
       "      <th>0</th>\n",
       "      <td>-1.15</td>\n",
       "      <td>0.96</td>\n",
       "      <td>-0.83</td>\n",
       "      <td>27.76</td>\n",
       "    </tr>\n",
       "    <tr>\n",
       "      <th>1</th>\n",
       "      <td>0.26</td>\n",
       "      <td>0.27</td>\n",
       "      <td>-2.53</td>\n",
       "      <td>56.07</td>\n",
       "    </tr>\n",
       "    <tr>\n",
       "      <th>2</th>\n",
       "      <td>0.19</td>\n",
       "      <td>0.29</td>\n",
       "      <td>-5.59</td>\n",
       "      <td>62.87</td>\n",
       "    </tr>\n",
       "    <tr>\n",
       "      <th>3</th>\n",
       "      <td>2.24</td>\n",
       "      <td>-0.55</td>\n",
       "      <td>0.93</td>\n",
       "      <td>114.57</td>\n",
       "    </tr>\n",
       "    <tr>\n",
       "      <th>4</th>\n",
       "      <td>-0.52</td>\n",
       "      <td>1.72</td>\n",
       "      <td>5.90</td>\n",
       "      <td>149.60</td>\n",
       "    </tr>\n",
       "  </tbody>\n",
       "</table>\n",
       "</div>"
      ],
      "text/plain": [
       "     f0    f1    f2  product\n",
       "0 -1.15  0.96 -0.83    27.76\n",
       "1  0.26  0.27 -2.53    56.07\n",
       "2  0.19  0.29 -5.59    62.87\n",
       "3  2.24 -0.55  0.93   114.57\n",
       "4 -0.52  1.72  5.90   149.60"
      ]
     },
     "metadata": {},
     "output_type": "display_data"
    },
    {
     "name": "stdout",
     "output_type": "stream",
     "text": [
      "-------------------------------------------------\n"
     ]
    }
   ],
   "source": [
    "for data, data_name in zip(data_list, data_list_name):\n",
    "    data.drop ('id', axis = 1, inplace = True)\n",
    "    data.info()\n",
    "    display (data.head())\n",
    "    print('-------------------------------------------------')"
   ]
  },
  {
   "cell_type": "markdown",
   "metadata": {},
   "source": [
    "Посмотрим на корреляцию значений между столбцами в датасетах."
   ]
  },
  {
   "cell_type": "code",
   "execution_count": 8,
   "metadata": {
    "scrolled": true
   },
   "outputs": [
    {
     "name": "stdout",
     "output_type": "stream",
     "text": [
      "dataset_0:\n"
     ]
    },
    {
     "data": {
      "text/html": [
       "<div>\n",
       "<style scoped>\n",
       "    .dataframe tbody tr th:only-of-type {\n",
       "        vertical-align: middle;\n",
       "    }\n",
       "\n",
       "    .dataframe tbody tr th {\n",
       "        vertical-align: top;\n",
       "    }\n",
       "\n",
       "    .dataframe thead th {\n",
       "        text-align: right;\n",
       "    }\n",
       "</style>\n",
       "<table border=\"1\" class=\"dataframe\">\n",
       "  <thead>\n",
       "    <tr style=\"text-align: right;\">\n",
       "      <th></th>\n",
       "      <th>f0</th>\n",
       "      <th>f1</th>\n",
       "      <th>f2</th>\n",
       "      <th>product</th>\n",
       "    </tr>\n",
       "  </thead>\n",
       "  <tbody>\n",
       "    <tr>\n",
       "      <th>f0</th>\n",
       "      <td>1.00</td>\n",
       "      <td>-0.44</td>\n",
       "      <td>-0.00</td>\n",
       "      <td>0.14</td>\n",
       "    </tr>\n",
       "    <tr>\n",
       "      <th>f1</th>\n",
       "      <td>-0.44</td>\n",
       "      <td>1.00</td>\n",
       "      <td>0.00</td>\n",
       "      <td>-0.19</td>\n",
       "    </tr>\n",
       "    <tr>\n",
       "      <th>f2</th>\n",
       "      <td>-0.00</td>\n",
       "      <td>0.00</td>\n",
       "      <td>1.00</td>\n",
       "      <td>0.48</td>\n",
       "    </tr>\n",
       "    <tr>\n",
       "      <th>product</th>\n",
       "      <td>0.14</td>\n",
       "      <td>-0.19</td>\n",
       "      <td>0.48</td>\n",
       "      <td>1.00</td>\n",
       "    </tr>\n",
       "  </tbody>\n",
       "</table>\n",
       "</div>"
      ],
      "text/plain": [
       "           f0    f1    f2  product\n",
       "f0       1.00 -0.44 -0.00     0.14\n",
       "f1      -0.44  1.00  0.00    -0.19\n",
       "f2      -0.00  0.00  1.00     0.48\n",
       "product  0.14 -0.19  0.48     1.00"
      ]
     },
     "metadata": {},
     "output_type": "display_data"
    },
    {
     "name": "stdout",
     "output_type": "stream",
     "text": [
      "dataset_1:\n"
     ]
    },
    {
     "data": {
      "text/html": [
       "<div>\n",
       "<style scoped>\n",
       "    .dataframe tbody tr th:only-of-type {\n",
       "        vertical-align: middle;\n",
       "    }\n",
       "\n",
       "    .dataframe tbody tr th {\n",
       "        vertical-align: top;\n",
       "    }\n",
       "\n",
       "    .dataframe thead th {\n",
       "        text-align: right;\n",
       "    }\n",
       "</style>\n",
       "<table border=\"1\" class=\"dataframe\">\n",
       "  <thead>\n",
       "    <tr style=\"text-align: right;\">\n",
       "      <th></th>\n",
       "      <th>f0</th>\n",
       "      <th>f1</th>\n",
       "      <th>f2</th>\n",
       "      <th>product</th>\n",
       "    </tr>\n",
       "  </thead>\n",
       "  <tbody>\n",
       "    <tr>\n",
       "      <th>f0</th>\n",
       "      <td>1.00</td>\n",
       "      <td>0.18</td>\n",
       "      <td>-0.00</td>\n",
       "      <td>-0.03</td>\n",
       "    </tr>\n",
       "    <tr>\n",
       "      <th>f1</th>\n",
       "      <td>0.18</td>\n",
       "      <td>1.00</td>\n",
       "      <td>-0.00</td>\n",
       "      <td>-0.01</td>\n",
       "    </tr>\n",
       "    <tr>\n",
       "      <th>f2</th>\n",
       "      <td>-0.00</td>\n",
       "      <td>-0.00</td>\n",
       "      <td>1.00</td>\n",
       "      <td>1.00</td>\n",
       "    </tr>\n",
       "    <tr>\n",
       "      <th>product</th>\n",
       "      <td>-0.03</td>\n",
       "      <td>-0.01</td>\n",
       "      <td>1.00</td>\n",
       "      <td>1.00</td>\n",
       "    </tr>\n",
       "  </tbody>\n",
       "</table>\n",
       "</div>"
      ],
      "text/plain": [
       "           f0    f1    f2  product\n",
       "f0       1.00  0.18 -0.00    -0.03\n",
       "f1       0.18  1.00 -0.00    -0.01\n",
       "f2      -0.00 -0.00  1.00     1.00\n",
       "product -0.03 -0.01  1.00     1.00"
      ]
     },
     "metadata": {},
     "output_type": "display_data"
    },
    {
     "name": "stdout",
     "output_type": "stream",
     "text": [
      "dataset_2:\n"
     ]
    },
    {
     "data": {
      "text/html": [
       "<div>\n",
       "<style scoped>\n",
       "    .dataframe tbody tr th:only-of-type {\n",
       "        vertical-align: middle;\n",
       "    }\n",
       "\n",
       "    .dataframe tbody tr th {\n",
       "        vertical-align: top;\n",
       "    }\n",
       "\n",
       "    .dataframe thead th {\n",
       "        text-align: right;\n",
       "    }\n",
       "</style>\n",
       "<table border=\"1\" class=\"dataframe\">\n",
       "  <thead>\n",
       "    <tr style=\"text-align: right;\">\n",
       "      <th></th>\n",
       "      <th>f0</th>\n",
       "      <th>f1</th>\n",
       "      <th>f2</th>\n",
       "      <th>product</th>\n",
       "    </tr>\n",
       "  </thead>\n",
       "  <tbody>\n",
       "    <tr>\n",
       "      <th>f0</th>\n",
       "      <td>1.00</td>\n",
       "      <td>0.00</td>\n",
       "      <td>-0.00</td>\n",
       "      <td>-0.00</td>\n",
       "    </tr>\n",
       "    <tr>\n",
       "      <th>f1</th>\n",
       "      <td>0.00</td>\n",
       "      <td>1.00</td>\n",
       "      <td>0.00</td>\n",
       "      <td>-0.00</td>\n",
       "    </tr>\n",
       "    <tr>\n",
       "      <th>f2</th>\n",
       "      <td>-0.00</td>\n",
       "      <td>0.00</td>\n",
       "      <td>1.00</td>\n",
       "      <td>0.45</td>\n",
       "    </tr>\n",
       "    <tr>\n",
       "      <th>product</th>\n",
       "      <td>-0.00</td>\n",
       "      <td>-0.00</td>\n",
       "      <td>0.45</td>\n",
       "      <td>1.00</td>\n",
       "    </tr>\n",
       "  </tbody>\n",
       "</table>\n",
       "</div>"
      ],
      "text/plain": [
       "           f0    f1    f2  product\n",
       "f0       1.00  0.00 -0.00    -0.00\n",
       "f1       0.00  1.00  0.00    -0.00\n",
       "f2      -0.00  0.00  1.00     0.45\n",
       "product -0.00 -0.00  0.45     1.00"
      ]
     },
     "metadata": {},
     "output_type": "display_data"
    }
   ],
   "source": [
    "for data , data_name in zip(data_list , data_list_name) : \n",
    "    print(data_name + ':')\n",
    "    display(data.corr())"
   ]
  },
  {
   "cell_type": "code",
   "execution_count": 9,
   "metadata": {
    "scrolled": false
   },
   "outputs": [
    {
     "data": {
      "image/png": "[encoded data removed]",
      "text/plain": [
       "<Figure size 720x1080 with 6 Axes>"
      ]
     },
     "metadata": {
      "needs_background": "light"
     },
     "output_type": "display_data"
    }
   ],
   "source": [
    "fig = plt.figure(figsize = (10,15))\n",
    "for data, data_name, i in zip(data_list, data_list_name, range(3)):\n",
    "    plt.subplot(3, 1, i+1)\n",
    "    sns.heatmap(data.corr(), annot=True)\n",
    "    plt.title(data_name)"
   ]
  },
  {
   "cell_type": "markdown",
   "metadata": {},
   "source": [
    "**Вывод**"
   ]
  },
  {
   "cell_type": "markdown",
   "metadata": {},
   "source": [
    "По результатам проведенного анализа корреляции значений между различными столбцами в датасетах может быть сделан предварительный вывод о наличии особо тесной взаимосвязи между значимым признаком `f2` и столбцом `product`. Кроме того, налицо прямая корреляция между признаком `f2` и столбцом `product` в dataset_1. Предварительная подготовка данных завершена, переходим к обучению и проверке ML-модели."
   ]
  },
  {
   "cell_type": "markdown",
   "metadata": {},
   "source": [
    "## Обучение и проверка модели"
   ]
  },
  {
   "cell_type": "code",
   "execution_count": 10,
   "metadata": {},
   "outputs": [],
   "source": [
    "#  формируем признаки по каждому из датасетов\n",
    "\n",
    "features_0 = df_0.drop(['product'], axis = 1)\n",
    "features_1 = df_1.drop(['product'], axis = 1)\n",
    "features_2 = df_2.drop(['product'], axis = 1)\n",
    "\n",
    "#  формируем целевые признаки по каждому из датасетов\n",
    "target_0 = df_0['product']\n",
    "target_1 = df_1['product']\n",
    "target_2 = df_2['product']"
   ]
  },
  {
   "cell_type": "code",
   "execution_count": 11,
   "metadata": {},
   "outputs": [],
   "source": [
    "# разбиваем каждые из признаков, целевых признаков на тренировочную (0.75) и валидационную (0.25) выборки \n",
    "\n",
    "features_train_0, features_valid_0, target_train_0, target_valid_0 = train_test_split(\n",
    "    features_0, target_0, test_size = 0.25, random_state = 12345)\n",
    "\n",
    "features_train_1, features_valid_1, target_train_1, target_valid_1 = train_test_split(\n",
    "    features_1, target_1, test_size = 0.25, random_state = 12345)\n",
    "\n",
    "features_train_2, features_valid_2, target_train_2, target_valid_2 = train_test_split(\n",
    "    features_2, target_2, test_size = 0.25, random_state = 12345)"
   ]
  },
  {
   "cell_type": "code",
   "execution_count": 12,
   "metadata": {},
   "outputs": [
    {
     "name": "stdout",
     "output_type": "stream",
     "text": [
      "features_train_0:\n"
     ]
    },
    {
     "data": {
      "text/html": [
       "<div>\n",
       "<style scoped>\n",
       "    .dataframe tbody tr th:only-of-type {\n",
       "        vertical-align: middle;\n",
       "    }\n",
       "\n",
       "    .dataframe tbody tr th {\n",
       "        vertical-align: top;\n",
       "    }\n",
       "\n",
       "    .dataframe thead th {\n",
       "        text-align: right;\n",
       "    }\n",
       "</style>\n",
       "<table border=\"1\" class=\"dataframe\">\n",
       "  <thead>\n",
       "    <tr style=\"text-align: right;\">\n",
       "      <th></th>\n",
       "      <th>f0</th>\n",
       "      <th>f1</th>\n",
       "      <th>f2</th>\n",
       "    </tr>\n",
       "  </thead>\n",
       "  <tbody>\n",
       "    <tr>\n",
       "      <th>count</th>\n",
       "      <td>75000.00</td>\n",
       "      <td>75000.00</td>\n",
       "      <td>75000.00</td>\n",
       "    </tr>\n",
       "    <tr>\n",
       "      <th>mean</th>\n",
       "      <td>0.50</td>\n",
       "      <td>0.25</td>\n",
       "      <td>2.51</td>\n",
       "    </tr>\n",
       "    <tr>\n",
       "      <th>std</th>\n",
       "      <td>0.87</td>\n",
       "      <td>0.50</td>\n",
       "      <td>3.25</td>\n",
       "    </tr>\n",
       "    <tr>\n",
       "      <th>min</th>\n",
       "      <td>-1.41</td>\n",
       "      <td>-0.85</td>\n",
       "      <td>-10.14</td>\n",
       "    </tr>\n",
       "    <tr>\n",
       "      <th>25%</th>\n",
       "      <td>-0.08</td>\n",
       "      <td>-0.20</td>\n",
       "      <td>0.30</td>\n",
       "    </tr>\n",
       "    <tr>\n",
       "      <th>50%</th>\n",
       "      <td>0.50</td>\n",
       "      <td>0.25</td>\n",
       "      <td>2.52</td>\n",
       "    </tr>\n",
       "    <tr>\n",
       "      <th>75%</th>\n",
       "      <td>1.07</td>\n",
       "      <td>0.70</td>\n",
       "      <td>4.73</td>\n",
       "    </tr>\n",
       "    <tr>\n",
       "      <th>max</th>\n",
       "      <td>2.36</td>\n",
       "      <td>1.34</td>\n",
       "      <td>16.00</td>\n",
       "    </tr>\n",
       "  </tbody>\n",
       "</table>\n",
       "</div>"
      ],
      "text/plain": [
       "            f0       f1       f2\n",
       "count 75000.00 75000.00 75000.00\n",
       "mean      0.50     0.25     2.51\n",
       "std       0.87     0.50     3.25\n",
       "min      -1.41    -0.85   -10.14\n",
       "25%      -0.08    -0.20     0.30\n",
       "50%       0.50     0.25     2.52\n",
       "75%       1.07     0.70     4.73\n",
       "max       2.36     1.34    16.00"
      ]
     },
     "metadata": {},
     "output_type": "display_data"
    },
    {
     "name": "stdout",
     "output_type": "stream",
     "text": [
      "-------------------------------------------------\n",
      "features_train_1:\n"
     ]
    },
    {
     "data": {
      "text/html": [
       "<div>\n",
       "<style scoped>\n",
       "    .dataframe tbody tr th:only-of-type {\n",
       "        vertical-align: middle;\n",
       "    }\n",
       "\n",
       "    .dataframe tbody tr th {\n",
       "        vertical-align: top;\n",
       "    }\n",
       "\n",
       "    .dataframe thead th {\n",
       "        text-align: right;\n",
       "    }\n",
       "</style>\n",
       "<table border=\"1\" class=\"dataframe\">\n",
       "  <thead>\n",
       "    <tr style=\"text-align: right;\">\n",
       "      <th></th>\n",
       "      <th>f0</th>\n",
       "      <th>f1</th>\n",
       "      <th>f2</th>\n",
       "    </tr>\n",
       "  </thead>\n",
       "  <tbody>\n",
       "    <tr>\n",
       "      <th>count</th>\n",
       "      <td>75000.00</td>\n",
       "      <td>75000.00</td>\n",
       "      <td>75000.00</td>\n",
       "    </tr>\n",
       "    <tr>\n",
       "      <th>mean</th>\n",
       "      <td>1.14</td>\n",
       "      <td>-4.79</td>\n",
       "      <td>2.50</td>\n",
       "    </tr>\n",
       "    <tr>\n",
       "      <th>std</th>\n",
       "      <td>8.97</td>\n",
       "      <td>5.13</td>\n",
       "      <td>1.70</td>\n",
       "    </tr>\n",
       "    <tr>\n",
       "      <th>min</th>\n",
       "      <td>-31.61</td>\n",
       "      <td>-26.36</td>\n",
       "      <td>-0.02</td>\n",
       "    </tr>\n",
       "    <tr>\n",
       "      <th>25%</th>\n",
       "      <td>-6.29</td>\n",
       "      <td>-8.26</td>\n",
       "      <td>1.00</td>\n",
       "    </tr>\n",
       "    <tr>\n",
       "      <th>50%</th>\n",
       "      <td>1.16</td>\n",
       "      <td>-4.80</td>\n",
       "      <td>2.01</td>\n",
       "    </tr>\n",
       "    <tr>\n",
       "      <th>75%</th>\n",
       "      <td>8.63</td>\n",
       "      <td>-1.32</td>\n",
       "      <td>4.00</td>\n",
       "    </tr>\n",
       "    <tr>\n",
       "      <th>max</th>\n",
       "      <td>29.42</td>\n",
       "      <td>18.73</td>\n",
       "      <td>5.02</td>\n",
       "    </tr>\n",
       "  </tbody>\n",
       "</table>\n",
       "</div>"
      ],
      "text/plain": [
       "            f0       f1       f2\n",
       "count 75000.00 75000.00 75000.00\n",
       "mean      1.14    -4.79     2.50\n",
       "std       8.97     5.13     1.70\n",
       "min     -31.61   -26.36    -0.02\n",
       "25%      -6.29    -8.26     1.00\n",
       "50%       1.16    -4.80     2.01\n",
       "75%       8.63    -1.32     4.00\n",
       "max      29.42    18.73     5.02"
      ]
     },
     "metadata": {},
     "output_type": "display_data"
    },
    {
     "name": "stdout",
     "output_type": "stream",
     "text": [
      "-------------------------------------------------\n",
      "features_train_2:\n"
     ]
    },
    {
     "data": {
      "text/html": [
       "<div>\n",
       "<style scoped>\n",
       "    .dataframe tbody tr th:only-of-type {\n",
       "        vertical-align: middle;\n",
       "    }\n",
       "\n",
       "    .dataframe tbody tr th {\n",
       "        vertical-align: top;\n",
       "    }\n",
       "\n",
       "    .dataframe thead th {\n",
       "        text-align: right;\n",
       "    }\n",
       "</style>\n",
       "<table border=\"1\" class=\"dataframe\">\n",
       "  <thead>\n",
       "    <tr style=\"text-align: right;\">\n",
       "      <th></th>\n",
       "      <th>f0</th>\n",
       "      <th>f1</th>\n",
       "      <th>f2</th>\n",
       "    </tr>\n",
       "  </thead>\n",
       "  <tbody>\n",
       "    <tr>\n",
       "      <th>count</th>\n",
       "      <td>75000.00</td>\n",
       "      <td>75000.00</td>\n",
       "      <td>75000.00</td>\n",
       "    </tr>\n",
       "    <tr>\n",
       "      <th>mean</th>\n",
       "      <td>0.00</td>\n",
       "      <td>-0.01</td>\n",
       "      <td>2.50</td>\n",
       "    </tr>\n",
       "    <tr>\n",
       "      <th>std</th>\n",
       "      <td>1.73</td>\n",
       "      <td>1.73</td>\n",
       "      <td>3.47</td>\n",
       "    </tr>\n",
       "    <tr>\n",
       "      <th>min</th>\n",
       "      <td>-8.76</td>\n",
       "      <td>-7.08</td>\n",
       "      <td>-11.97</td>\n",
       "    </tr>\n",
       "    <tr>\n",
       "      <th>25%</th>\n",
       "      <td>-1.16</td>\n",
       "      <td>-1.18</td>\n",
       "      <td>0.14</td>\n",
       "    </tr>\n",
       "    <tr>\n",
       "      <th>50%</th>\n",
       "      <td>0.01</td>\n",
       "      <td>-0.01</td>\n",
       "      <td>2.48</td>\n",
       "    </tr>\n",
       "    <tr>\n",
       "      <th>75%</th>\n",
       "      <td>1.16</td>\n",
       "      <td>1.16</td>\n",
       "      <td>4.86</td>\n",
       "    </tr>\n",
       "    <tr>\n",
       "      <th>max</th>\n",
       "      <td>7.24</td>\n",
       "      <td>7.84</td>\n",
       "      <td>16.74</td>\n",
       "    </tr>\n",
       "  </tbody>\n",
       "</table>\n",
       "</div>"
      ],
      "text/plain": [
       "            f0       f1       f2\n",
       "count 75000.00 75000.00 75000.00\n",
       "mean      0.00    -0.01     2.50\n",
       "std       1.73     1.73     3.47\n",
       "min      -8.76    -7.08   -11.97\n",
       "25%      -1.16    -1.18     0.14\n",
       "50%       0.01    -0.01     2.48\n",
       "75%       1.16     1.16     4.86\n",
       "max       7.24     7.84    16.74"
      ]
     },
     "metadata": {},
     "output_type": "display_data"
    },
    {
     "name": "stdout",
     "output_type": "stream",
     "text": [
      "-------------------------------------------------\n",
      "features_valid_0:\n"
     ]
    },
    {
     "data": {
      "text/html": [
       "<div>\n",
       "<style scoped>\n",
       "    .dataframe tbody tr th:only-of-type {\n",
       "        vertical-align: middle;\n",
       "    }\n",
       "\n",
       "    .dataframe tbody tr th {\n",
       "        vertical-align: top;\n",
       "    }\n",
       "\n",
       "    .dataframe thead th {\n",
       "        text-align: right;\n",
       "    }\n",
       "</style>\n",
       "<table border=\"1\" class=\"dataframe\">\n",
       "  <thead>\n",
       "    <tr style=\"text-align: right;\">\n",
       "      <th></th>\n",
       "      <th>f0</th>\n",
       "      <th>f1</th>\n",
       "      <th>f2</th>\n",
       "    </tr>\n",
       "  </thead>\n",
       "  <tbody>\n",
       "    <tr>\n",
       "      <th>count</th>\n",
       "      <td>25000.00</td>\n",
       "      <td>25000.00</td>\n",
       "      <td>25000.00</td>\n",
       "    </tr>\n",
       "    <tr>\n",
       "      <th>mean</th>\n",
       "      <td>0.51</td>\n",
       "      <td>0.25</td>\n",
       "      <td>2.49</td>\n",
       "    </tr>\n",
       "    <tr>\n",
       "      <th>std</th>\n",
       "      <td>0.87</td>\n",
       "      <td>0.51</td>\n",
       "      <td>3.24</td>\n",
       "    </tr>\n",
       "    <tr>\n",
       "      <th>min</th>\n",
       "      <td>-1.30</td>\n",
       "      <td>-0.81</td>\n",
       "      <td>-12.09</td>\n",
       "    </tr>\n",
       "    <tr>\n",
       "      <th>25%</th>\n",
       "      <td>-0.06</td>\n",
       "      <td>-0.20</td>\n",
       "      <td>0.26</td>\n",
       "    </tr>\n",
       "    <tr>\n",
       "      <th>50%</th>\n",
       "      <td>0.51</td>\n",
       "      <td>0.25</td>\n",
       "      <td>2.51</td>\n",
       "    </tr>\n",
       "    <tr>\n",
       "      <th>75%</th>\n",
       "      <td>1.08</td>\n",
       "      <td>0.70</td>\n",
       "      <td>4.69</td>\n",
       "    </tr>\n",
       "    <tr>\n",
       "      <th>max</th>\n",
       "      <td>2.30</td>\n",
       "      <td>1.33</td>\n",
       "      <td>15.01</td>\n",
       "    </tr>\n",
       "  </tbody>\n",
       "</table>\n",
       "</div>"
      ],
      "text/plain": [
       "            f0       f1       f2\n",
       "count 25000.00 25000.00 25000.00\n",
       "mean      0.51     0.25     2.49\n",
       "std       0.87     0.51     3.24\n",
       "min      -1.30    -0.81   -12.09\n",
       "25%      -0.06    -0.20     0.26\n",
       "50%       0.51     0.25     2.51\n",
       "75%       1.08     0.70     4.69\n",
       "max       2.30     1.33    15.01"
      ]
     },
     "metadata": {},
     "output_type": "display_data"
    },
    {
     "name": "stdout",
     "output_type": "stream",
     "text": [
      "-------------------------------------------------\n",
      "features_valid_1:\n"
     ]
    },
    {
     "data": {
      "text/html": [
       "<div>\n",
       "<style scoped>\n",
       "    .dataframe tbody tr th:only-of-type {\n",
       "        vertical-align: middle;\n",
       "    }\n",
       "\n",
       "    .dataframe tbody tr th {\n",
       "        vertical-align: top;\n",
       "    }\n",
       "\n",
       "    .dataframe thead th {\n",
       "        text-align: right;\n",
       "    }\n",
       "</style>\n",
       "<table border=\"1\" class=\"dataframe\">\n",
       "  <thead>\n",
       "    <tr style=\"text-align: right;\">\n",
       "      <th></th>\n",
       "      <th>f0</th>\n",
       "      <th>f1</th>\n",
       "      <th>f2</th>\n",
       "    </tr>\n",
       "  </thead>\n",
       "  <tbody>\n",
       "    <tr>\n",
       "      <th>count</th>\n",
       "      <td>25000.00</td>\n",
       "      <td>25000.00</td>\n",
       "      <td>25000.00</td>\n",
       "    </tr>\n",
       "    <tr>\n",
       "      <th>mean</th>\n",
       "      <td>1.15</td>\n",
       "      <td>-4.81</td>\n",
       "      <td>2.49</td>\n",
       "    </tr>\n",
       "    <tr>\n",
       "      <th>std</th>\n",
       "      <td>8.97</td>\n",
       "      <td>5.10</td>\n",
       "      <td>1.71</td>\n",
       "    </tr>\n",
       "    <tr>\n",
       "      <th>min</th>\n",
       "      <td>-24.74</td>\n",
       "      <td>-25.29</td>\n",
       "      <td>-0.02</td>\n",
       "    </tr>\n",
       "    <tr>\n",
       "      <th>25%</th>\n",
       "      <td>-6.33</td>\n",
       "      <td>-8.29</td>\n",
       "      <td>1.00</td>\n",
       "    </tr>\n",
       "    <tr>\n",
       "      <th>50%</th>\n",
       "      <td>1.15</td>\n",
       "      <td>-4.85</td>\n",
       "      <td>2.01</td>\n",
       "    </tr>\n",
       "    <tr>\n",
       "      <th>75%</th>\n",
       "      <td>8.60</td>\n",
       "      <td>-1.36</td>\n",
       "      <td>4.00</td>\n",
       "    </tr>\n",
       "    <tr>\n",
       "      <th>max</th>\n",
       "      <td>26.54</td>\n",
       "      <td>16.74</td>\n",
       "      <td>5.02</td>\n",
       "    </tr>\n",
       "  </tbody>\n",
       "</table>\n",
       "</div>"
      ],
      "text/plain": [
       "            f0       f1       f2\n",
       "count 25000.00 25000.00 25000.00\n",
       "mean      1.15    -4.81     2.49\n",
       "std       8.97     5.10     1.71\n",
       "min     -24.74   -25.29    -0.02\n",
       "25%      -6.33    -8.29     1.00\n",
       "50%       1.15    -4.85     2.01\n",
       "75%       8.60    -1.36     4.00\n",
       "max      26.54    16.74     5.02"
      ]
     },
     "metadata": {},
     "output_type": "display_data"
    },
    {
     "name": "stdout",
     "output_type": "stream",
     "text": [
      "-------------------------------------------------\n",
      "features_valid_2:\n"
     ]
    },
    {
     "data": {
      "text/html": [
       "<div>\n",
       "<style scoped>\n",
       "    .dataframe tbody tr th:only-of-type {\n",
       "        vertical-align: middle;\n",
       "    }\n",
       "\n",
       "    .dataframe tbody tr th {\n",
       "        vertical-align: top;\n",
       "    }\n",
       "\n",
       "    .dataframe thead th {\n",
       "        text-align: right;\n",
       "    }\n",
       "</style>\n",
       "<table border=\"1\" class=\"dataframe\">\n",
       "  <thead>\n",
       "    <tr style=\"text-align: right;\">\n",
       "      <th></th>\n",
       "      <th>f0</th>\n",
       "      <th>f1</th>\n",
       "      <th>f2</th>\n",
       "    </tr>\n",
       "  </thead>\n",
       "  <tbody>\n",
       "    <tr>\n",
       "      <th>count</th>\n",
       "      <td>25000.00</td>\n",
       "      <td>25000.00</td>\n",
       "      <td>25000.00</td>\n",
       "    </tr>\n",
       "    <tr>\n",
       "      <th>mean</th>\n",
       "      <td>-0.01</td>\n",
       "      <td>0.01</td>\n",
       "      <td>2.49</td>\n",
       "    </tr>\n",
       "    <tr>\n",
       "      <th>std</th>\n",
       "      <td>1.73</td>\n",
       "      <td>1.73</td>\n",
       "      <td>3.48</td>\n",
       "    </tr>\n",
       "    <tr>\n",
       "      <th>min</th>\n",
       "      <td>-7.19</td>\n",
       "      <td>-6.75</td>\n",
       "      <td>-11.15</td>\n",
       "    </tr>\n",
       "    <tr>\n",
       "      <th>25%</th>\n",
       "      <td>-1.17</td>\n",
       "      <td>-1.16</td>\n",
       "      <td>0.11</td>\n",
       "    </tr>\n",
       "    <tr>\n",
       "      <th>50%</th>\n",
       "      <td>0.00</td>\n",
       "      <td>0.00</td>\n",
       "      <td>2.50</td>\n",
       "    </tr>\n",
       "    <tr>\n",
       "      <th>75%</th>\n",
       "      <td>1.16</td>\n",
       "      <td>1.16</td>\n",
       "      <td>4.85</td>\n",
       "    </tr>\n",
       "    <tr>\n",
       "      <th>max</th>\n",
       "      <td>6.25</td>\n",
       "      <td>6.82</td>\n",
       "      <td>14.92</td>\n",
       "    </tr>\n",
       "  </tbody>\n",
       "</table>\n",
       "</div>"
      ],
      "text/plain": [
       "            f0       f1       f2\n",
       "count 25000.00 25000.00 25000.00\n",
       "mean     -0.01     0.01     2.49\n",
       "std       1.73     1.73     3.48\n",
       "min      -7.19    -6.75   -11.15\n",
       "25%      -1.17    -1.16     0.11\n",
       "50%       0.00     0.00     2.50\n",
       "75%       1.16     1.16     4.85\n",
       "max       6.25     6.82    14.92"
      ]
     },
     "metadata": {},
     "output_type": "display_data"
    },
    {
     "name": "stdout",
     "output_type": "stream",
     "text": [
      "-------------------------------------------------\n"
     ]
    }
   ],
   "source": [
    "# посмотрим полученные выборки, изучим их размер\n",
    "\n",
    "features_list = [features_train_0, features_train_1, features_train_2, \n",
    "                       features_valid_0, features_valid_1, features_valid_2]\n",
    "features_name_list = ['features_train_0', 'features_train_1', 'features_train_2', \n",
    "                       'features_valid_0', 'features_valid_1', 'features_valid_2']\n",
    "\n",
    "\n",
    "for x, y in zip(features_list, features_name_list):\n",
    "    print(y + ':')\n",
    "    display(pd.DataFrame(x).describe())\n",
    "    print('-------------------------------------------------')"
   ]
  },
  {
   "cell_type": "markdown",
   "metadata": {},
   "source": [
    "Поскольку для обучения модели подходит только `Linear Regression`, предлагаем применить инструмент `StandardScaler` - он позволит нам провести обработку данных, \"стандартизовав\" их до практически нулевого среднего значения и стандартного отклонения равного 1."
   ]
  },
  {
   "cell_type": "code",
   "execution_count": 13,
   "metadata": {},
   "outputs": [],
   "source": [
    "# создаем функцию для Standard Scaler\n",
    "\n",
    "def scaler(features_valid, features_train):\n",
    "    scaler = StandardScaler()\n",
    "    scaler.fit(features_train)\n",
    "    features_train = scaler.transform(features_train)\n",
    "    features_valid = scaler.transform(features_valid)\n",
    "    return features_valid, features_train"
   ]
  },
  {
   "cell_type": "code",
   "execution_count": 14,
   "metadata": {},
   "outputs": [],
   "source": [
    "# применяем созданную функцию на валидационные и тренировочные выборки\n",
    "\n",
    "features_train_0, features_valid_0 = scaler (features_train_0, features_valid_0)\n",
    "features_train_1, features_valid_1 = scaler (features_train_1, features_valid_1)\n",
    "features_train_2, features_valid_2 = scaler (features_train_2, features_valid_2)"
   ]
  },
  {
   "cell_type": "code",
   "execution_count": 15,
   "metadata": {
    "scrolled": true
   },
   "outputs": [
    {
     "name": "stdout",
     "output_type": "stream",
     "text": [
      "features_train_0:\n"
     ]
    },
    {
     "data": {
      "text/html": [
       "<div>\n",
       "<style scoped>\n",
       "    .dataframe tbody tr th:only-of-type {\n",
       "        vertical-align: middle;\n",
       "    }\n",
       "\n",
       "    .dataframe tbody tr th {\n",
       "        vertical-align: top;\n",
       "    }\n",
       "\n",
       "    .dataframe thead th {\n",
       "        text-align: right;\n",
       "    }\n",
       "</style>\n",
       "<table border=\"1\" class=\"dataframe\">\n",
       "  <thead>\n",
       "    <tr style=\"text-align: right;\">\n",
       "      <th></th>\n",
       "      <th>0</th>\n",
       "      <th>1</th>\n",
       "      <th>2</th>\n",
       "    </tr>\n",
       "  </thead>\n",
       "  <tbody>\n",
       "    <tr>\n",
       "      <th>count</th>\n",
       "      <td>75000.00</td>\n",
       "      <td>75000.00</td>\n",
       "      <td>75000.00</td>\n",
       "    </tr>\n",
       "    <tr>\n",
       "      <th>mean</th>\n",
       "      <td>-0.01</td>\n",
       "      <td>-0.00</td>\n",
       "      <td>0.00</td>\n",
       "    </tr>\n",
       "    <tr>\n",
       "      <th>std</th>\n",
       "      <td>1.00</td>\n",
       "      <td>1.00</td>\n",
       "      <td>1.00</td>\n",
       "    </tr>\n",
       "    <tr>\n",
       "      <th>min</th>\n",
       "      <td>-2.20</td>\n",
       "      <td>-2.17</td>\n",
       "      <td>-3.89</td>\n",
       "    </tr>\n",
       "    <tr>\n",
       "      <th>25%</th>\n",
       "      <td>-0.67</td>\n",
       "      <td>-0.89</td>\n",
       "      <td>-0.68</td>\n",
       "    </tr>\n",
       "    <tr>\n",
       "      <th>50%</th>\n",
       "      <td>-0.01</td>\n",
       "      <td>-0.00</td>\n",
       "      <td>0.01</td>\n",
       "    </tr>\n",
       "    <tr>\n",
       "      <th>75%</th>\n",
       "      <td>0.64</td>\n",
       "      <td>0.89</td>\n",
       "      <td>0.69</td>\n",
       "    </tr>\n",
       "    <tr>\n",
       "      <th>max</th>\n",
       "      <td>2.13</td>\n",
       "      <td>2.16</td>\n",
       "      <td>4.17</td>\n",
       "    </tr>\n",
       "  </tbody>\n",
       "</table>\n",
       "</div>"
      ],
      "text/plain": [
       "             0        1        2\n",
       "count 75000.00 75000.00 75000.00\n",
       "mean     -0.01    -0.00     0.00\n",
       "std       1.00     1.00     1.00\n",
       "min      -2.20    -2.17    -3.89\n",
       "25%      -0.67    -0.89    -0.68\n",
       "50%      -0.01    -0.00     0.01\n",
       "75%       0.64     0.89     0.69\n",
       "max       2.13     2.16     4.17"
      ]
     },
     "metadata": {},
     "output_type": "display_data"
    },
    {
     "name": "stdout",
     "output_type": "stream",
     "text": [
      "features_train_1:\n"
     ]
    },
    {
     "data": {
      "text/html": [
       "<div>\n",
       "<style scoped>\n",
       "    .dataframe tbody tr th:only-of-type {\n",
       "        vertical-align: middle;\n",
       "    }\n",
       "\n",
       "    .dataframe tbody tr th {\n",
       "        vertical-align: top;\n",
       "    }\n",
       "\n",
       "    .dataframe thead th {\n",
       "        text-align: right;\n",
       "    }\n",
       "</style>\n",
       "<table border=\"1\" class=\"dataframe\">\n",
       "  <thead>\n",
       "    <tr style=\"text-align: right;\">\n",
       "      <th></th>\n",
       "      <th>0</th>\n",
       "      <th>1</th>\n",
       "      <th>2</th>\n",
       "    </tr>\n",
       "  </thead>\n",
       "  <tbody>\n",
       "    <tr>\n",
       "      <th>count</th>\n",
       "      <td>75000.00</td>\n",
       "      <td>75000.00</td>\n",
       "      <td>75000.00</td>\n",
       "    </tr>\n",
       "    <tr>\n",
       "      <th>mean</th>\n",
       "      <td>-0.00</td>\n",
       "      <td>0.00</td>\n",
       "      <td>0.00</td>\n",
       "    </tr>\n",
       "    <tr>\n",
       "      <th>std</th>\n",
       "      <td>1.00</td>\n",
       "      <td>1.01</td>\n",
       "      <td>1.00</td>\n",
       "    </tr>\n",
       "    <tr>\n",
       "      <th>min</th>\n",
       "      <td>-3.65</td>\n",
       "      <td>-4.23</td>\n",
       "      <td>-1.47</td>\n",
       "    </tr>\n",
       "    <tr>\n",
       "      <th>25%</th>\n",
       "      <td>-0.83</td>\n",
       "      <td>-0.68</td>\n",
       "      <td>-0.87</td>\n",
       "    </tr>\n",
       "    <tr>\n",
       "      <th>50%</th>\n",
       "      <td>0.00</td>\n",
       "      <td>0.00</td>\n",
       "      <td>-0.28</td>\n",
       "    </tr>\n",
       "    <tr>\n",
       "      <th>75%</th>\n",
       "      <td>0.83</td>\n",
       "      <td>0.68</td>\n",
       "      <td>0.88</td>\n",
       "    </tr>\n",
       "    <tr>\n",
       "      <th>max</th>\n",
       "      <td>3.15</td>\n",
       "      <td>4.62</td>\n",
       "      <td>1.48</td>\n",
       "    </tr>\n",
       "  </tbody>\n",
       "</table>\n",
       "</div>"
      ],
      "text/plain": [
       "             0        1        2\n",
       "count 75000.00 75000.00 75000.00\n",
       "mean     -0.00     0.00     0.00\n",
       "std       1.00     1.01     1.00\n",
       "min      -3.65    -4.23    -1.47\n",
       "25%      -0.83    -0.68    -0.87\n",
       "50%       0.00     0.00    -0.28\n",
       "75%       0.83     0.68     0.88\n",
       "max       3.15     4.62     1.48"
      ]
     },
     "metadata": {},
     "output_type": "display_data"
    },
    {
     "name": "stdout",
     "output_type": "stream",
     "text": [
      "features_train_2:\n"
     ]
    },
    {
     "data": {
      "text/html": [
       "<div>\n",
       "<style scoped>\n",
       "    .dataframe tbody tr th:only-of-type {\n",
       "        vertical-align: middle;\n",
       "    }\n",
       "\n",
       "    .dataframe tbody tr th {\n",
       "        vertical-align: top;\n",
       "    }\n",
       "\n",
       "    .dataframe thead th {\n",
       "        text-align: right;\n",
       "    }\n",
       "</style>\n",
       "<table border=\"1\" class=\"dataframe\">\n",
       "  <thead>\n",
       "    <tr style=\"text-align: right;\">\n",
       "      <th></th>\n",
       "      <th>0</th>\n",
       "      <th>1</th>\n",
       "      <th>2</th>\n",
       "    </tr>\n",
       "  </thead>\n",
       "  <tbody>\n",
       "    <tr>\n",
       "      <th>count</th>\n",
       "      <td>75000.00</td>\n",
       "      <td>75000.00</td>\n",
       "      <td>75000.00</td>\n",
       "    </tr>\n",
       "    <tr>\n",
       "      <th>mean</th>\n",
       "      <td>0.01</td>\n",
       "      <td>-0.01</td>\n",
       "      <td>0.00</td>\n",
       "    </tr>\n",
       "    <tr>\n",
       "      <th>std</th>\n",
       "      <td>1.00</td>\n",
       "      <td>1.00</td>\n",
       "      <td>1.00</td>\n",
       "    </tr>\n",
       "    <tr>\n",
       "      <th>min</th>\n",
       "      <td>-5.05</td>\n",
       "      <td>-4.10</td>\n",
       "      <td>-4.16</td>\n",
       "    </tr>\n",
       "    <tr>\n",
       "      <th>25%</th>\n",
       "      <td>-0.67</td>\n",
       "      <td>-0.69</td>\n",
       "      <td>-0.67</td>\n",
       "    </tr>\n",
       "    <tr>\n",
       "      <th>50%</th>\n",
       "      <td>0.01</td>\n",
       "      <td>-0.01</td>\n",
       "      <td>-0.00</td>\n",
       "    </tr>\n",
       "    <tr>\n",
       "      <th>75%</th>\n",
       "      <td>0.67</td>\n",
       "      <td>0.67</td>\n",
       "      <td>0.68</td>\n",
       "    </tr>\n",
       "    <tr>\n",
       "      <th>max</th>\n",
       "      <td>4.18</td>\n",
       "      <td>4.54</td>\n",
       "      <td>4.10</td>\n",
       "    </tr>\n",
       "  </tbody>\n",
       "</table>\n",
       "</div>"
      ],
      "text/plain": [
       "             0        1        2\n",
       "count 75000.00 75000.00 75000.00\n",
       "mean      0.01    -0.01     0.00\n",
       "std       1.00     1.00     1.00\n",
       "min      -5.05    -4.10    -4.16\n",
       "25%      -0.67    -0.69    -0.67\n",
       "50%       0.01    -0.01    -0.00\n",
       "75%       0.67     0.67     0.68\n",
       "max       4.18     4.54     4.10"
      ]
     },
     "metadata": {},
     "output_type": "display_data"
    },
    {
     "name": "stdout",
     "output_type": "stream",
     "text": [
      "features_valid_0:\n"
     ]
    },
    {
     "data": {
      "text/html": [
       "<div>\n",
       "<style scoped>\n",
       "    .dataframe tbody tr th:only-of-type {\n",
       "        vertical-align: middle;\n",
       "    }\n",
       "\n",
       "    .dataframe tbody tr th {\n",
       "        vertical-align: top;\n",
       "    }\n",
       "\n",
       "    .dataframe thead th {\n",
       "        text-align: right;\n",
       "    }\n",
       "</style>\n",
       "<table border=\"1\" class=\"dataframe\">\n",
       "  <thead>\n",
       "    <tr style=\"text-align: right;\">\n",
       "      <th></th>\n",
       "      <th>0</th>\n",
       "      <th>1</th>\n",
       "      <th>2</th>\n",
       "    </tr>\n",
       "  </thead>\n",
       "  <tbody>\n",
       "    <tr>\n",
       "      <th>count</th>\n",
       "      <td>25000.00</td>\n",
       "      <td>25000.00</td>\n",
       "      <td>25000.00</td>\n",
       "    </tr>\n",
       "    <tr>\n",
       "      <th>mean</th>\n",
       "      <td>-0.00</td>\n",
       "      <td>0.00</td>\n",
       "      <td>-0.00</td>\n",
       "    </tr>\n",
       "    <tr>\n",
       "      <th>std</th>\n",
       "      <td>1.00</td>\n",
       "      <td>1.00</td>\n",
       "      <td>1.00</td>\n",
       "    </tr>\n",
       "    <tr>\n",
       "      <th>min</th>\n",
       "      <td>-2.08</td>\n",
       "      <td>-2.09</td>\n",
       "      <td>-4.49</td>\n",
       "    </tr>\n",
       "    <tr>\n",
       "      <th>25%</th>\n",
       "      <td>-0.66</td>\n",
       "      <td>-0.90</td>\n",
       "      <td>-0.69</td>\n",
       "    </tr>\n",
       "    <tr>\n",
       "      <th>50%</th>\n",
       "      <td>0.00</td>\n",
       "      <td>0.00</td>\n",
       "      <td>0.00</td>\n",
       "    </tr>\n",
       "    <tr>\n",
       "      <th>75%</th>\n",
       "      <td>0.66</td>\n",
       "      <td>0.89</td>\n",
       "      <td>0.68</td>\n",
       "    </tr>\n",
       "    <tr>\n",
       "      <th>max</th>\n",
       "      <td>2.05</td>\n",
       "      <td>2.14</td>\n",
       "      <td>3.86</td>\n",
       "    </tr>\n",
       "  </tbody>\n",
       "</table>\n",
       "</div>"
      ],
      "text/plain": [
       "             0        1        2\n",
       "count 25000.00 25000.00 25000.00\n",
       "mean     -0.00     0.00    -0.00\n",
       "std       1.00     1.00     1.00\n",
       "min      -2.08    -2.09    -4.49\n",
       "25%      -0.66    -0.90    -0.69\n",
       "50%       0.00     0.00     0.00\n",
       "75%       0.66     0.89     0.68\n",
       "max       2.05     2.14     3.86"
      ]
     },
     "metadata": {},
     "output_type": "display_data"
    },
    {
     "name": "stdout",
     "output_type": "stream",
     "text": [
      "features_valid_1:\n"
     ]
    },
    {
     "data": {
      "text/html": [
       "<div>\n",
       "<style scoped>\n",
       "    .dataframe tbody tr th:only-of-type {\n",
       "        vertical-align: middle;\n",
       "    }\n",
       "\n",
       "    .dataframe tbody tr th {\n",
       "        vertical-align: top;\n",
       "    }\n",
       "\n",
       "    .dataframe thead th {\n",
       "        text-align: right;\n",
       "    }\n",
       "</style>\n",
       "<table border=\"1\" class=\"dataframe\">\n",
       "  <thead>\n",
       "    <tr style=\"text-align: right;\">\n",
       "      <th></th>\n",
       "      <th>0</th>\n",
       "      <th>1</th>\n",
       "      <th>2</th>\n",
       "    </tr>\n",
       "  </thead>\n",
       "  <tbody>\n",
       "    <tr>\n",
       "      <th>count</th>\n",
       "      <td>25000.00</td>\n",
       "      <td>25000.00</td>\n",
       "      <td>25000.00</td>\n",
       "    </tr>\n",
       "    <tr>\n",
       "      <th>mean</th>\n",
       "      <td>0.00</td>\n",
       "      <td>0.00</td>\n",
       "      <td>0.00</td>\n",
       "    </tr>\n",
       "    <tr>\n",
       "      <th>std</th>\n",
       "      <td>1.00</td>\n",
       "      <td>1.00</td>\n",
       "      <td>1.00</td>\n",
       "    </tr>\n",
       "    <tr>\n",
       "      <th>min</th>\n",
       "      <td>-2.89</td>\n",
       "      <td>-4.02</td>\n",
       "      <td>-1.47</td>\n",
       "    </tr>\n",
       "    <tr>\n",
       "      <th>25%</th>\n",
       "      <td>-0.83</td>\n",
       "      <td>-0.68</td>\n",
       "      <td>-0.87</td>\n",
       "    </tr>\n",
       "    <tr>\n",
       "      <th>50%</th>\n",
       "      <td>0.00</td>\n",
       "      <td>-0.01</td>\n",
       "      <td>-0.28</td>\n",
       "    </tr>\n",
       "    <tr>\n",
       "      <th>75%</th>\n",
       "      <td>0.83</td>\n",
       "      <td>0.68</td>\n",
       "      <td>0.88</td>\n",
       "    </tr>\n",
       "    <tr>\n",
       "      <th>max</th>\n",
       "      <td>2.83</td>\n",
       "      <td>4.23</td>\n",
       "      <td>1.48</td>\n",
       "    </tr>\n",
       "  </tbody>\n",
       "</table>\n",
       "</div>"
      ],
      "text/plain": [
       "             0        1        2\n",
       "count 25000.00 25000.00 25000.00\n",
       "mean      0.00     0.00     0.00\n",
       "std       1.00     1.00     1.00\n",
       "min      -2.89    -4.02    -1.47\n",
       "25%      -0.83    -0.68    -0.87\n",
       "50%       0.00    -0.01    -0.28\n",
       "75%       0.83     0.68     0.88\n",
       "max       2.83     4.23     1.48"
      ]
     },
     "metadata": {},
     "output_type": "display_data"
    },
    {
     "name": "stdout",
     "output_type": "stream",
     "text": [
      "features_valid_2:\n"
     ]
    },
    {
     "data": {
      "text/html": [
       "<div>\n",
       "<style scoped>\n",
       "    .dataframe tbody tr th:only-of-type {\n",
       "        vertical-align: middle;\n",
       "    }\n",
       "\n",
       "    .dataframe tbody tr th {\n",
       "        vertical-align: top;\n",
       "    }\n",
       "\n",
       "    .dataframe thead th {\n",
       "        text-align: right;\n",
       "    }\n",
       "</style>\n",
       "<table border=\"1\" class=\"dataframe\">\n",
       "  <thead>\n",
       "    <tr style=\"text-align: right;\">\n",
       "      <th></th>\n",
       "      <th>0</th>\n",
       "      <th>1</th>\n",
       "      <th>2</th>\n",
       "    </tr>\n",
       "  </thead>\n",
       "  <tbody>\n",
       "    <tr>\n",
       "      <th>count</th>\n",
       "      <td>25000.00</td>\n",
       "      <td>25000.00</td>\n",
       "      <td>25000.00</td>\n",
       "    </tr>\n",
       "    <tr>\n",
       "      <th>mean</th>\n",
       "      <td>0.00</td>\n",
       "      <td>0.00</td>\n",
       "      <td>-0.00</td>\n",
       "    </tr>\n",
       "    <tr>\n",
       "      <th>std</th>\n",
       "      <td>1.00</td>\n",
       "      <td>1.00</td>\n",
       "      <td>1.00</td>\n",
       "    </tr>\n",
       "    <tr>\n",
       "      <th>min</th>\n",
       "      <td>-4.15</td>\n",
       "      <td>-3.91</td>\n",
       "      <td>-3.92</td>\n",
       "    </tr>\n",
       "    <tr>\n",
       "      <th>25%</th>\n",
       "      <td>-0.67</td>\n",
       "      <td>-0.68</td>\n",
       "      <td>-0.68</td>\n",
       "    </tr>\n",
       "    <tr>\n",
       "      <th>50%</th>\n",
       "      <td>0.00</td>\n",
       "      <td>-0.00</td>\n",
       "      <td>0.00</td>\n",
       "    </tr>\n",
       "    <tr>\n",
       "      <th>75%</th>\n",
       "      <td>0.67</td>\n",
       "      <td>0.67</td>\n",
       "      <td>0.68</td>\n",
       "    </tr>\n",
       "    <tr>\n",
       "      <th>max</th>\n",
       "      <td>3.61</td>\n",
       "      <td>3.95</td>\n",
       "      <td>3.58</td>\n",
       "    </tr>\n",
       "  </tbody>\n",
       "</table>\n",
       "</div>"
      ],
      "text/plain": [
       "             0        1        2\n",
       "count 25000.00 25000.00 25000.00\n",
       "mean      0.00     0.00    -0.00\n",
       "std       1.00     1.00     1.00\n",
       "min      -4.15    -3.91    -3.92\n",
       "25%      -0.67    -0.68    -0.68\n",
       "50%       0.00    -0.00     0.00\n",
       "75%       0.67     0.67     0.68\n",
       "max       3.61     3.95     3.58"
      ]
     },
     "metadata": {},
     "output_type": "display_data"
    }
   ],
   "source": [
    "# убедимся в работе Scaler на наши выборки\n",
    "\n",
    "features_list = [features_train_0, features_train_1, features_train_2, \n",
    "                       features_valid_0, features_valid_1, features_valid_2]\n",
    "features_name_list = ['features_train_0', 'features_train_1', 'features_train_2', \n",
    "                       'features_valid_0', 'features_valid_1', 'features_valid_2']\n",
    "\n",
    "\n",
    "for x, y in zip(features_list, features_name_list):\n",
    "    print(y + ':')\n",
    "    display(pd.DataFrame(x).describe())"
   ]
  },
  {
   "cell_type": "code",
   "execution_count": 16,
   "metadata": {},
   "outputs": [],
   "source": [
    "# создаем функцию\n",
    "def model_pred(features_train , features_valid, target_train, target_valid) :\n",
    "    model = LinearRegression() # модель линейной регрессии\n",
    "    model.fit(features_train, target_train) # ставим модель на тренировочные данные\n",
    "    predictions = model.predict(features_valid) # ставим модель на валидационные данные\n",
    "    prediction_mean = predictions.mean() # создаем механизм для расчета среднего значения\n",
    "    rmse = mean_squared_error(target_valid, predictions) ** 0.5 # создаем механизм для расчета RMSE\n",
    "    return predictions ,prediction_mean, rmse"
   ]
  },
  {
   "cell_type": "code",
   "execution_count": 17,
   "metadata": {},
   "outputs": [
    {
     "name": "stdout",
     "output_type": "stream",
     "text": [
      "Средний предсказанный запас сырья по первому региону (dataset_0): 92.59\n",
      "RMSE : 37.58\n"
     ]
    }
   ],
   "source": [
    "# раскидываем функцию на первый регион\n",
    "\n",
    "predictions_0 ,prediction_mean_0, rmse_0 = model_pred(features_train_0 , features_valid_0, target_train_0, target_valid_0)\n",
    "\n",
    "print('Средний предсказанный запас сырья по первому региону (dataset_0): {:.2f}'.format(prediction_mean_0))\n",
    "print('RMSE : {:.2f}'.format(rmse_0))"
   ]
  },
  {
   "cell_type": "code",
   "execution_count": 18,
   "metadata": {},
   "outputs": [
    {
     "name": "stdout",
     "output_type": "stream",
     "text": [
      "Средний предсказанный запас сырья по второму региону (dataset_1): 68.73\n",
      "RMSE : 0.89\n"
     ]
    }
   ],
   "source": [
    "# раскидываем функцию на второй регион\n",
    "\n",
    "predictions_1 ,prediction_mean_1, rmse_1 = model_pred(features_train_1 , features_valid_1, target_train_1, target_valid_1)\n",
    "\n",
    "print('Средний предсказанный запас сырья по второму региону (dataset_1): {:.2f}'.format(prediction_mean_1))\n",
    "print('RMSE : {:.2f}'.format(rmse_1))"
   ]
  },
  {
   "cell_type": "code",
   "execution_count": 19,
   "metadata": {},
   "outputs": [
    {
     "name": "stdout",
     "output_type": "stream",
     "text": [
      "Средний предсказанный запас сырья по третьему региону (dataset_2): 94.97\n",
      "RMSE : 40.03\n"
     ]
    }
   ],
   "source": [
    "# раскидываем функцию на третий регион\n",
    "\n",
    "predictions_2 ,prediction_mean_2, rmse_2 = model_pred(features_train_2 , features_valid_2, target_train_2, target_valid_2)\n",
    "\n",
    "print('Средний предсказанный запас сырья по третьему региону (dataset_2): {:.2f}'.format(prediction_mean_2))\n",
    "print('RMSE : {:.2f}'.format(rmse_2))"
   ]
  },
  {
   "cell_type": "markdown",
   "metadata": {},
   "source": [
    "Создадим новые датасеты, которые будут содержать информацию о реальном значении сырья и о результате работы ML-модели"
   ]
  },
  {
   "cell_type": "code",
   "execution_count": 20,
   "metadata": {},
   "outputs": [],
   "source": [
    "df_0 = pd.concat ([target_valid_0.reset_index(drop=True), pd.Series(predictions_0)], axis = 1)\n",
    "df_0.rename(columns = {0: 'predictions'}, inplace = True)\n",
    "\n",
    "df_1 = pd.concat ([target_valid_1.reset_index(drop=True), pd.Series(predictions_1)], axis = 1)\n",
    "df_1.rename(columns = {0: 'predictions'}, inplace = True)\n",
    "\n",
    "df_2 = pd.concat ([target_valid_2.reset_index(drop=True), pd.Series(predictions_2)], axis = 1)\n",
    "df_2.rename(columns = {0: 'predictions'}, inplace = True)"
   ]
  },
  {
   "cell_type": "markdown",
   "metadata": {},
   "source": [
    "**Вывод**"
   ]
  },
  {
   "cell_type": "markdown",
   "metadata": {},
   "source": [
    "По результатам обучения модели Logistic Regression и проведения оценки качества их работы на основании показателя RMSE могут быть сделаны следующие выводы:"
   ]
  },
  {
   "cell_type": "markdown",
   "metadata": {},
   "source": [
    "- Регион 1 и Регион 3 обладает наибольшими средними предсказанными запасами сырья.\n",
    "- Вместе с тем, Регион 2 имеет наименьшее значение RMSE - модель наиболее хорошо предсказывает вероятности именно по данному датасету. Кроме того, в связи с выявленной прямой корреляцией между признаком `f2` и столбцом `product` в dataset_1, имеется предположение, что именно данный регион может быть предложен в качестве лучшего для разработки скважин. "
   ]
  },
  {
   "cell_type": "markdown",
   "metadata": {},
   "source": [
    "Перейдем к расчету прибыли."
   ]
  },
  {
   "cell_type": "markdown",
   "metadata": {},
   "source": [
    "## Подготовка к расчёту прибыли"
   ]
  },
  {
   "cell_type": "markdown",
   "metadata": {},
   "source": [
    "Сохраняем ключевые константы и осуществляем базовые расчеты:"
   ]
  },
  {
   "cell_type": "code",
   "execution_count": 21,
   "metadata": {},
   "outputs": [
    {
     "name": "stdout",
     "output_type": "stream",
     "text": [
      "Бюджет на разработку 1 лучшей скважины в регионе: 50000000 рублей\n",
      "Исчисляемое производство 1 лучшей скважины в регионе: 111.11 тысяч баррелей\n",
      "Исчисляемое производство в регионе : 22222.22 тысяч баррелей\n"
     ]
    }
   ],
   "source": [
    "# общее количество скважин\n",
    "WELLS_TOTAL = 500\n",
    "\n",
    "# количество лучших скважин\n",
    "WELLS_BEST = 200\n",
    "\n",
    "# бюджет на разработку скважин в регионе\n",
    "BUDGET_TOTAL = 10_000_000_000\n",
    "\n",
    "# сколько приносит 1 баррель сырья \n",
    "INCOME_PER_BARREL = 450_000\n",
    "\n",
    "# бюджет на разработку 1 лучшей скважины в регионе\n",
    "WELL_BEST_BUDGET = BUDGET_TOTAL / WELLS_BEST\n",
    "\n",
    "# минимальное производство 1 лучшей скважины в регионе\n",
    "MIN_PROD = WELL_BEST_BUDGET / INCOME_PER_BARREL\n",
    "\n",
    "# минимальное производство в регионе\n",
    "MIN_INCOME_REGION = WELLS_BEST * MIN_PROD\n",
    "\n",
    "print('Бюджет на разработку 1 лучшей скважины в регионе: {:.0f} рублей'.format(WELL_BEST_BUDGET))\n",
    "print('Исчисляемое производство 1 лучшей скважины в регионе: {:.2f}'.format (MIN_PROD), 'тысяч баррелей')\n",
    "print('Исчисляемое производство в регионе : {:.2f}'.format(MIN_INCOME_REGION), 'тысяч баррелей')"
   ]
  },
  {
   "cell_type": "markdown",
   "metadata": {},
   "source": [
    "**Вывод**"
   ]
  },
  {
   "cell_type": "markdown",
   "metadata": {},
   "source": [
    "Константы сохранены, основные расчеты на основании сохраненных констант выполнены. Перейдем к расчету прибыли и рисков."
   ]
  },
  {
   "cell_type": "markdown",
   "metadata": {},
   "source": [
    "## Расчёт прибыли и рисков "
   ]
  },
  {
   "cell_type": "code",
   "execution_count": 22,
   "metadata": {},
   "outputs": [],
   "source": [
    "# создаем функцию для расчета прибыли\n",
    "\n",
    "def revenue (df):\n",
    "    df = df.sort_values(by = 'predictions', ascending = False) # функция отсортирует значения по столбцу predictions \n",
    "    df = df.iloc[0:WELLS_BEST, 0] # заберет требуемое количество лучших скважин\n",
    "    value = df.sum() * INCOME_PER_BARREL - BUDGET_TOTAL # и расчитает значение прибыли\n",
    "    return value"
   ]
  },
  {
   "cell_type": "code",
   "execution_count": 23,
   "metadata": {},
   "outputs": [],
   "source": [
    "# создаем функцию для bootstrap\n",
    "\n",
    "def bootstrap (df):\n",
    "    values = []\n",
    "    state = np.random.RandomState(12345)\n",
    "    for i in range (1000):\n",
    "        subsample = df.sample (n=WELLS_TOTAL, replace = True, random_state = state) # в качестве n берем искомое значение скважин\n",
    "        values.append(revenue(subsample))\n",
    "    return pd.Series (values)"
   ]
  },
  {
   "cell_type": "code",
   "execution_count": 24,
   "metadata": {},
   "outputs": [],
   "source": [
    "# применяем функцию bootstrap на датасеты\n",
    "\n",
    "d0 = bootstrap(df_0)\n",
    "d1 = bootstrap(df_1)\n",
    "d2 = bootstrap(df_2)"
   ]
  },
  {
   "cell_type": "code",
   "execution_count": 25,
   "metadata": {
    "scrolled": false
   },
   "outputs": [
    {
     "name": "stdout",
     "output_type": "stream",
     "text": [
      "-------------------------------------------------\n",
      "Средняя прибыль в регионе 1 = 396164984\n",
      "Вероятность убытков в регионе 1 = 0.069\n",
      "95% доверительный интервал в регионе 1 = (-111215545.89049526, 909766941.5534226)\n",
      "-------------------------------------------------\n",
      "Средняя прибыль в регионе 2 = 456045105\n",
      "Вероятность убытков в регионе 2 = 0.015\n",
      "95% доверительный интервал в регионе 2 = (33820509.39898363, 852289453.866036)\n",
      "-------------------------------------------------\n",
      "Средняя прибыль в регионе 3 = 404403866\n",
      "Вероятность убытков в регионе 3 = 0.076\n",
      "95% доверительный интервал в регионе 3 = (-163350413.39560106, 950359574.9237995)\n"
     ]
    }
   ],
   "source": [
    "d_list = [d0, d1, d2]\n",
    "d_list_name = ['регионе 1', 'регионе 2', 'регионе 3']\n",
    "\n",
    "for x, y in zip (d_list, d_list_name):\n",
    "    print('-------------------------------------------------')\n",
    "    print(f'Средняя прибыль в {y} = {int(x.mean())}')\n",
    "    print(f'Вероятность убытков в {y} = {(x<0).mean()}')\n",
    "    print(f'95% доверительный интервал в {y} = {x.quantile(0.025), x.quantile(0.975)}')"
   ]
  },
  {
   "cell_type": "markdown",
   "metadata": {},
   "source": [
    "**Вывод**"
   ]
  },
  {
   "cell_type": "markdown",
   "metadata": {},
   "source": [
    "К выбору предлагается `Регион 2` (dataset 1) как Регион, имеющий наименьшую вероятность убытков (0.015 по сравнению с вероятностью 0.069 в Регионе 1 и 0.076 в Регионе 3), а также как Регион, имеющий наибольшую среднюю прибыль (456 045 105 по сравнению с 396 164 984 в Регионе 1 и 404 403 866 в Регионе 3)."
   ]
  },
  {
   "cell_type": "markdown",
   "metadata": {},
   "source": [
    "Вместе с тем, следует отдельно отметить, что `Регион 2` имеет наименьшее количество запасов по сравнению с другими представленными регионами. Это необходимо учитывать, поскольку в случае увеличения качества и объема данных по всем регионам, может быть произведена корректировка предсказаний модели."
   ]
  }
 ],
 "metadata": {
  "ExecuteTimeLog": [
   {
    "duration": 59,
    "start_time": "2022-06-23T12:40:14.217Z"
   },
   {
    "duration": 449,
    "start_time": "2022-06-23T12:40:20.415Z"
   },
   {
    "duration": 1757,
    "start_time": "2022-06-23T12:40:20.866Z"
   },
   {
    "duration": 92,
    "start_time": "2022-06-23T12:41:14.121Z"
   },
   {
    "duration": 10,
    "start_time": "2022-06-23T12:41:28.849Z"
   },
   {
    "duration": 516,
    "start_time": "2022-06-23T12:41:36.822Z"
   },
   {
    "duration": 506,
    "start_time": "2022-06-23T12:41:37.348Z"
   },
   {
    "duration": 76,
    "start_time": "2022-06-23T12:41:37.856Z"
   },
   {
    "duration": 490,
    "start_time": "2022-06-23T12:42:36.466Z"
   },
   {
    "duration": 486,
    "start_time": "2022-06-23T12:42:36.959Z"
   },
   {
    "duration": 53,
    "start_time": "2022-06-23T12:42:37.449Z"
   },
   {
    "duration": 28,
    "start_time": "2022-06-23T12:42:50.669Z"
   },
   {
    "duration": 35,
    "start_time": "2022-06-23T12:43:49.086Z"
   },
   {
    "duration": 432,
    "start_time": "2022-06-23T12:46:55.840Z"
   },
   {
    "duration": 413,
    "start_time": "2022-06-23T12:46:56.274Z"
   },
   {
    "duration": 67,
    "start_time": "2022-06-23T12:46:56.689Z"
   },
   {
    "duration": 205,
    "start_time": "2022-06-23T12:49:00.886Z"
   },
   {
    "duration": 167,
    "start_time": "2022-06-23T12:49:09.641Z"
   },
   {
    "duration": 193,
    "start_time": "2022-06-23T12:50:32.066Z"
   },
   {
    "duration": 34,
    "start_time": "2022-06-23T12:52:49.320Z"
   },
   {
    "duration": 73,
    "start_time": "2022-06-23T12:56:41.650Z"
   },
   {
    "duration": 126,
    "start_time": "2022-06-23T12:57:36.651Z"
   },
   {
    "duration": 142,
    "start_time": "2022-06-23T12:57:47.336Z"
   },
   {
    "duration": 143,
    "start_time": "2022-06-23T12:59:28.426Z"
   },
   {
    "duration": 156,
    "start_time": "2022-06-23T13:00:53.707Z"
   },
   {
    "duration": 45,
    "start_time": "2022-06-23T13:09:40.393Z"
   },
   {
    "duration": 15,
    "start_time": "2022-06-23T13:09:47.909Z"
   },
   {
    "duration": 12,
    "start_time": "2022-06-23T13:09:51.791Z"
   },
   {
    "duration": 443,
    "start_time": "2022-06-23T13:10:01.004Z"
   },
   {
    "duration": 387,
    "start_time": "2022-06-23T13:10:01.449Z"
   },
   {
    "duration": 42,
    "start_time": "2022-06-23T13:10:01.838Z"
   },
   {
    "duration": 187,
    "start_time": "2022-06-23T13:10:01.883Z"
   },
   {
    "duration": 174,
    "start_time": "2022-06-23T13:10:02.072Z"
   },
   {
    "duration": 144,
    "start_time": "2022-06-23T13:10:02.248Z"
   },
   {
    "duration": 74,
    "start_time": "2022-06-23T13:10:02.394Z"
   },
   {
    "duration": 411,
    "start_time": "2022-06-23T13:10:44.068Z"
   },
   {
    "duration": 415,
    "start_time": "2022-06-23T13:10:44.481Z"
   },
   {
    "duration": 53,
    "start_time": "2022-06-23T13:10:44.898Z"
   },
   {
    "duration": 197,
    "start_time": "2022-06-23T13:10:44.954Z"
   },
   {
    "duration": 162,
    "start_time": "2022-06-23T13:10:45.153Z"
   },
   {
    "duration": 164,
    "start_time": "2022-06-23T13:10:45.317Z"
   },
   {
    "duration": 93,
    "start_time": "2022-06-23T13:10:45.483Z"
   },
   {
    "duration": 443,
    "start_time": "2022-06-23T13:11:43.756Z"
   },
   {
    "duration": 406,
    "start_time": "2022-06-23T13:11:44.201Z"
   },
   {
    "duration": 39,
    "start_time": "2022-06-23T13:11:44.609Z"
   },
   {
    "duration": 164,
    "start_time": "2022-06-23T13:11:44.650Z"
   },
   {
    "duration": 166,
    "start_time": "2022-06-23T13:11:44.816Z"
   },
   {
    "duration": 167,
    "start_time": "2022-06-23T13:11:44.984Z"
   },
   {
    "duration": 104,
    "start_time": "2022-06-23T13:11:45.153Z"
   },
   {
    "duration": 60,
    "start_time": "2022-06-23T13:12:04.098Z"
   },
   {
    "duration": 77,
    "start_time": "2022-06-23T13:12:13.837Z"
   },
   {
    "duration": 57,
    "start_time": "2022-06-23T13:12:18.105Z"
   },
   {
    "duration": 60,
    "start_time": "2022-06-23T13:12:37.053Z"
   },
   {
    "duration": 41,
    "start_time": "2022-06-23T13:12:48.657Z"
   },
   {
    "duration": 13,
    "start_time": "2022-06-23T13:13:09.763Z"
   },
   {
    "duration": 29,
    "start_time": "2022-06-23T13:13:16.062Z"
   },
   {
    "duration": 29,
    "start_time": "2022-06-23T13:13:23.726Z"
   },
   {
    "duration": 26,
    "start_time": "2022-06-23T13:13:35.343Z"
   },
   {
    "duration": 23,
    "start_time": "2022-06-23T13:14:02.936Z"
   },
   {
    "duration": 398,
    "start_time": "2022-06-23T13:14:09.075Z"
   },
   {
    "duration": 390,
    "start_time": "2022-06-23T13:14:09.475Z"
   },
   {
    "duration": 35,
    "start_time": "2022-06-23T13:14:09.866Z"
   },
   {
    "duration": 180,
    "start_time": "2022-06-23T13:14:09.903Z"
   },
   {
    "duration": 180,
    "start_time": "2022-06-23T13:14:10.085Z"
   },
   {
    "duration": 110,
    "start_time": "2022-06-23T13:14:10.267Z"
   },
   {
    "duration": 88,
    "start_time": "2022-06-23T13:14:10.379Z"
   },
   {
    "duration": 45,
    "start_time": "2022-06-23T13:14:57.550Z"
   },
   {
    "duration": 1459,
    "start_time": "2022-06-23T13:16:00.779Z"
   },
   {
    "duration": 416,
    "start_time": "2022-06-23T13:16:02.240Z"
   },
   {
    "duration": 32,
    "start_time": "2022-06-23T13:16:02.658Z"
   },
   {
    "duration": 187,
    "start_time": "2022-06-23T13:16:02.692Z"
   },
   {
    "duration": 165,
    "start_time": "2022-06-23T13:16:02.881Z"
   },
   {
    "duration": 105,
    "start_time": "2022-06-23T13:16:03.048Z"
   },
   {
    "duration": 61,
    "start_time": "2022-06-23T13:16:03.155Z"
   },
   {
    "duration": 65,
    "start_time": "2022-06-23T13:16:03.217Z"
   },
   {
    "duration": 1247,
    "start_time": "2022-06-23T13:17:23.829Z"
   },
   {
    "duration": 397,
    "start_time": "2022-06-23T13:17:25.078Z"
   },
   {
    "duration": 36,
    "start_time": "2022-06-23T13:17:25.478Z"
   },
   {
    "duration": 193,
    "start_time": "2022-06-23T13:17:25.516Z"
   },
   {
    "duration": 168,
    "start_time": "2022-06-23T13:17:25.711Z"
   },
   {
    "duration": 109,
    "start_time": "2022-06-23T13:17:25.881Z"
   },
   {
    "duration": 100,
    "start_time": "2022-06-23T13:17:25.992Z"
   },
   {
    "duration": 72,
    "start_time": "2022-06-23T13:17:26.094Z"
   },
   {
    "duration": 4,
    "start_time": "2022-06-23T13:17:26.167Z"
   },
   {
    "duration": 998,
    "start_time": "2022-06-23T13:22:54.308Z"
   },
   {
    "duration": 998,
    "start_time": "2022-06-23T13:23:13.930Z"
   },
   {
    "duration": 1114,
    "start_time": "2022-06-23T13:23:31.205Z"
   },
   {
    "duration": 937,
    "start_time": "2022-06-23T13:23:53.168Z"
   },
   {
    "duration": 1024,
    "start_time": "2022-06-23T13:24:01.402Z"
   },
   {
    "duration": 1105,
    "start_time": "2022-06-23T13:24:43.727Z"
   },
   {
    "duration": 8,
    "start_time": "2022-06-23T13:32:27.642Z"
   },
   {
    "duration": 106,
    "start_time": "2022-06-23T13:32:52.194Z"
   },
   {
    "duration": 10,
    "start_time": "2022-06-23T13:32:56.017Z"
   },
   {
    "duration": 1664,
    "start_time": "2022-06-23T13:33:15.441Z"
   },
   {
    "duration": 534,
    "start_time": "2022-06-23T13:33:17.107Z"
   },
   {
    "duration": 32,
    "start_time": "2022-06-23T13:33:17.643Z"
   },
   {
    "duration": 189,
    "start_time": "2022-06-23T13:33:17.677Z"
   },
   {
    "duration": 184,
    "start_time": "2022-06-23T13:33:17.867Z"
   },
   {
    "duration": 136,
    "start_time": "2022-06-23T13:33:18.053Z"
   },
   {
    "duration": 87,
    "start_time": "2022-06-23T13:33:18.191Z"
   },
   {
    "duration": 76,
    "start_time": "2022-06-23T13:33:18.280Z"
   },
   {
    "duration": 988,
    "start_time": "2022-06-23T13:33:18.358Z"
   },
   {
    "duration": 10,
    "start_time": "2022-06-23T13:33:19.348Z"
   },
   {
    "duration": 39,
    "start_time": "2022-06-23T13:33:19.360Z"
   },
   {
    "duration": 4,
    "start_time": "2022-06-23T13:37:00.695Z"
   },
   {
    "duration": 4,
    "start_time": "2022-06-23T13:37:20.406Z"
   },
   {
    "duration": 125,
    "start_time": "2022-06-23T13:37:58.398Z"
   },
   {
    "duration": 3,
    "start_time": "2022-06-23T13:38:29.579Z"
   },
   {
    "duration": 15,
    "start_time": "2022-06-23T13:38:29.751Z"
   },
   {
    "duration": 1541,
    "start_time": "2022-06-23T13:39:02.378Z"
   },
   {
    "duration": 428,
    "start_time": "2022-06-23T13:39:03.922Z"
   },
   {
    "duration": 34,
    "start_time": "2022-06-23T13:39:04.352Z"
   },
   {
    "duration": 182,
    "start_time": "2022-06-23T13:39:04.388Z"
   },
   {
    "duration": 171,
    "start_time": "2022-06-23T13:39:04.572Z"
   },
   {
    "duration": 105,
    "start_time": "2022-06-23T13:39:04.745Z"
   },
   {
    "duration": 91,
    "start_time": "2022-06-23T13:39:04.852Z"
   },
   {
    "duration": 44,
    "start_time": "2022-06-23T13:39:04.944Z"
   },
   {
    "duration": 1024,
    "start_time": "2022-06-23T13:39:04.990Z"
   },
   {
    "duration": 9,
    "start_time": "2022-06-23T13:39:06.017Z"
   },
   {
    "duration": 48,
    "start_time": "2022-06-23T13:39:06.028Z"
   },
   {
    "duration": 3,
    "start_time": "2022-06-23T13:39:06.078Z"
   },
   {
    "duration": 126,
    "start_time": "2022-06-23T13:39:06.083Z"
   },
   {
    "duration": 15,
    "start_time": "2022-06-23T13:39:35.510Z"
   },
   {
    "duration": 4,
    "start_time": "2022-06-23T13:40:08.124Z"
   },
   {
    "duration": 12,
    "start_time": "2022-06-23T13:40:08.283Z"
   },
   {
    "duration": 9,
    "start_time": "2022-06-23T13:40:38.575Z"
   },
   {
    "duration": 5,
    "start_time": "2022-06-23T13:40:50.329Z"
   },
   {
    "duration": 4,
    "start_time": "2022-06-23T13:41:06.661Z"
   },
   {
    "duration": 7,
    "start_time": "2022-06-23T13:41:33.802Z"
   },
   {
    "duration": 20,
    "start_time": "2022-06-23T13:42:09.986Z"
   },
   {
    "duration": 58,
    "start_time": "2022-06-23T13:47:49.119Z"
   },
   {
    "duration": 83,
    "start_time": "2022-06-23T13:47:55.742Z"
   },
   {
    "duration": 130,
    "start_time": "2022-06-23T13:49:13.339Z"
   },
   {
    "duration": 1561,
    "start_time": "2022-06-23T13:49:48.840Z"
   },
   {
    "duration": 411,
    "start_time": "2022-06-23T13:49:50.403Z"
   },
   {
    "duration": 40,
    "start_time": "2022-06-23T13:49:50.816Z"
   },
   {
    "duration": 166,
    "start_time": "2022-06-23T13:49:50.859Z"
   },
   {
    "duration": 163,
    "start_time": "2022-06-23T13:49:51.041Z"
   },
   {
    "duration": 99,
    "start_time": "2022-06-23T13:49:51.206Z"
   },
   {
    "duration": 80,
    "start_time": "2022-06-23T13:49:51.307Z"
   },
   {
    "duration": 74,
    "start_time": "2022-06-23T13:49:51.389Z"
   },
   {
    "duration": 1018,
    "start_time": "2022-06-23T13:49:51.466Z"
   },
   {
    "duration": 13,
    "start_time": "2022-06-23T13:49:52.487Z"
   },
   {
    "duration": 57,
    "start_time": "2022-06-23T13:49:52.503Z"
   },
   {
    "duration": 6,
    "start_time": "2022-06-23T13:49:52.563Z"
   },
   {
    "duration": 9,
    "start_time": "2022-06-23T13:49:52.571Z"
   },
   {
    "duration": 26,
    "start_time": "2022-06-23T13:49:52.582Z"
   },
   {
    "duration": 110,
    "start_time": "2022-06-23T13:49:52.610Z"
   },
   {
    "duration": 99,
    "start_time": "2022-06-23T13:50:06.892Z"
   },
   {
    "duration": 129,
    "start_time": "2022-06-23T13:50:35.477Z"
   },
   {
    "duration": 142,
    "start_time": "2022-06-23T13:50:47.360Z"
   },
   {
    "duration": 1537,
    "start_time": "2022-06-23T13:51:18.676Z"
   },
   {
    "duration": 404,
    "start_time": "2022-06-23T13:51:20.216Z"
   },
   {
    "duration": 41,
    "start_time": "2022-06-23T13:51:20.622Z"
   },
   {
    "duration": 193,
    "start_time": "2022-06-23T13:51:20.665Z"
   },
   {
    "duration": 166,
    "start_time": "2022-06-23T13:51:20.861Z"
   },
   {
    "duration": 96,
    "start_time": "2022-06-23T13:51:21.029Z"
   },
   {
    "duration": 59,
    "start_time": "2022-06-23T13:51:21.142Z"
   },
   {
    "duration": 80,
    "start_time": "2022-06-23T13:51:21.204Z"
   },
   {
    "duration": 1021,
    "start_time": "2022-06-23T13:51:21.286Z"
   },
   {
    "duration": 11,
    "start_time": "2022-06-23T13:51:22.309Z"
   },
   {
    "duration": 57,
    "start_time": "2022-06-23T13:51:22.323Z"
   },
   {
    "duration": 4,
    "start_time": "2022-06-23T13:51:22.382Z"
   },
   {
    "duration": 170,
    "start_time": "2022-06-23T13:51:22.388Z"
   },
   {
    "duration": 4,
    "start_time": "2022-06-23T13:51:22.561Z"
   },
   {
    "duration": 44,
    "start_time": "2022-06-23T13:51:22.567Z"
   },
   {
    "duration": 166,
    "start_time": "2022-06-23T13:51:22.613Z"
   },
   {
    "duration": 167,
    "start_time": "2022-06-23T13:54:31.123Z"
   },
   {
    "duration": 163,
    "start_time": "2022-06-23T13:55:11.436Z"
   },
   {
    "duration": 150,
    "start_time": "2022-06-23T13:55:25.522Z"
   },
   {
    "duration": 1689,
    "start_time": "2022-06-23T13:55:52.362Z"
   },
   {
    "duration": 419,
    "start_time": "2022-06-23T13:55:54.054Z"
   },
   {
    "duration": 31,
    "start_time": "2022-06-23T13:55:54.475Z"
   },
   {
    "duration": 178,
    "start_time": "2022-06-23T13:55:54.508Z"
   },
   {
    "duration": 175,
    "start_time": "2022-06-23T13:55:54.688Z"
   },
   {
    "duration": 113,
    "start_time": "2022-06-23T13:55:54.865Z"
   },
   {
    "duration": 79,
    "start_time": "2022-06-23T13:55:54.981Z"
   },
   {
    "duration": 51,
    "start_time": "2022-06-23T13:55:55.062Z"
   },
   {
    "duration": 1033,
    "start_time": "2022-06-23T13:55:55.115Z"
   },
   {
    "duration": 12,
    "start_time": "2022-06-23T13:55:56.150Z"
   },
   {
    "duration": 38,
    "start_time": "2022-06-23T13:55:56.164Z"
   },
   {
    "duration": 5,
    "start_time": "2022-06-23T13:55:56.204Z"
   },
   {
    "duration": 182,
    "start_time": "2022-06-23T13:55:56.211Z"
   },
   {
    "duration": 3,
    "start_time": "2022-06-23T13:55:56.395Z"
   },
   {
    "duration": 46,
    "start_time": "2022-06-23T13:55:56.400Z"
   },
   {
    "duration": 174,
    "start_time": "2022-06-23T13:55:56.448Z"
   },
   {
    "duration": 4,
    "start_time": "2022-06-23T13:56:49.927Z"
   },
   {
    "duration": 14,
    "start_time": "2022-06-23T13:57:26.302Z"
   },
   {
    "duration": 18,
    "start_time": "2022-06-23T13:57:51.941Z"
   },
   {
    "duration": 14,
    "start_time": "2022-06-23T13:59:08.347Z"
   },
   {
    "duration": 13,
    "start_time": "2022-06-23T13:59:17.930Z"
   },
   {
    "duration": 13,
    "start_time": "2022-06-23T13:59:44.088Z"
   },
   {
    "duration": 20,
    "start_time": "2022-06-23T14:00:17.307Z"
   },
   {
    "duration": 1531,
    "start_time": "2022-06-23T14:00:38.363Z"
   },
   {
    "duration": 407,
    "start_time": "2022-06-23T14:00:39.895Z"
   },
   {
    "duration": 42,
    "start_time": "2022-06-23T14:00:40.304Z"
   },
   {
    "duration": 174,
    "start_time": "2022-06-23T14:00:40.347Z"
   },
   {
    "duration": 182,
    "start_time": "2022-06-23T14:00:40.523Z"
   },
   {
    "duration": 111,
    "start_time": "2022-06-23T14:00:40.707Z"
   },
   {
    "duration": 81,
    "start_time": "2022-06-23T14:00:40.820Z"
   },
   {
    "duration": 90,
    "start_time": "2022-06-23T14:00:40.903Z"
   },
   {
    "duration": 1013,
    "start_time": "2022-06-23T14:00:40.995Z"
   },
   {
    "duration": 9,
    "start_time": "2022-06-23T14:00:42.010Z"
   },
   {
    "duration": 50,
    "start_time": "2022-06-23T14:00:42.021Z"
   },
   {
    "duration": 4,
    "start_time": "2022-06-23T14:00:42.074Z"
   },
   {
    "duration": 175,
    "start_time": "2022-06-23T14:00:42.080Z"
   },
   {
    "duration": 3,
    "start_time": "2022-06-23T14:00:42.258Z"
   },
   {
    "duration": 27,
    "start_time": "2022-06-23T14:00:42.263Z"
   },
   {
    "duration": 201,
    "start_time": "2022-06-23T14:00:42.291Z"
   },
   {
    "duration": 5,
    "start_time": "2022-06-23T14:00:42.494Z"
   },
   {
    "duration": 141,
    "start_time": "2022-06-23T14:00:42.501Z"
   },
   {
    "duration": 14,
    "start_time": "2022-06-23T14:00:42.644Z"
   },
   {
    "duration": 102,
    "start_time": "2022-06-23T14:00:42.743Z"
   },
   {
    "duration": 135,
    "start_time": "2022-06-23T14:11:49.444Z"
   },
   {
    "duration": 22,
    "start_time": "2022-06-23T14:12:43.509Z"
   },
   {
    "duration": 7,
    "start_time": "2022-06-23T14:12:53.986Z"
   },
   {
    "duration": 6,
    "start_time": "2022-06-23T14:16:06.382Z"
   },
   {
    "duration": 8,
    "start_time": "2022-06-23T14:17:57.388Z"
   },
   {
    "duration": 8,
    "start_time": "2022-06-23T14:18:17.396Z"
   },
   {
    "duration": 104,
    "start_time": "2022-06-23T14:18:58.609Z"
   },
   {
    "duration": 7,
    "start_time": "2022-06-23T14:19:04.922Z"
   },
   {
    "duration": 9,
    "start_time": "2022-06-23T14:21:05.282Z"
   },
   {
    "duration": 6,
    "start_time": "2022-06-23T14:21:42.202Z"
   },
   {
    "duration": 119,
    "start_time": "2022-06-23T14:21:48.079Z"
   },
   {
    "duration": 5,
    "start_time": "2022-06-23T14:21:51.265Z"
   },
   {
    "duration": 6,
    "start_time": "2022-06-23T14:22:02.348Z"
   },
   {
    "duration": 101,
    "start_time": "2022-06-23T14:22:18.628Z"
   },
   {
    "duration": 6,
    "start_time": "2022-06-23T14:22:25.298Z"
   },
   {
    "duration": 5,
    "start_time": "2022-06-23T14:22:53.242Z"
   },
   {
    "duration": 7,
    "start_time": "2022-06-23T14:23:05.979Z"
   },
   {
    "duration": 16,
    "start_time": "2022-06-23T14:23:14.435Z"
   },
   {
    "duration": 6,
    "start_time": "2022-06-23T14:23:19.014Z"
   },
   {
    "duration": 4,
    "start_time": "2022-06-23T14:25:58.746Z"
   },
   {
    "duration": 5,
    "start_time": "2022-06-23T14:26:08.795Z"
   },
   {
    "duration": 23,
    "start_time": "2022-06-23T14:34:15.250Z"
   },
   {
    "duration": 2142,
    "start_time": "2022-06-23T14:34:42.760Z"
   },
   {
    "duration": 1819,
    "start_time": "2022-06-23T14:34:44.904Z"
   },
   {
    "duration": 44,
    "start_time": "2022-06-23T14:34:46.726Z"
   },
   {
    "duration": 246,
    "start_time": "2022-06-23T14:34:46.775Z"
   },
   {
    "duration": 191,
    "start_time": "2022-06-23T14:34:47.023Z"
   },
   {
    "duration": 107,
    "start_time": "2022-06-23T14:34:47.216Z"
   },
   {
    "duration": 84,
    "start_time": "2022-06-23T14:34:47.342Z"
   },
   {
    "duration": 70,
    "start_time": "2022-06-23T14:34:47.443Z"
   },
   {
    "duration": 1040,
    "start_time": "2022-06-23T14:34:47.543Z"
   },
   {
    "duration": 10,
    "start_time": "2022-06-23T14:34:48.585Z"
   },
   {
    "duration": 49,
    "start_time": "2022-06-23T14:34:48.598Z"
   },
   {
    "duration": 14,
    "start_time": "2022-06-23T14:34:48.649Z"
   },
   {
    "duration": 180,
    "start_time": "2022-06-23T14:34:48.665Z"
   },
   {
    "duration": 8,
    "start_time": "2022-06-23T14:34:48.851Z"
   },
   {
    "duration": 31,
    "start_time": "2022-06-23T14:34:48.862Z"
   },
   {
    "duration": 187,
    "start_time": "2022-06-23T14:34:48.895Z"
   },
   {
    "duration": 4,
    "start_time": "2022-06-23T14:34:49.083Z"
   },
   {
    "duration": 59,
    "start_time": "2022-06-23T14:34:49.089Z"
   },
   {
    "duration": 107,
    "start_time": "2022-06-23T14:34:49.241Z"
   },
   {
    "duration": 97,
    "start_time": "2022-06-23T14:34:49.356Z"
   },
   {
    "duration": 291,
    "start_time": "2022-06-23T14:34:49.461Z"
   },
   {
    "duration": 0,
    "start_time": "2022-06-23T14:34:49.755Z"
   },
   {
    "duration": 0,
    "start_time": "2022-06-23T14:34:49.757Z"
   },
   {
    "duration": 0,
    "start_time": "2022-06-23T14:34:49.759Z"
   },
   {
    "duration": 11,
    "start_time": "2022-06-23T14:39:45.463Z"
   },
   {
    "duration": 10,
    "start_time": "2022-06-23T14:40:14.574Z"
   },
   {
    "duration": 6,
    "start_time": "2022-06-23T14:40:15.213Z"
   },
   {
    "duration": 5543,
    "start_time": "2022-06-23T14:40:16.011Z"
   },
   {
    "duration": 4,
    "start_time": "2022-06-23T14:41:04.393Z"
   },
   {
    "duration": 4,
    "start_time": "2022-06-23T14:45:59.423Z"
   },
   {
    "duration": 5,
    "start_time": "2022-06-23T14:46:13.782Z"
   },
   {
    "duration": 8,
    "start_time": "2022-06-23T14:46:29.169Z"
   },
   {
    "duration": 8,
    "start_time": "2022-06-23T14:46:40.576Z"
   },
   {
    "duration": 4,
    "start_time": "2022-06-23T15:38:15.142Z"
   },
   {
    "duration": 4,
    "start_time": "2022-06-23T15:42:12.575Z"
   },
   {
    "duration": 14,
    "start_time": "2022-06-23T15:42:41.544Z"
   },
   {
    "duration": 21,
    "start_time": "2022-06-23T15:42:49.135Z"
   },
   {
    "duration": 7,
    "start_time": "2022-06-23T15:43:03.262Z"
   },
   {
    "duration": 32,
    "start_time": "2022-06-23T15:43:05.100Z"
   },
   {
    "duration": 14,
    "start_time": "2022-06-23T15:45:31.324Z"
   },
   {
    "duration": 134,
    "start_time": "2022-06-23T15:48:21.233Z"
   },
   {
    "duration": 97,
    "start_time": "2022-06-23T15:48:32.757Z"
   },
   {
    "duration": 16,
    "start_time": "2022-06-23T15:48:43.619Z"
   },
   {
    "duration": 5,
    "start_time": "2022-06-23T15:49:15.035Z"
   },
   {
    "duration": 18,
    "start_time": "2022-06-23T15:49:21.645Z"
   },
   {
    "duration": 118,
    "start_time": "2022-06-23T15:50:14.881Z"
   },
   {
    "duration": 6,
    "start_time": "2022-06-23T15:50:35.516Z"
   },
   {
    "duration": 13,
    "start_time": "2022-06-23T15:50:44.179Z"
   },
   {
    "duration": 19,
    "start_time": "2022-06-23T15:50:59.275Z"
   },
   {
    "duration": 15,
    "start_time": "2022-06-23T15:51:10.136Z"
   },
   {
    "duration": 15,
    "start_time": "2022-06-23T15:51:38.007Z"
   },
   {
    "duration": 18,
    "start_time": "2022-06-23T15:51:41.278Z"
   },
   {
    "duration": 15,
    "start_time": "2022-06-23T15:51:55.279Z"
   },
   {
    "duration": 11,
    "start_time": "2022-06-23T15:51:55.704Z"
   },
   {
    "duration": 11,
    "start_time": "2022-06-23T15:51:59.795Z"
   },
   {
    "duration": 11,
    "start_time": "2022-06-23T15:53:01.998Z"
   },
   {
    "duration": 18,
    "start_time": "2022-06-23T15:53:19.736Z"
   },
   {
    "duration": 9,
    "start_time": "2022-06-23T15:53:57.570Z"
   },
   {
    "duration": 13,
    "start_time": "2022-06-23T15:54:01.336Z"
   },
   {
    "duration": 16,
    "start_time": "2022-06-23T15:54:03.869Z"
   },
   {
    "duration": 1684,
    "start_time": "2022-06-23T15:54:16.319Z"
   },
   {
    "duration": 494,
    "start_time": "2022-06-23T15:54:18.005Z"
   },
   {
    "duration": 53,
    "start_time": "2022-06-23T15:54:18.501Z"
   },
   {
    "duration": 166,
    "start_time": "2022-06-23T15:54:18.556Z"
   },
   {
    "duration": 185,
    "start_time": "2022-06-23T15:54:18.724Z"
   },
   {
    "duration": 114,
    "start_time": "2022-06-23T15:54:18.911Z"
   },
   {
    "duration": 85,
    "start_time": "2022-06-23T15:54:19.027Z"
   },
   {
    "duration": 75,
    "start_time": "2022-06-23T15:54:19.114Z"
   },
   {
    "duration": 1119,
    "start_time": "2022-06-23T15:54:19.191Z"
   },
   {
    "duration": 11,
    "start_time": "2022-06-23T15:54:20.313Z"
   },
   {
    "duration": 55,
    "start_time": "2022-06-23T15:54:20.325Z"
   },
   {
    "duration": 10,
    "start_time": "2022-06-23T15:54:20.382Z"
   },
   {
    "duration": 184,
    "start_time": "2022-06-23T15:54:20.394Z"
   },
   {
    "duration": 4,
    "start_time": "2022-06-23T15:54:20.581Z"
   },
   {
    "duration": 29,
    "start_time": "2022-06-23T15:54:20.586Z"
   },
   {
    "duration": 178,
    "start_time": "2022-06-23T15:54:20.617Z"
   },
   {
    "duration": 3,
    "start_time": "2022-06-23T15:54:20.797Z"
   },
   {
    "duration": 166,
    "start_time": "2022-06-23T15:54:20.802Z"
   },
   {
    "duration": 26,
    "start_time": "2022-06-23T15:54:20.969Z"
   },
   {
    "duration": 123,
    "start_time": "2022-06-23T15:54:21.051Z"
   },
   {
    "duration": 213,
    "start_time": "2022-06-23T15:54:21.179Z"
   },
   {
    "duration": 6,
    "start_time": "2022-06-23T15:54:21.394Z"
   },
   {
    "duration": 7,
    "start_time": "2022-06-23T15:54:21.402Z"
   },
   {
    "duration": 6,
    "start_time": "2022-06-23T15:54:21.411Z"
   },
   {
    "duration": 5,
    "start_time": "2022-06-23T15:54:21.418Z"
   },
   {
    "duration": 6,
    "start_time": "2022-06-23T15:54:21.425Z"
   },
   {
    "duration": 5295,
    "start_time": "2022-06-23T15:54:21.433Z"
   },
   {
    "duration": 4,
    "start_time": "2022-06-23T15:54:26.732Z"
   },
   {
    "duration": 49,
    "start_time": "2022-06-23T15:54:26.746Z"
   },
   {
    "duration": 15,
    "start_time": "2022-06-23T15:54:26.797Z"
   },
   {
    "duration": 130,
    "start_time": "2022-06-23T15:54:55.086Z"
   },
   {
    "duration": 11,
    "start_time": "2022-06-23T15:54:59.204Z"
   },
   {
    "duration": 11,
    "start_time": "2022-06-23T15:55:37.741Z"
   },
   {
    "duration": 12,
    "start_time": "2022-06-23T15:55:58.902Z"
   },
   {
    "duration": 13,
    "start_time": "2022-06-23T15:56:54.210Z"
   },
   {
    "duration": 10,
    "start_time": "2022-06-23T15:57:17.225Z"
   },
   {
    "duration": 9,
    "start_time": "2022-06-23T15:57:31.625Z"
   },
   {
    "duration": 11,
    "start_time": "2022-06-23T15:57:55.340Z"
   },
   {
    "duration": 5,
    "start_time": "2022-06-23T15:58:35.442Z"
   },
   {
    "duration": 3,
    "start_time": "2022-06-23T15:58:36.121Z"
   },
   {
    "duration": 921,
    "start_time": "2022-06-23T15:58:36.533Z"
   },
   {
    "duration": 10,
    "start_time": "2022-06-23T15:58:51.485Z"
   },
   {
    "duration": 5,
    "start_time": "2022-06-23T15:58:56.376Z"
   },
   {
    "duration": 2436,
    "start_time": "2022-06-23T15:59:29.615Z"
   },
   {
    "duration": 14,
    "start_time": "2022-06-23T15:59:53.616Z"
   },
   {
    "duration": 10,
    "start_time": "2022-06-23T15:59:58.907Z"
   },
   {
    "duration": 17,
    "start_time": "2022-06-23T16:00:08.639Z"
   },
   {
    "duration": 6,
    "start_time": "2022-06-23T16:00:15.628Z"
   },
   {
    "duration": 8,
    "start_time": "2022-06-23T16:00:50.587Z"
   },
   {
    "duration": 12,
    "start_time": "2022-06-23T16:11:59.292Z"
   },
   {
    "duration": 12,
    "start_time": "2022-06-23T16:12:04.884Z"
   },
   {
    "duration": 12,
    "start_time": "2022-06-23T16:12:25.195Z"
   },
   {
    "duration": 13,
    "start_time": "2022-06-23T16:12:50.783Z"
   },
   {
    "duration": 12,
    "start_time": "2022-06-23T16:13:14.218Z"
   },
   {
    "duration": 122,
    "start_time": "2022-06-23T16:14:54.820Z"
   },
   {
    "duration": 101,
    "start_time": "2022-06-23T16:15:05.797Z"
   },
   {
    "duration": 6,
    "start_time": "2022-06-23T16:15:19.180Z"
   },
   {
    "duration": 4,
    "start_time": "2022-06-23T16:15:28.826Z"
   },
   {
    "duration": 12,
    "start_time": "2022-06-23T16:16:08.397Z"
   },
   {
    "duration": 5,
    "start_time": "2022-06-23T16:16:12.607Z"
   },
   {
    "duration": 11,
    "start_time": "2022-06-23T16:16:41.072Z"
   },
   {
    "duration": 4,
    "start_time": "2022-06-23T16:16:48.623Z"
   },
   {
    "duration": 12,
    "start_time": "2022-06-23T16:19:12.139Z"
   },
   {
    "duration": 4,
    "start_time": "2022-06-23T16:19:14.882Z"
   },
   {
    "duration": 9,
    "start_time": "2022-06-23T16:22:47.684Z"
   },
   {
    "duration": 9,
    "start_time": "2022-06-23T16:23:07.182Z"
   },
   {
    "duration": 8,
    "start_time": "2022-06-23T16:23:18.762Z"
   },
   {
    "duration": 11,
    "start_time": "2022-06-23T16:23:41.321Z"
   },
   {
    "duration": 1621,
    "start_time": "2022-06-23T16:23:46.720Z"
   },
   {
    "duration": 460,
    "start_time": "2022-06-23T16:23:48.351Z"
   },
   {
    "duration": 50,
    "start_time": "2022-06-23T16:23:48.813Z"
   },
   {
    "duration": 180,
    "start_time": "2022-06-23T16:23:48.865Z"
   },
   {
    "duration": 153,
    "start_time": "2022-06-23T16:23:49.054Z"
   },
   {
    "duration": 102,
    "start_time": "2022-06-23T16:23:49.209Z"
   },
   {
    "duration": 96,
    "start_time": "2022-06-23T16:23:49.313Z"
   },
   {
    "duration": 73,
    "start_time": "2022-06-23T16:23:49.411Z"
   },
   {
    "duration": 1089,
    "start_time": "2022-06-23T16:23:49.486Z"
   },
   {
    "duration": 10,
    "start_time": "2022-06-23T16:23:50.576Z"
   },
   {
    "duration": 40,
    "start_time": "2022-06-23T16:23:50.588Z"
   },
   {
    "duration": 21,
    "start_time": "2022-06-23T16:23:50.631Z"
   },
   {
    "duration": 160,
    "start_time": "2022-06-23T16:23:50.658Z"
   },
   {
    "duration": 29,
    "start_time": "2022-06-23T16:23:50.821Z"
   },
   {
    "duration": 43,
    "start_time": "2022-06-23T16:23:50.852Z"
   },
   {
    "duration": 162,
    "start_time": "2022-06-23T16:23:50.897Z"
   },
   {
    "duration": 4,
    "start_time": "2022-06-23T16:23:51.061Z"
   },
   {
    "duration": 14,
    "start_time": "2022-06-23T16:23:51.067Z"
   },
   {
    "duration": 83,
    "start_time": "2022-06-23T16:23:51.083Z"
   },
   {
    "duration": 203,
    "start_time": "2022-06-23T16:23:51.171Z"
   },
   {
    "duration": 80,
    "start_time": "2022-06-23T16:23:51.378Z"
   },
   {
    "duration": 111,
    "start_time": "2022-06-23T16:23:51.460Z"
   },
   {
    "duration": 6,
    "start_time": "2022-06-23T16:23:51.574Z"
   },
   {
    "duration": 12,
    "start_time": "2022-06-23T16:23:51.582Z"
   },
   {
    "duration": 2374,
    "start_time": "2022-06-23T16:23:51.596Z"
   },
   {
    "duration": 5,
    "start_time": "2022-06-23T16:23:53.972Z"
   },
   {
    "duration": 13,
    "start_time": "2022-06-23T16:23:53.979Z"
   },
   {
    "duration": 9,
    "start_time": "2022-06-23T16:23:53.994Z"
   },
   {
    "duration": 13,
    "start_time": "2022-06-23T16:23:54.004Z"
   },
   {
    "duration": 31,
    "start_time": "2022-06-23T16:23:54.019Z"
   },
   {
    "duration": 8,
    "start_time": "2022-06-23T16:27:41.663Z"
   },
   {
    "duration": 5,
    "start_time": "2022-06-23T16:33:23.118Z"
   },
   {
    "duration": 7,
    "start_time": "2022-06-23T16:33:40.862Z"
   },
   {
    "duration": 2040,
    "start_time": "2022-06-23T16:35:19.900Z"
   },
   {
    "duration": 456,
    "start_time": "2022-06-23T16:35:21.945Z"
   },
   {
    "duration": 57,
    "start_time": "2022-06-23T16:35:22.402Z"
   },
   {
    "duration": 175,
    "start_time": "2022-06-23T16:35:22.470Z"
   },
   {
    "duration": 153,
    "start_time": "2022-06-23T16:35:22.647Z"
   },
   {
    "duration": 105,
    "start_time": "2022-06-23T16:35:22.802Z"
   },
   {
    "duration": 79,
    "start_time": "2022-06-23T16:35:22.909Z"
   },
   {
    "duration": 75,
    "start_time": "2022-06-23T16:35:22.990Z"
   },
   {
    "duration": 1007,
    "start_time": "2022-06-23T16:35:23.067Z"
   },
   {
    "duration": 12,
    "start_time": "2022-06-23T16:35:24.076Z"
   },
   {
    "duration": 39,
    "start_time": "2022-06-23T16:35:24.090Z"
   },
   {
    "duration": 14,
    "start_time": "2022-06-23T16:35:24.145Z"
   },
   {
    "duration": 156,
    "start_time": "2022-06-23T16:35:24.164Z"
   },
   {
    "duration": 29,
    "start_time": "2022-06-23T16:35:24.323Z"
   },
   {
    "duration": 38,
    "start_time": "2022-06-23T16:35:24.360Z"
   },
   {
    "duration": 187,
    "start_time": "2022-06-23T16:35:24.399Z"
   },
   {
    "duration": 4,
    "start_time": "2022-06-23T16:35:24.588Z"
   },
   {
    "duration": 55,
    "start_time": "2022-06-23T16:35:24.594Z"
   },
   {
    "duration": 109,
    "start_time": "2022-06-23T16:35:24.653Z"
   },
   {
    "duration": 197,
    "start_time": "2022-06-23T16:35:24.764Z"
   },
   {
    "duration": 82,
    "start_time": "2022-06-23T16:35:24.969Z"
   },
   {
    "duration": 109,
    "start_time": "2022-06-23T16:35:25.057Z"
   },
   {
    "duration": 10,
    "start_time": "2022-06-23T16:35:25.168Z"
   },
   {
    "duration": 8,
    "start_time": "2022-06-23T16:35:25.180Z"
   },
   {
    "duration": 2575,
    "start_time": "2022-06-23T16:35:25.189Z"
   },
   {
    "duration": 4,
    "start_time": "2022-06-23T16:35:27.766Z"
   },
   {
    "duration": 7,
    "start_time": "2022-06-23T16:35:27.772Z"
   },
   {
    "duration": 10,
    "start_time": "2022-06-23T16:35:27.781Z"
   },
   {
    "duration": 111,
    "start_time": "2022-06-23T16:36:49.725Z"
   },
   {
    "duration": 10,
    "start_time": "2022-06-23T16:37:08.736Z"
   },
   {
    "duration": 9,
    "start_time": "2022-06-23T16:37:57.266Z"
   },
   {
    "duration": 123,
    "start_time": "2022-06-23T16:40:59.665Z"
   },
   {
    "duration": 157,
    "start_time": "2022-06-23T16:41:13.418Z"
   },
   {
    "duration": 21,
    "start_time": "2022-06-23T16:41:39.939Z"
   },
   {
    "duration": 99,
    "start_time": "2022-06-23T16:42:11.186Z"
   },
   {
    "duration": 100,
    "start_time": "2022-06-23T16:42:19.689Z"
   },
   {
    "duration": 15,
    "start_time": "2022-06-23T16:43:04.324Z"
   },
   {
    "duration": 6,
    "start_time": "2022-06-23T16:43:11.092Z"
   },
   {
    "duration": 85,
    "start_time": "2022-06-23T16:44:13.612Z"
   },
   {
    "duration": 11,
    "start_time": "2022-06-23T16:44:18.601Z"
   },
   {
    "duration": 17,
    "start_time": "2022-06-23T16:44:52.361Z"
   },
   {
    "duration": 23,
    "start_time": "2022-06-23T16:45:23.533Z"
   },
   {
    "duration": 17,
    "start_time": "2022-06-23T16:45:32.717Z"
   },
   {
    "duration": 14,
    "start_time": "2022-06-23T16:45:57.522Z"
   },
   {
    "duration": 16,
    "start_time": "2022-06-23T16:46:09.086Z"
   },
   {
    "duration": 13,
    "start_time": "2022-06-23T16:47:01.514Z"
   },
   {
    "duration": 4,
    "start_time": "2022-06-23T16:48:56.112Z"
   },
   {
    "duration": 1656,
    "start_time": "2022-06-23T16:49:00.410Z"
   },
   {
    "duration": 434,
    "start_time": "2022-06-23T16:49:02.072Z"
   },
   {
    "duration": 48,
    "start_time": "2022-06-23T16:49:02.508Z"
   },
   {
    "duration": 207,
    "start_time": "2022-06-23T16:49:02.558Z"
   },
   {
    "duration": 192,
    "start_time": "2022-06-23T16:49:02.768Z"
   },
   {
    "duration": 101,
    "start_time": "2022-06-23T16:49:02.962Z"
   },
   {
    "duration": 94,
    "start_time": "2022-06-23T16:49:03.066Z"
   },
   {
    "duration": 46,
    "start_time": "2022-06-23T16:49:03.165Z"
   },
   {
    "duration": 1134,
    "start_time": "2022-06-23T16:49:03.213Z"
   },
   {
    "duration": 16,
    "start_time": "2022-06-23T16:49:04.354Z"
   },
   {
    "duration": 41,
    "start_time": "2022-06-23T16:49:04.373Z"
   },
   {
    "duration": 4,
    "start_time": "2022-06-23T16:49:04.416Z"
   },
   {
    "duration": 191,
    "start_time": "2022-06-23T16:49:04.421Z"
   },
   {
    "duration": 3,
    "start_time": "2022-06-23T16:49:04.615Z"
   },
   {
    "duration": 51,
    "start_time": "2022-06-23T16:49:04.620Z"
   },
   {
    "duration": 186,
    "start_time": "2022-06-23T16:49:04.674Z"
   },
   {
    "duration": 5,
    "start_time": "2022-06-23T16:49:04.866Z"
   },
   {
    "duration": 84,
    "start_time": "2022-06-23T16:49:04.873Z"
   },
   {
    "duration": 117,
    "start_time": "2022-06-23T16:49:04.962Z"
   },
   {
    "duration": 78,
    "start_time": "2022-06-23T16:49:05.081Z"
   },
   {
    "duration": 214,
    "start_time": "2022-06-23T16:49:05.161Z"
   },
   {
    "duration": 7,
    "start_time": "2022-06-23T16:49:05.377Z"
   },
   {
    "duration": 11,
    "start_time": "2022-06-23T16:49:05.386Z"
   },
   {
    "duration": 6,
    "start_time": "2022-06-23T16:49:05.398Z"
   },
   {
    "duration": 2720,
    "start_time": "2022-06-23T16:49:05.405Z"
   },
   {
    "duration": 32,
    "start_time": "2022-06-23T16:49:08.127Z"
   },
   {
    "duration": 107,
    "start_time": "2022-06-23T16:50:40.349Z"
   },
   {
    "duration": 124,
    "start_time": "2022-06-23T16:51:00.099Z"
   },
   {
    "duration": 23,
    "start_time": "2022-06-23T16:51:13.237Z"
   },
   {
    "duration": 17,
    "start_time": "2022-06-23T16:52:07.166Z"
   },
   {
    "duration": 5,
    "start_time": "2022-06-23T17:54:46.306Z"
   },
   {
    "duration": 181,
    "start_time": "2022-06-23T18:21:10.394Z"
   },
   {
    "duration": 4,
    "start_time": "2022-06-23T18:23:56.996Z"
   },
   {
    "duration": 32,
    "start_time": "2022-06-23T18:24:31.768Z"
   },
   {
    "duration": 164,
    "start_time": "2022-06-23T18:25:33.402Z"
   },
   {
    "duration": 1662,
    "start_time": "2022-06-23T18:25:40.873Z"
   },
   {
    "duration": 475,
    "start_time": "2022-06-23T18:25:42.537Z"
   },
   {
    "duration": 42,
    "start_time": "2022-06-23T18:25:43.014Z"
   },
   {
    "duration": 224,
    "start_time": "2022-06-23T18:25:43.058Z"
   },
   {
    "duration": 177,
    "start_time": "2022-06-23T18:25:43.293Z"
   },
   {
    "duration": 127,
    "start_time": "2022-06-23T18:25:43.472Z"
   },
   {
    "duration": 73,
    "start_time": "2022-06-23T18:25:43.604Z"
   },
   {
    "duration": 78,
    "start_time": "2022-06-23T18:25:43.678Z"
   },
   {
    "duration": 1071,
    "start_time": "2022-06-23T18:25:43.758Z"
   },
   {
    "duration": 25,
    "start_time": "2022-06-23T18:25:44.831Z"
   },
   {
    "duration": 66,
    "start_time": "2022-06-23T18:25:44.860Z"
   },
   {
    "duration": 175,
    "start_time": "2022-06-23T18:25:44.927Z"
   },
   {
    "duration": 3,
    "start_time": "2022-06-23T18:25:45.104Z"
   },
   {
    "duration": 29,
    "start_time": "2022-06-23T18:25:45.110Z"
   },
   {
    "duration": 187,
    "start_time": "2022-06-23T18:25:45.141Z"
   },
   {
    "duration": 4,
    "start_time": "2022-06-23T18:25:45.330Z"
   },
   {
    "duration": 62,
    "start_time": "2022-06-23T18:25:45.336Z"
   },
   {
    "duration": 97,
    "start_time": "2022-06-23T18:25:45.399Z"
   },
   {
    "duration": 115,
    "start_time": "2022-06-23T18:25:45.542Z"
   },
   {
    "duration": 119,
    "start_time": "2022-06-23T18:25:45.669Z"
   },
   {
    "duration": 12,
    "start_time": "2022-06-23T18:25:45.791Z"
   },
   {
    "duration": 8,
    "start_time": "2022-06-23T18:25:45.805Z"
   },
   {
    "duration": 5,
    "start_time": "2022-06-23T18:25:45.815Z"
   },
   {
    "duration": 2647,
    "start_time": "2022-06-23T18:25:45.822Z"
   },
   {
    "duration": 16,
    "start_time": "2022-06-23T18:25:48.471Z"
   },
   {
    "duration": 34,
    "start_time": "2022-06-23T18:29:01.065Z"
   },
   {
    "duration": 1912,
    "start_time": "2022-06-23T18:47:40.209Z"
   },
   {
    "duration": 558,
    "start_time": "2022-06-23T18:47:42.125Z"
   },
   {
    "duration": 52,
    "start_time": "2022-06-23T18:47:42.692Z"
   },
   {
    "duration": 225,
    "start_time": "2022-06-23T18:47:42.758Z"
   },
   {
    "duration": 188,
    "start_time": "2022-06-23T18:47:42.992Z"
   },
   {
    "duration": 119,
    "start_time": "2022-06-23T18:47:43.194Z"
   },
   {
    "duration": 94,
    "start_time": "2022-06-23T18:47:43.315Z"
   },
   {
    "duration": 61,
    "start_time": "2022-06-23T18:47:43.414Z"
   },
   {
    "duration": 1226,
    "start_time": "2022-06-23T18:47:43.476Z"
   },
   {
    "duration": 16,
    "start_time": "2022-06-23T18:47:44.704Z"
   },
   {
    "duration": 54,
    "start_time": "2022-06-23T18:47:44.721Z"
   },
   {
    "duration": 204,
    "start_time": "2022-06-23T18:47:44.777Z"
   },
   {
    "duration": 10,
    "start_time": "2022-06-23T18:47:44.987Z"
   },
   {
    "duration": 60,
    "start_time": "2022-06-23T18:47:45.003Z"
   },
   {
    "duration": 211,
    "start_time": "2022-06-23T18:47:45.068Z"
   },
   {
    "duration": 23,
    "start_time": "2022-06-23T18:47:45.281Z"
   },
   {
    "duration": 43,
    "start_time": "2022-06-23T18:47:45.310Z"
   },
   {
    "duration": 145,
    "start_time": "2022-06-23T18:47:45.356Z"
   },
   {
    "duration": 80,
    "start_time": "2022-06-23T18:47:45.545Z"
   },
   {
    "duration": 150,
    "start_time": "2022-06-23T18:47:45.642Z"
   },
   {
    "duration": 23,
    "start_time": "2022-06-23T18:47:45.797Z"
   },
   {
    "duration": 8,
    "start_time": "2022-06-23T18:47:45.821Z"
   },
   {
    "duration": 11,
    "start_time": "2022-06-23T18:47:45.831Z"
   },
   {
    "duration": 2975,
    "start_time": "2022-06-23T18:47:45.846Z"
   },
   {
    "duration": 25,
    "start_time": "2022-06-23T18:47:48.823Z"
   },
   {
    "duration": 1998,
    "start_time": "2022-06-23T18:48:07.865Z"
   },
   {
    "duration": 572,
    "start_time": "2022-06-23T18:48:09.866Z"
   },
   {
    "duration": 65,
    "start_time": "2022-06-23T18:48:10.441Z"
   },
   {
    "duration": 224,
    "start_time": "2022-06-23T18:48:10.511Z"
   },
   {
    "duration": 187,
    "start_time": "2022-06-23T18:48:10.744Z"
   },
   {
    "duration": 119,
    "start_time": "2022-06-23T18:48:10.934Z"
   },
   {
    "duration": 65,
    "start_time": "2022-06-23T18:48:11.055Z"
   },
   {
    "duration": 84,
    "start_time": "2022-06-23T18:48:11.124Z"
   },
   {
    "duration": 1155,
    "start_time": "2022-06-23T18:48:11.210Z"
   },
   {
    "duration": 15,
    "start_time": "2022-06-23T18:48:12.368Z"
   },
   {
    "duration": 74,
    "start_time": "2022-06-23T18:48:12.385Z"
   },
   {
    "duration": 221,
    "start_time": "2022-06-23T18:48:12.461Z"
   },
   {
    "duration": 15,
    "start_time": "2022-06-23T18:48:12.693Z"
   },
   {
    "duration": 91,
    "start_time": "2022-06-23T18:48:12.717Z"
   },
   {
    "duration": 234,
    "start_time": "2022-06-23T18:48:12.811Z"
   },
   {
    "duration": 5,
    "start_time": "2022-06-23T18:48:13.048Z"
   },
   {
    "duration": 58,
    "start_time": "2022-06-23T18:48:13.055Z"
   },
   {
    "duration": 155,
    "start_time": "2022-06-23T18:48:13.116Z"
   },
   {
    "duration": 146,
    "start_time": "2022-06-23T18:48:13.278Z"
   },
   {
    "duration": 167,
    "start_time": "2022-06-23T18:48:13.443Z"
   },
   {
    "duration": 13,
    "start_time": "2022-06-23T18:48:13.612Z"
   },
   {
    "duration": 17,
    "start_time": "2022-06-23T18:48:13.627Z"
   },
   {
    "duration": 77,
    "start_time": "2022-06-23T18:48:13.646Z"
   },
   {
    "duration": 3131,
    "start_time": "2022-06-23T18:48:13.726Z"
   },
   {
    "duration": 65,
    "start_time": "2022-06-23T18:48:16.862Z"
   },
   {
    "duration": 205,
    "start_time": "2022-06-23T18:50:31.209Z"
   },
   {
    "duration": 178,
    "start_time": "2022-06-23T18:50:42.406Z"
   },
   {
    "duration": 1780,
    "start_time": "2022-06-23T18:53:18.977Z"
   },
   {
    "duration": 571,
    "start_time": "2022-06-23T18:53:20.759Z"
   },
   {
    "duration": 72,
    "start_time": "2022-06-23T18:53:21.332Z"
   },
   {
    "duration": 224,
    "start_time": "2022-06-23T18:53:21.413Z"
   },
   {
    "duration": 215,
    "start_time": "2022-06-23T18:53:21.641Z"
   },
   {
    "duration": 118,
    "start_time": "2022-06-23T18:53:21.860Z"
   },
   {
    "duration": 102,
    "start_time": "2022-06-23T18:53:21.980Z"
   },
   {
    "duration": 73,
    "start_time": "2022-06-23T18:53:22.084Z"
   },
   {
    "duration": 1166,
    "start_time": "2022-06-23T18:53:22.162Z"
   },
   {
    "duration": 10,
    "start_time": "2022-06-23T18:53:23.329Z"
   },
   {
    "duration": 122,
    "start_time": "2022-06-23T18:53:23.341Z"
   },
   {
    "duration": 168,
    "start_time": "2022-06-23T18:53:23.465Z"
   },
   {
    "duration": 17,
    "start_time": "2022-06-23T18:53:23.635Z"
   },
   {
    "duration": 65,
    "start_time": "2022-06-23T18:53:23.669Z"
   },
   {
    "duration": 185,
    "start_time": "2022-06-23T18:53:23.736Z"
   },
   {
    "duration": 3,
    "start_time": "2022-06-23T18:53:23.923Z"
   },
   {
    "duration": 120,
    "start_time": "2022-06-23T18:53:23.928Z"
   },
   {
    "duration": 146,
    "start_time": "2022-06-23T18:53:24.050Z"
   },
   {
    "duration": 143,
    "start_time": "2022-06-23T18:53:24.199Z"
   },
   {
    "duration": 20,
    "start_time": "2022-06-23T18:53:24.349Z"
   },
   {
    "duration": 44,
    "start_time": "2022-06-23T18:53:24.389Z"
   },
   {
    "duration": 75,
    "start_time": "2022-06-23T18:53:24.435Z"
   },
   {
    "duration": 9,
    "start_time": "2022-06-23T18:53:24.512Z"
   },
   {
    "duration": 2728,
    "start_time": "2022-06-23T18:53:24.523Z"
   },
   {
    "duration": 27,
    "start_time": "2022-06-23T18:53:27.253Z"
   },
   {
    "duration": 2003,
    "start_time": "2022-06-24T13:09:30.597Z"
   },
   {
    "duration": 751,
    "start_time": "2022-06-24T13:09:32.602Z"
   },
   {
    "duration": 25,
    "start_time": "2022-06-24T13:09:33.355Z"
   },
   {
    "duration": 162,
    "start_time": "2022-06-24T13:09:33.381Z"
   },
   {
    "duration": 140,
    "start_time": "2022-06-24T13:09:33.545Z"
   },
   {
    "duration": 89,
    "start_time": "2022-06-24T13:09:33.687Z"
   },
   {
    "duration": 71,
    "start_time": "2022-06-24T13:09:33.777Z"
   },
   {
    "duration": 37,
    "start_time": "2022-06-24T13:09:33.849Z"
   },
   {
    "duration": 966,
    "start_time": "2022-06-24T13:09:33.888Z"
   },
   {
    "duration": 9,
    "start_time": "2022-06-24T13:09:34.855Z"
   },
   {
    "duration": 48,
    "start_time": "2022-06-24T13:09:34.866Z"
   },
   {
    "duration": 146,
    "start_time": "2022-06-24T13:09:34.916Z"
   },
   {
    "duration": 3,
    "start_time": "2022-06-24T13:09:35.064Z"
   },
   {
    "duration": 36,
    "start_time": "2022-06-24T13:09:35.070Z"
   },
   {
    "duration": 166,
    "start_time": "2022-06-24T13:09:35.107Z"
   },
   {
    "duration": 3,
    "start_time": "2022-06-24T13:09:35.275Z"
   },
   {
    "duration": 149,
    "start_time": "2022-06-24T13:09:35.281Z"
   },
   {
    "duration": 16,
    "start_time": "2022-06-24T13:09:35.433Z"
   },
   {
    "duration": 110,
    "start_time": "2022-06-24T13:09:35.529Z"
   },
   {
    "duration": 183,
    "start_time": "2022-06-24T13:09:35.644Z"
   },
   {
    "duration": 5,
    "start_time": "2022-06-24T13:09:35.829Z"
   },
   {
    "duration": 11,
    "start_time": "2022-06-24T13:09:35.836Z"
   },
   {
    "duration": 6,
    "start_time": "2022-06-24T13:09:35.849Z"
   },
   {
    "duration": 2126,
    "start_time": "2022-06-24T13:09:35.857Z"
   },
   {
    "duration": 12,
    "start_time": "2022-06-24T13:09:37.986Z"
   },
   {
    "duration": 111,
    "start_time": "2022-06-24T13:09:50.706Z"
   },
   {
    "duration": 2057,
    "start_time": "2022-06-24T13:09:58.397Z"
   },
   {
    "duration": 9,
    "start_time": "2022-06-24T13:10:00.456Z"
   },
   {
    "duration": 16,
    "start_time": "2022-06-24T13:10:07.144Z"
   },
   {
    "duration": 5,
    "start_time": "2022-06-24T13:11:05.193Z"
   },
   {
    "duration": 8,
    "start_time": "2022-06-24T13:11:05.525Z"
   },
   {
    "duration": 5,
    "start_time": "2022-06-24T13:11:08.487Z"
   },
   {
    "duration": 5,
    "start_time": "2022-06-24T13:11:08.690Z"
   },
   {
    "duration": 12,
    "start_time": "2022-06-24T13:11:08.838Z"
   },
   {
    "duration": 15,
    "start_time": "2022-06-24T13:11:08.998Z"
   },
   {
    "duration": 6,
    "start_time": "2022-06-24T13:11:19.606Z"
   },
   {
    "duration": 6,
    "start_time": "2022-06-24T13:11:19.821Z"
   },
   {
    "duration": 3737,
    "start_time": "2022-06-24T13:11:19.994Z"
   },
   {
    "duration": 4,
    "start_time": "2022-06-24T13:11:30.548Z"
   },
   {
    "duration": 4,
    "start_time": "2022-06-24T13:11:30.699Z"
   },
   {
    "duration": 2267,
    "start_time": "2022-06-24T13:11:30.907Z"
   },
   {
    "duration": 10,
    "start_time": "2022-06-24T13:11:43.613Z"
   },
   {
    "duration": 4,
    "start_time": "2022-06-24T13:11:52.452Z"
   },
   {
    "duration": 5,
    "start_time": "2022-06-24T13:11:52.607Z"
   },
   {
    "duration": 2057,
    "start_time": "2022-06-24T13:11:52.802Z"
   },
   {
    "duration": 10,
    "start_time": "2022-06-24T13:11:54.861Z"
   },
   {
    "duration": 3,
    "start_time": "2022-06-24T13:12:02.347Z"
   },
   {
    "duration": 4,
    "start_time": "2022-06-24T13:12:02.621Z"
   },
   {
    "duration": 2035,
    "start_time": "2022-06-24T13:12:02.891Z"
   },
   {
    "duration": 13,
    "start_time": "2022-06-24T13:12:04.928Z"
   },
   {
    "duration": 3,
    "start_time": "2022-06-24T13:12:16.884Z"
   },
   {
    "duration": 4,
    "start_time": "2022-06-24T13:12:17.092Z"
   },
   {
    "duration": 2076,
    "start_time": "2022-06-24T13:12:18.334Z"
   },
   {
    "duration": 15,
    "start_time": "2022-06-24T13:12:20.412Z"
   },
   {
    "duration": 4,
    "start_time": "2022-06-24T13:12:30.017Z"
   },
   {
    "duration": 4,
    "start_time": "2022-06-24T13:12:30.205Z"
   },
   {
    "duration": 2092,
    "start_time": "2022-06-24T13:12:30.366Z"
   },
   {
    "duration": 10,
    "start_time": "2022-06-24T13:12:32.460Z"
   },
   {
    "duration": 3,
    "start_time": "2022-06-24T13:12:36.474Z"
   },
   {
    "duration": 4,
    "start_time": "2022-06-24T13:12:36.627Z"
   },
   {
    "duration": 2110,
    "start_time": "2022-06-24T13:12:36.780Z"
   },
   {
    "duration": 11,
    "start_time": "2022-06-24T13:12:38.892Z"
   },
   {
    "duration": 1783,
    "start_time": "2022-06-24T13:33:10.265Z"
   },
   {
    "duration": 962,
    "start_time": "2022-06-24T13:33:12.051Z"
   },
   {
    "duration": 27,
    "start_time": "2022-06-24T13:33:13.014Z"
   },
   {
    "duration": 159,
    "start_time": "2022-06-24T13:33:13.043Z"
   },
   {
    "duration": 181,
    "start_time": "2022-06-24T13:33:13.204Z"
   },
   {
    "duration": 94,
    "start_time": "2022-06-24T13:33:13.387Z"
   },
   {
    "duration": 69,
    "start_time": "2022-06-24T13:33:13.483Z"
   },
   {
    "duration": 73,
    "start_time": "2022-06-24T13:33:13.554Z"
   },
   {
    "duration": 1090,
    "start_time": "2022-06-24T13:33:13.630Z"
   },
   {
    "duration": 12,
    "start_time": "2022-06-24T13:33:14.725Z"
   },
   {
    "duration": 90,
    "start_time": "2022-06-24T13:33:14.740Z"
   },
   {
    "duration": 178,
    "start_time": "2022-06-24T13:33:14.832Z"
   },
   {
    "duration": 4,
    "start_time": "2022-06-24T13:33:15.027Z"
   },
   {
    "duration": 37,
    "start_time": "2022-06-24T13:33:15.033Z"
   },
   {
    "duration": 192,
    "start_time": "2022-06-24T13:33:15.073Z"
   },
   {
    "duration": 4,
    "start_time": "2022-06-24T13:33:15.267Z"
   },
   {
    "duration": 68,
    "start_time": "2022-06-24T13:33:15.274Z"
   },
   {
    "duration": 91,
    "start_time": "2022-06-24T13:33:15.344Z"
   },
   {
    "duration": 88,
    "start_time": "2022-06-24T13:33:15.438Z"
   },
   {
    "duration": 13,
    "start_time": "2022-06-24T13:33:15.530Z"
   },
   {
    "duration": 102,
    "start_time": "2022-06-24T13:33:15.546Z"
   },
   {
    "duration": 21,
    "start_time": "2022-06-24T13:33:15.650Z"
   },
   {
    "duration": 17,
    "start_time": "2022-06-24T13:33:15.674Z"
   },
   {
    "duration": 2136,
    "start_time": "2022-06-24T13:33:15.694Z"
   },
   {
    "duration": 16,
    "start_time": "2022-06-24T13:33:17.832Z"
   }
  ],
  "kernelspec": {
   "display_name": "Python 3",
   "language": "python",
   "name": "python3"
  },
  "language_info": {
   "codemirror_mode": {
    "name": "ipython",
    "version": 3
   },
   "file_extension": ".py",
   "mimetype": "text/x-python",
   "name": "python",
   "nbconvert_exporter": "python",
   "pygments_lexer": "ipython3",
   "version": "3.8.8"
  },
  "toc": {
   "base_numbering": 1,
   "nav_menu": {},
   "number_sections": true,
   "sideBar": true,
   "skip_h1_title": true,
   "title_cell": "Table of Contents",
   "title_sidebar": "Contents",
   "toc_cell": false,
   "toc_position": {
    "height": "calc(100% - 180px)",
    "left": "10px",
    "top": "150px",
    "width": "165px"
   },
   "toc_section_display": true,
   "toc_window_display": false
  }
 },
 "nbformat": 4,
 "nbformat_minor": 2
}
